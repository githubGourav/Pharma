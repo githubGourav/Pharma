{
  "cells": [
    {
      "cell_type": "markdown",
      "metadata": {
        "id": "ad63093b"
      },
      "source": [
        "# Task 2 - Prediction of store sales\n"
      ],
      "id": "ad63093b"
    },
    {
      "cell_type": "code",
      "execution_count": 68,
      "metadata": {
        "colab": {
          "base_uri": "https://localhost:8080/"
        },
        "id": "upuj4r04kDjr",
        "outputId": "abfc01b1-801d-418b-e1b0-81a3bd9f639d"
      },
      "outputs": [
        {
          "output_type": "stream",
          "name": "stdout",
          "text": [
            "Drive already mounted at /content/drive; to attempt to forcibly remount, call drive.mount(\"/content/drive\", force_remount=True).\n"
          ]
        }
      ],
      "source": [
        "from google.colab import drive\n",
        "drive.mount('/content/drive')"
      ],
      "id": "upuj4r04kDjr"
    },
    {
      "cell_type": "markdown",
      "metadata": {
        "id": "50536bd0"
      },
      "source": [
        "Prediction of sales is the central task in this challenge. you want to predict daily sales in\n",
        "various stores up to 6 weeks ahead of time. This will help the company plan ahead of\n",
        "time.\n"
      ],
      "id": "50536bd0"
    },
    {
      "cell_type": "code",
      "execution_count": 69,
      "metadata": {
        "id": "87044b13"
      },
      "outputs": [],
      "source": [
        "import numpy as np\n",
        "import pandas as pd\n",
        "import seaborn as sns\n",
        "sns.set()\n",
        "import matplotlib.pyplot as plt\n",
        "%matplotlib inline\n",
        "from sklearn.model_selection import train_test_split\n",
        "from sklearn.compose import ColumnTransformer\n",
        "from sklearn.pipeline import Pipeline\n",
        "from sklearn.preprocessing import StandardScaler, OneHotEncoder\n",
        "from sklearn.ensemble import RandomForestRegressor\n",
        "import warnings\n",
        "warnings.filterwarnings('ignore')"
      ],
      "id": "87044b13"
    },
    {
      "cell_type": "code",
      "execution_count": 70,
      "metadata": {
        "id": "8b7bdce7"
      },
      "outputs": [],
      "source": [
        "\n",
        "train_data = pd.read_csv(\"/content/drive/MyDrive/train.csv\")\n",
        "test_data = pd.read_csv(\"/content/drive/MyDrive/test.csv\")\n",
        "store = pd.read_csv(\"/content/drive/MyDrive/store.csv\")\n"
      ],
      "id": "8b7bdce7"
    },
    {
      "cell_type": "code",
      "execution_count": 71,
      "metadata": {
        "colab": {
          "base_uri": "https://localhost:8080/"
        },
        "id": "0e40db22",
        "outputId": "9ea63abc-7169-4fee-d3c0-8a8412f9cd05"
      },
      "outputs": [
        {
          "output_type": "execute_result",
          "data": {
            "text/plain": [
              "(1115, 10)"
            ]
          },
          "metadata": {},
          "execution_count": 71
        }
      ],
      "source": [
        "store.shape"
      ],
      "id": "0e40db22"
    },
    {
      "cell_type": "code",
      "execution_count": 72,
      "metadata": {
        "colab": {
          "base_uri": "https://localhost:8080/"
        },
        "id": "7ef31a0d",
        "outputId": "5d0d3ff9-f16c-48f4-9ad3-6c67bb95f305"
      },
      "outputs": [
        {
          "output_type": "execute_result",
          "data": {
            "text/plain": [
              "(1017209, 9)"
            ]
          },
          "metadata": {},
          "execution_count": 72
        }
      ],
      "source": [
        "train_data.shape"
      ],
      "id": "7ef31a0d"
    },
    {
      "cell_type": "code",
      "execution_count": 73,
      "metadata": {
        "colab": {
          "base_uri": "https://localhost:8080/"
        },
        "id": "f5cf82af",
        "outputId": "b5ec5180-82dd-4db1-9b3f-d410ad7b1774"
      },
      "outputs": [
        {
          "output_type": "execute_result",
          "data": {
            "text/plain": [
              "(41088, 8)"
            ]
          },
          "metadata": {},
          "execution_count": 73
        }
      ],
      "source": [
        "test_data.shape"
      ],
      "id": "f5cf82af"
    },
    {
      "cell_type": "markdown",
      "metadata": {
        "id": "057173cd"
      },
      "source": [
        "# 2.1 Preprocessing\n",
        "\n",
        "#### It is important to process the data into a format where it can be fed to a machine learning model. This typically means converting all non-numeric columns to numeric, handling NaN values and generating new features from already existing features."
      ],
      "id": "057173cd"
    },
    {
      "cell_type": "code",
      "execution_count": 74,
      "metadata": {
        "colab": {
          "base_uri": "https://localhost:8080/",
          "height": 206
        },
        "id": "35d3bea9",
        "outputId": "0995dff4-01a1-45ce-c184-7131e7c51e00"
      },
      "outputs": [
        {
          "output_type": "execute_result",
          "data": {
            "text/plain": [
              "   Store  DayOfWeek        Date  Sales  Customers  Open  Promo StateHoliday  \\\n",
              "0      1          5  2015-07-31   5263        555     1      1            0   \n",
              "1      2          5  2015-07-31   6064        625     1      1            0   \n",
              "2      3          5  2015-07-31   8314        821     1      1            0   \n",
              "3      4          5  2015-07-31  13995       1498     1      1            0   \n",
              "4      5          5  2015-07-31   4822        559     1      1            0   \n",
              "\n",
              "   SchoolHoliday  \n",
              "0              1  \n",
              "1              1  \n",
              "2              1  \n",
              "3              1  \n",
              "4              1  "
            ],
            "text/html": [
              "\n",
              "  <div id=\"df-d8f4387f-d117-4b95-9635-40d293b55d78\" class=\"colab-df-container\">\n",
              "    <div>\n",
              "<style scoped>\n",
              "    .dataframe tbody tr th:only-of-type {\n",
              "        vertical-align: middle;\n",
              "    }\n",
              "\n",
              "    .dataframe tbody tr th {\n",
              "        vertical-align: top;\n",
              "    }\n",
              "\n",
              "    .dataframe thead th {\n",
              "        text-align: right;\n",
              "    }\n",
              "</style>\n",
              "<table border=\"1\" class=\"dataframe\">\n",
              "  <thead>\n",
              "    <tr style=\"text-align: right;\">\n",
              "      <th></th>\n",
              "      <th>Store</th>\n",
              "      <th>DayOfWeek</th>\n",
              "      <th>Date</th>\n",
              "      <th>Sales</th>\n",
              "      <th>Customers</th>\n",
              "      <th>Open</th>\n",
              "      <th>Promo</th>\n",
              "      <th>StateHoliday</th>\n",
              "      <th>SchoolHoliday</th>\n",
              "    </tr>\n",
              "  </thead>\n",
              "  <tbody>\n",
              "    <tr>\n",
              "      <th>0</th>\n",
              "      <td>1</td>\n",
              "      <td>5</td>\n",
              "      <td>2015-07-31</td>\n",
              "      <td>5263</td>\n",
              "      <td>555</td>\n",
              "      <td>1</td>\n",
              "      <td>1</td>\n",
              "      <td>0</td>\n",
              "      <td>1</td>\n",
              "    </tr>\n",
              "    <tr>\n",
              "      <th>1</th>\n",
              "      <td>2</td>\n",
              "      <td>5</td>\n",
              "      <td>2015-07-31</td>\n",
              "      <td>6064</td>\n",
              "      <td>625</td>\n",
              "      <td>1</td>\n",
              "      <td>1</td>\n",
              "      <td>0</td>\n",
              "      <td>1</td>\n",
              "    </tr>\n",
              "    <tr>\n",
              "      <th>2</th>\n",
              "      <td>3</td>\n",
              "      <td>5</td>\n",
              "      <td>2015-07-31</td>\n",
              "      <td>8314</td>\n",
              "      <td>821</td>\n",
              "      <td>1</td>\n",
              "      <td>1</td>\n",
              "      <td>0</td>\n",
              "      <td>1</td>\n",
              "    </tr>\n",
              "    <tr>\n",
              "      <th>3</th>\n",
              "      <td>4</td>\n",
              "      <td>5</td>\n",
              "      <td>2015-07-31</td>\n",
              "      <td>13995</td>\n",
              "      <td>1498</td>\n",
              "      <td>1</td>\n",
              "      <td>1</td>\n",
              "      <td>0</td>\n",
              "      <td>1</td>\n",
              "    </tr>\n",
              "    <tr>\n",
              "      <th>4</th>\n",
              "      <td>5</td>\n",
              "      <td>5</td>\n",
              "      <td>2015-07-31</td>\n",
              "      <td>4822</td>\n",
              "      <td>559</td>\n",
              "      <td>1</td>\n",
              "      <td>1</td>\n",
              "      <td>0</td>\n",
              "      <td>1</td>\n",
              "    </tr>\n",
              "  </tbody>\n",
              "</table>\n",
              "</div>\n",
              "    <div class=\"colab-df-buttons\">\n",
              "\n",
              "  <div class=\"colab-df-container\">\n",
              "    <button class=\"colab-df-convert\" onclick=\"convertToInteractive('df-d8f4387f-d117-4b95-9635-40d293b55d78')\"\n",
              "            title=\"Convert this dataframe to an interactive table.\"\n",
              "            style=\"display:none;\">\n",
              "\n",
              "  <svg xmlns=\"http://www.w3.org/2000/svg\" height=\"24px\" viewBox=\"0 -960 960 960\">\n",
              "    <path d=\"M120-120v-720h720v720H120Zm60-500h600v-160H180v160Zm220 220h160v-160H400v160Zm0 220h160v-160H400v160ZM180-400h160v-160H180v160Zm440 0h160v-160H620v160ZM180-180h160v-160H180v160Zm440 0h160v-160H620v160Z\"/>\n",
              "  </svg>\n",
              "    </button>\n",
              "\n",
              "  <style>\n",
              "    .colab-df-container {\n",
              "      display:flex;\n",
              "      gap: 12px;\n",
              "    }\n",
              "\n",
              "    .colab-df-convert {\n",
              "      background-color: #E8F0FE;\n",
              "      border: none;\n",
              "      border-radius: 50%;\n",
              "      cursor: pointer;\n",
              "      display: none;\n",
              "      fill: #1967D2;\n",
              "      height: 32px;\n",
              "      padding: 0 0 0 0;\n",
              "      width: 32px;\n",
              "    }\n",
              "\n",
              "    .colab-df-convert:hover {\n",
              "      background-color: #E2EBFA;\n",
              "      box-shadow: 0px 1px 2px rgba(60, 64, 67, 0.3), 0px 1px 3px 1px rgba(60, 64, 67, 0.15);\n",
              "      fill: #174EA6;\n",
              "    }\n",
              "\n",
              "    .colab-df-buttons div {\n",
              "      margin-bottom: 4px;\n",
              "    }\n",
              "\n",
              "    [theme=dark] .colab-df-convert {\n",
              "      background-color: #3B4455;\n",
              "      fill: #D2E3FC;\n",
              "    }\n",
              "\n",
              "    [theme=dark] .colab-df-convert:hover {\n",
              "      background-color: #434B5C;\n",
              "      box-shadow: 0px 1px 3px 1px rgba(0, 0, 0, 0.15);\n",
              "      filter: drop-shadow(0px 1px 2px rgba(0, 0, 0, 0.3));\n",
              "      fill: #FFFFFF;\n",
              "    }\n",
              "  </style>\n",
              "\n",
              "    <script>\n",
              "      const buttonEl =\n",
              "        document.querySelector('#df-d8f4387f-d117-4b95-9635-40d293b55d78 button.colab-df-convert');\n",
              "      buttonEl.style.display =\n",
              "        google.colab.kernel.accessAllowed ? 'block' : 'none';\n",
              "\n",
              "      async function convertToInteractive(key) {\n",
              "        const element = document.querySelector('#df-d8f4387f-d117-4b95-9635-40d293b55d78');\n",
              "        const dataTable =\n",
              "          await google.colab.kernel.invokeFunction('convertToInteractive',\n",
              "                                                    [key], {});\n",
              "        if (!dataTable) return;\n",
              "\n",
              "        const docLinkHtml = 'Like what you see? Visit the ' +\n",
              "          '<a target=\"_blank\" href=https://colab.research.google.com/notebooks/data_table.ipynb>data table notebook</a>'\n",
              "          + ' to learn more about interactive tables.';\n",
              "        element.innerHTML = '';\n",
              "        dataTable['output_type'] = 'display_data';\n",
              "        await google.colab.output.renderOutput(dataTable, element);\n",
              "        const docLink = document.createElement('div');\n",
              "        docLink.innerHTML = docLinkHtml;\n",
              "        element.appendChild(docLink);\n",
              "      }\n",
              "    </script>\n",
              "  </div>\n",
              "\n",
              "\n",
              "<div id=\"df-c5e5f53b-eb37-4868-8a28-17276196a398\">\n",
              "  <button class=\"colab-df-quickchart\" onclick=\"quickchart('df-c5e5f53b-eb37-4868-8a28-17276196a398')\"\n",
              "            title=\"Suggest charts.\"\n",
              "            style=\"display:none;\">\n",
              "\n",
              "<svg xmlns=\"http://www.w3.org/2000/svg\" height=\"24px\"viewBox=\"0 0 24 24\"\n",
              "     width=\"24px\">\n",
              "    <g>\n",
              "        <path d=\"M19 3H5c-1.1 0-2 .9-2 2v14c0 1.1.9 2 2 2h14c1.1 0 2-.9 2-2V5c0-1.1-.9-2-2-2zM9 17H7v-7h2v7zm4 0h-2V7h2v10zm4 0h-2v-4h2v4z\"/>\n",
              "    </g>\n",
              "</svg>\n",
              "  </button>\n",
              "\n",
              "<style>\n",
              "  .colab-df-quickchart {\n",
              "    background-color: #E8F0FE;\n",
              "    border: none;\n",
              "    border-radius: 50%;\n",
              "    cursor: pointer;\n",
              "    display: none;\n",
              "    fill: #1967D2;\n",
              "    height: 32px;\n",
              "    padding: 0 0 0 0;\n",
              "    width: 32px;\n",
              "  }\n",
              "\n",
              "  .colab-df-quickchart:hover {\n",
              "    background-color: #E2EBFA;\n",
              "    box-shadow: 0px 1px 2px rgba(60, 64, 67, 0.3), 0px 1px 3px 1px rgba(60, 64, 67, 0.15);\n",
              "    fill: #174EA6;\n",
              "  }\n",
              "\n",
              "  [theme=dark] .colab-df-quickchart {\n",
              "    background-color: #3B4455;\n",
              "    fill: #D2E3FC;\n",
              "  }\n",
              "\n",
              "  [theme=dark] .colab-df-quickchart:hover {\n",
              "    background-color: #434B5C;\n",
              "    box-shadow: 0px 1px 3px 1px rgba(0, 0, 0, 0.15);\n",
              "    filter: drop-shadow(0px 1px 2px rgba(0, 0, 0, 0.3));\n",
              "    fill: #FFFFFF;\n",
              "  }\n",
              "</style>\n",
              "\n",
              "  <script>\n",
              "    async function quickchart(key) {\n",
              "      const charts = await google.colab.kernel.invokeFunction(\n",
              "          'suggestCharts', [key], {});\n",
              "    }\n",
              "    (() => {\n",
              "      let quickchartButtonEl =\n",
              "        document.querySelector('#df-c5e5f53b-eb37-4868-8a28-17276196a398 button');\n",
              "      quickchartButtonEl.style.display =\n",
              "        google.colab.kernel.accessAllowed ? 'block' : 'none';\n",
              "    })();\n",
              "  </script>\n",
              "</div>\n",
              "    </div>\n",
              "  </div>\n"
            ]
          },
          "metadata": {},
          "execution_count": 74
        }
      ],
      "source": [
        "train_data.head()"
      ],
      "id": "35d3bea9"
    },
    {
      "cell_type": "code",
      "execution_count": 75,
      "metadata": {
        "colab": {
          "base_uri": "https://localhost:8080/",
          "height": 206
        },
        "id": "b66aec78",
        "outputId": "69068b8a-1cce-4901-dfbb-ba5374358aac"
      },
      "outputs": [
        {
          "output_type": "execute_result",
          "data": {
            "text/plain": [
              "   Id  Store  DayOfWeek        Date  Open  Promo StateHoliday  SchoolHoliday\n",
              "0   1      1          4  2015-09-17   1.0      1            0              0\n",
              "1   2      3          4  2015-09-17   1.0      1            0              0\n",
              "2   3      7          4  2015-09-17   1.0      1            0              0\n",
              "3   4      8          4  2015-09-17   1.0      1            0              0\n",
              "4   5      9          4  2015-09-17   1.0      1            0              0"
            ],
            "text/html": [
              "\n",
              "  <div id=\"df-b94471ae-2fc4-4441-ac7e-6c34c4368d4f\" class=\"colab-df-container\">\n",
              "    <div>\n",
              "<style scoped>\n",
              "    .dataframe tbody tr th:only-of-type {\n",
              "        vertical-align: middle;\n",
              "    }\n",
              "\n",
              "    .dataframe tbody tr th {\n",
              "        vertical-align: top;\n",
              "    }\n",
              "\n",
              "    .dataframe thead th {\n",
              "        text-align: right;\n",
              "    }\n",
              "</style>\n",
              "<table border=\"1\" class=\"dataframe\">\n",
              "  <thead>\n",
              "    <tr style=\"text-align: right;\">\n",
              "      <th></th>\n",
              "      <th>Id</th>\n",
              "      <th>Store</th>\n",
              "      <th>DayOfWeek</th>\n",
              "      <th>Date</th>\n",
              "      <th>Open</th>\n",
              "      <th>Promo</th>\n",
              "      <th>StateHoliday</th>\n",
              "      <th>SchoolHoliday</th>\n",
              "    </tr>\n",
              "  </thead>\n",
              "  <tbody>\n",
              "    <tr>\n",
              "      <th>0</th>\n",
              "      <td>1</td>\n",
              "      <td>1</td>\n",
              "      <td>4</td>\n",
              "      <td>2015-09-17</td>\n",
              "      <td>1.0</td>\n",
              "      <td>1</td>\n",
              "      <td>0</td>\n",
              "      <td>0</td>\n",
              "    </tr>\n",
              "    <tr>\n",
              "      <th>1</th>\n",
              "      <td>2</td>\n",
              "      <td>3</td>\n",
              "      <td>4</td>\n",
              "      <td>2015-09-17</td>\n",
              "      <td>1.0</td>\n",
              "      <td>1</td>\n",
              "      <td>0</td>\n",
              "      <td>0</td>\n",
              "    </tr>\n",
              "    <tr>\n",
              "      <th>2</th>\n",
              "      <td>3</td>\n",
              "      <td>7</td>\n",
              "      <td>4</td>\n",
              "      <td>2015-09-17</td>\n",
              "      <td>1.0</td>\n",
              "      <td>1</td>\n",
              "      <td>0</td>\n",
              "      <td>0</td>\n",
              "    </tr>\n",
              "    <tr>\n",
              "      <th>3</th>\n",
              "      <td>4</td>\n",
              "      <td>8</td>\n",
              "      <td>4</td>\n",
              "      <td>2015-09-17</td>\n",
              "      <td>1.0</td>\n",
              "      <td>1</td>\n",
              "      <td>0</td>\n",
              "      <td>0</td>\n",
              "    </tr>\n",
              "    <tr>\n",
              "      <th>4</th>\n",
              "      <td>5</td>\n",
              "      <td>9</td>\n",
              "      <td>4</td>\n",
              "      <td>2015-09-17</td>\n",
              "      <td>1.0</td>\n",
              "      <td>1</td>\n",
              "      <td>0</td>\n",
              "      <td>0</td>\n",
              "    </tr>\n",
              "  </tbody>\n",
              "</table>\n",
              "</div>\n",
              "    <div class=\"colab-df-buttons\">\n",
              "\n",
              "  <div class=\"colab-df-container\">\n",
              "    <button class=\"colab-df-convert\" onclick=\"convertToInteractive('df-b94471ae-2fc4-4441-ac7e-6c34c4368d4f')\"\n",
              "            title=\"Convert this dataframe to an interactive table.\"\n",
              "            style=\"display:none;\">\n",
              "\n",
              "  <svg xmlns=\"http://www.w3.org/2000/svg\" height=\"24px\" viewBox=\"0 -960 960 960\">\n",
              "    <path d=\"M120-120v-720h720v720H120Zm60-500h600v-160H180v160Zm220 220h160v-160H400v160Zm0 220h160v-160H400v160ZM180-400h160v-160H180v160Zm440 0h160v-160H620v160ZM180-180h160v-160H180v160Zm440 0h160v-160H620v160Z\"/>\n",
              "  </svg>\n",
              "    </button>\n",
              "\n",
              "  <style>\n",
              "    .colab-df-container {\n",
              "      display:flex;\n",
              "      gap: 12px;\n",
              "    }\n",
              "\n",
              "    .colab-df-convert {\n",
              "      background-color: #E8F0FE;\n",
              "      border: none;\n",
              "      border-radius: 50%;\n",
              "      cursor: pointer;\n",
              "      display: none;\n",
              "      fill: #1967D2;\n",
              "      height: 32px;\n",
              "      padding: 0 0 0 0;\n",
              "      width: 32px;\n",
              "    }\n",
              "\n",
              "    .colab-df-convert:hover {\n",
              "      background-color: #E2EBFA;\n",
              "      box-shadow: 0px 1px 2px rgba(60, 64, 67, 0.3), 0px 1px 3px 1px rgba(60, 64, 67, 0.15);\n",
              "      fill: #174EA6;\n",
              "    }\n",
              "\n",
              "    .colab-df-buttons div {\n",
              "      margin-bottom: 4px;\n",
              "    }\n",
              "\n",
              "    [theme=dark] .colab-df-convert {\n",
              "      background-color: #3B4455;\n",
              "      fill: #D2E3FC;\n",
              "    }\n",
              "\n",
              "    [theme=dark] .colab-df-convert:hover {\n",
              "      background-color: #434B5C;\n",
              "      box-shadow: 0px 1px 3px 1px rgba(0, 0, 0, 0.15);\n",
              "      filter: drop-shadow(0px 1px 2px rgba(0, 0, 0, 0.3));\n",
              "      fill: #FFFFFF;\n",
              "    }\n",
              "  </style>\n",
              "\n",
              "    <script>\n",
              "      const buttonEl =\n",
              "        document.querySelector('#df-b94471ae-2fc4-4441-ac7e-6c34c4368d4f button.colab-df-convert');\n",
              "      buttonEl.style.display =\n",
              "        google.colab.kernel.accessAllowed ? 'block' : 'none';\n",
              "\n",
              "      async function convertToInteractive(key) {\n",
              "        const element = document.querySelector('#df-b94471ae-2fc4-4441-ac7e-6c34c4368d4f');\n",
              "        const dataTable =\n",
              "          await google.colab.kernel.invokeFunction('convertToInteractive',\n",
              "                                                    [key], {});\n",
              "        if (!dataTable) return;\n",
              "\n",
              "        const docLinkHtml = 'Like what you see? Visit the ' +\n",
              "          '<a target=\"_blank\" href=https://colab.research.google.com/notebooks/data_table.ipynb>data table notebook</a>'\n",
              "          + ' to learn more about interactive tables.';\n",
              "        element.innerHTML = '';\n",
              "        dataTable['output_type'] = 'display_data';\n",
              "        await google.colab.output.renderOutput(dataTable, element);\n",
              "        const docLink = document.createElement('div');\n",
              "        docLink.innerHTML = docLinkHtml;\n",
              "        element.appendChild(docLink);\n",
              "      }\n",
              "    </script>\n",
              "  </div>\n",
              "\n",
              "\n",
              "<div id=\"df-8e9276fe-a01f-40b7-a7ef-66ffd4b707c8\">\n",
              "  <button class=\"colab-df-quickchart\" onclick=\"quickchart('df-8e9276fe-a01f-40b7-a7ef-66ffd4b707c8')\"\n",
              "            title=\"Suggest charts.\"\n",
              "            style=\"display:none;\">\n",
              "\n",
              "<svg xmlns=\"http://www.w3.org/2000/svg\" height=\"24px\"viewBox=\"0 0 24 24\"\n",
              "     width=\"24px\">\n",
              "    <g>\n",
              "        <path d=\"M19 3H5c-1.1 0-2 .9-2 2v14c0 1.1.9 2 2 2h14c1.1 0 2-.9 2-2V5c0-1.1-.9-2-2-2zM9 17H7v-7h2v7zm4 0h-2V7h2v10zm4 0h-2v-4h2v4z\"/>\n",
              "    </g>\n",
              "</svg>\n",
              "  </button>\n",
              "\n",
              "<style>\n",
              "  .colab-df-quickchart {\n",
              "    background-color: #E8F0FE;\n",
              "    border: none;\n",
              "    border-radius: 50%;\n",
              "    cursor: pointer;\n",
              "    display: none;\n",
              "    fill: #1967D2;\n",
              "    height: 32px;\n",
              "    padding: 0 0 0 0;\n",
              "    width: 32px;\n",
              "  }\n",
              "\n",
              "  .colab-df-quickchart:hover {\n",
              "    background-color: #E2EBFA;\n",
              "    box-shadow: 0px 1px 2px rgba(60, 64, 67, 0.3), 0px 1px 3px 1px rgba(60, 64, 67, 0.15);\n",
              "    fill: #174EA6;\n",
              "  }\n",
              "\n",
              "  [theme=dark] .colab-df-quickchart {\n",
              "    background-color: #3B4455;\n",
              "    fill: #D2E3FC;\n",
              "  }\n",
              "\n",
              "  [theme=dark] .colab-df-quickchart:hover {\n",
              "    background-color: #434B5C;\n",
              "    box-shadow: 0px 1px 3px 1px rgba(0, 0, 0, 0.15);\n",
              "    filter: drop-shadow(0px 1px 2px rgba(0, 0, 0, 0.3));\n",
              "    fill: #FFFFFF;\n",
              "  }\n",
              "</style>\n",
              "\n",
              "  <script>\n",
              "    async function quickchart(key) {\n",
              "      const charts = await google.colab.kernel.invokeFunction(\n",
              "          'suggestCharts', [key], {});\n",
              "    }\n",
              "    (() => {\n",
              "      let quickchartButtonEl =\n",
              "        document.querySelector('#df-8e9276fe-a01f-40b7-a7ef-66ffd4b707c8 button');\n",
              "      quickchartButtonEl.style.display =\n",
              "        google.colab.kernel.accessAllowed ? 'block' : 'none';\n",
              "    })();\n",
              "  </script>\n",
              "</div>\n",
              "    </div>\n",
              "  </div>\n"
            ]
          },
          "metadata": {},
          "execution_count": 75
        }
      ],
      "source": [
        "test_data.head()"
      ],
      "id": "b66aec78"
    },
    {
      "cell_type": "markdown",
      "metadata": {
        "id": "1d0b55b8"
      },
      "source": [
        "# Merge data"
      ],
      "id": "1d0b55b8"
    },
    {
      "cell_type": "code",
      "execution_count": 76,
      "metadata": {
        "colab": {
          "base_uri": "https://localhost:8080/",
          "height": 617
        },
        "id": "7f022346",
        "outputId": "5a459e41-dc9f-46c7-d72b-415b76bd93e6"
      },
      "outputs": [
        {
          "output_type": "execute_result",
          "data": {
            "text/plain": [
              "         Store  DayOfWeek        Date  Sales  Customers  Open  Promo  \\\n",
              "0            1          5  2015-07-31   5263        555     1      1   \n",
              "1            2          5  2015-07-31   6064        625     1      1   \n",
              "2            3          5  2015-07-31   8314        821     1      1   \n",
              "3            4          5  2015-07-31  13995       1498     1      1   \n",
              "4            5          5  2015-07-31   4822        559     1      1   \n",
              "...        ...        ...         ...    ...        ...   ...    ...   \n",
              "1017204   1111          2  2013-01-01      0          0     0      0   \n",
              "1017205   1112          2  2013-01-01      0          0     0      0   \n",
              "1017206   1113          2  2013-01-01      0          0     0      0   \n",
              "1017207   1114          2  2013-01-01      0          0     0      0   \n",
              "1017208   1115          2  2013-01-01      0          0     0      0   \n",
              "\n",
              "        StateHoliday  SchoolHoliday StoreType Assortment  CompetitionDistance  \\\n",
              "0                  0              1         c          a               1270.0   \n",
              "1                  0              1         a          a                570.0   \n",
              "2                  0              1         a          a              14130.0   \n",
              "3                  0              1         c          c                620.0   \n",
              "4                  0              1         a          a              29910.0   \n",
              "...              ...            ...       ...        ...                  ...   \n",
              "1017204            a              1         a          a               1900.0   \n",
              "1017205            a              1         c          c               1880.0   \n",
              "1017206            a              1         a          c               9260.0   \n",
              "1017207            a              1         a          c                870.0   \n",
              "1017208            a              1         d          c               5350.0   \n",
              "\n",
              "         CompetitionOpenSinceMonth  CompetitionOpenSinceYear  Promo2  \\\n",
              "0                              9.0                    2008.0       0   \n",
              "1                             11.0                    2007.0       1   \n",
              "2                             12.0                    2006.0       1   \n",
              "3                              9.0                    2009.0       0   \n",
              "4                              4.0                    2015.0       0   \n",
              "...                            ...                       ...     ...   \n",
              "1017204                        6.0                    2014.0       1   \n",
              "1017205                        4.0                    2006.0       0   \n",
              "1017206                        NaN                       NaN       0   \n",
              "1017207                        NaN                       NaN       0   \n",
              "1017208                        NaN                       NaN       1   \n",
              "\n",
              "         Promo2SinceWeek  Promo2SinceYear     PromoInterval  \n",
              "0                    NaN              NaN               NaN  \n",
              "1                   13.0           2010.0   Jan,Apr,Jul,Oct  \n",
              "2                   14.0           2011.0   Jan,Apr,Jul,Oct  \n",
              "3                    NaN              NaN               NaN  \n",
              "4                    NaN              NaN               NaN  \n",
              "...                  ...              ...               ...  \n",
              "1017204             31.0           2013.0   Jan,Apr,Jul,Oct  \n",
              "1017205              NaN              NaN               NaN  \n",
              "1017206              NaN              NaN               NaN  \n",
              "1017207              NaN              NaN               NaN  \n",
              "1017208             22.0           2012.0  Mar,Jun,Sept,Dec  \n",
              "\n",
              "[1017209 rows x 18 columns]"
            ],
            "text/html": [
              "\n",
              "  <div id=\"df-8db240ae-47c9-4d5d-be08-a26a69911ad6\" class=\"colab-df-container\">\n",
              "    <div>\n",
              "<style scoped>\n",
              "    .dataframe tbody tr th:only-of-type {\n",
              "        vertical-align: middle;\n",
              "    }\n",
              "\n",
              "    .dataframe tbody tr th {\n",
              "        vertical-align: top;\n",
              "    }\n",
              "\n",
              "    .dataframe thead th {\n",
              "        text-align: right;\n",
              "    }\n",
              "</style>\n",
              "<table border=\"1\" class=\"dataframe\">\n",
              "  <thead>\n",
              "    <tr style=\"text-align: right;\">\n",
              "      <th></th>\n",
              "      <th>Store</th>\n",
              "      <th>DayOfWeek</th>\n",
              "      <th>Date</th>\n",
              "      <th>Sales</th>\n",
              "      <th>Customers</th>\n",
              "      <th>Open</th>\n",
              "      <th>Promo</th>\n",
              "      <th>StateHoliday</th>\n",
              "      <th>SchoolHoliday</th>\n",
              "      <th>StoreType</th>\n",
              "      <th>Assortment</th>\n",
              "      <th>CompetitionDistance</th>\n",
              "      <th>CompetitionOpenSinceMonth</th>\n",
              "      <th>CompetitionOpenSinceYear</th>\n",
              "      <th>Promo2</th>\n",
              "      <th>Promo2SinceWeek</th>\n",
              "      <th>Promo2SinceYear</th>\n",
              "      <th>PromoInterval</th>\n",
              "    </tr>\n",
              "  </thead>\n",
              "  <tbody>\n",
              "    <tr>\n",
              "      <th>0</th>\n",
              "      <td>1</td>\n",
              "      <td>5</td>\n",
              "      <td>2015-07-31</td>\n",
              "      <td>5263</td>\n",
              "      <td>555</td>\n",
              "      <td>1</td>\n",
              "      <td>1</td>\n",
              "      <td>0</td>\n",
              "      <td>1</td>\n",
              "      <td>c</td>\n",
              "      <td>a</td>\n",
              "      <td>1270.0</td>\n",
              "      <td>9.0</td>\n",
              "      <td>2008.0</td>\n",
              "      <td>0</td>\n",
              "      <td>NaN</td>\n",
              "      <td>NaN</td>\n",
              "      <td>NaN</td>\n",
              "    </tr>\n",
              "    <tr>\n",
              "      <th>1</th>\n",
              "      <td>2</td>\n",
              "      <td>5</td>\n",
              "      <td>2015-07-31</td>\n",
              "      <td>6064</td>\n",
              "      <td>625</td>\n",
              "      <td>1</td>\n",
              "      <td>1</td>\n",
              "      <td>0</td>\n",
              "      <td>1</td>\n",
              "      <td>a</td>\n",
              "      <td>a</td>\n",
              "      <td>570.0</td>\n",
              "      <td>11.0</td>\n",
              "      <td>2007.0</td>\n",
              "      <td>1</td>\n",
              "      <td>13.0</td>\n",
              "      <td>2010.0</td>\n",
              "      <td>Jan,Apr,Jul,Oct</td>\n",
              "    </tr>\n",
              "    <tr>\n",
              "      <th>2</th>\n",
              "      <td>3</td>\n",
              "      <td>5</td>\n",
              "      <td>2015-07-31</td>\n",
              "      <td>8314</td>\n",
              "      <td>821</td>\n",
              "      <td>1</td>\n",
              "      <td>1</td>\n",
              "      <td>0</td>\n",
              "      <td>1</td>\n",
              "      <td>a</td>\n",
              "      <td>a</td>\n",
              "      <td>14130.0</td>\n",
              "      <td>12.0</td>\n",
              "      <td>2006.0</td>\n",
              "      <td>1</td>\n",
              "      <td>14.0</td>\n",
              "      <td>2011.0</td>\n",
              "      <td>Jan,Apr,Jul,Oct</td>\n",
              "    </tr>\n",
              "    <tr>\n",
              "      <th>3</th>\n",
              "      <td>4</td>\n",
              "      <td>5</td>\n",
              "      <td>2015-07-31</td>\n",
              "      <td>13995</td>\n",
              "      <td>1498</td>\n",
              "      <td>1</td>\n",
              "      <td>1</td>\n",
              "      <td>0</td>\n",
              "      <td>1</td>\n",
              "      <td>c</td>\n",
              "      <td>c</td>\n",
              "      <td>620.0</td>\n",
              "      <td>9.0</td>\n",
              "      <td>2009.0</td>\n",
              "      <td>0</td>\n",
              "      <td>NaN</td>\n",
              "      <td>NaN</td>\n",
              "      <td>NaN</td>\n",
              "    </tr>\n",
              "    <tr>\n",
              "      <th>4</th>\n",
              "      <td>5</td>\n",
              "      <td>5</td>\n",
              "      <td>2015-07-31</td>\n",
              "      <td>4822</td>\n",
              "      <td>559</td>\n",
              "      <td>1</td>\n",
              "      <td>1</td>\n",
              "      <td>0</td>\n",
              "      <td>1</td>\n",
              "      <td>a</td>\n",
              "      <td>a</td>\n",
              "      <td>29910.0</td>\n",
              "      <td>4.0</td>\n",
              "      <td>2015.0</td>\n",
              "      <td>0</td>\n",
              "      <td>NaN</td>\n",
              "      <td>NaN</td>\n",
              "      <td>NaN</td>\n",
              "    </tr>\n",
              "    <tr>\n",
              "      <th>...</th>\n",
              "      <td>...</td>\n",
              "      <td>...</td>\n",
              "      <td>...</td>\n",
              "      <td>...</td>\n",
              "      <td>...</td>\n",
              "      <td>...</td>\n",
              "      <td>...</td>\n",
              "      <td>...</td>\n",
              "      <td>...</td>\n",
              "      <td>...</td>\n",
              "      <td>...</td>\n",
              "      <td>...</td>\n",
              "      <td>...</td>\n",
              "      <td>...</td>\n",
              "      <td>...</td>\n",
              "      <td>...</td>\n",
              "      <td>...</td>\n",
              "      <td>...</td>\n",
              "    </tr>\n",
              "    <tr>\n",
              "      <th>1017204</th>\n",
              "      <td>1111</td>\n",
              "      <td>2</td>\n",
              "      <td>2013-01-01</td>\n",
              "      <td>0</td>\n",
              "      <td>0</td>\n",
              "      <td>0</td>\n",
              "      <td>0</td>\n",
              "      <td>a</td>\n",
              "      <td>1</td>\n",
              "      <td>a</td>\n",
              "      <td>a</td>\n",
              "      <td>1900.0</td>\n",
              "      <td>6.0</td>\n",
              "      <td>2014.0</td>\n",
              "      <td>1</td>\n",
              "      <td>31.0</td>\n",
              "      <td>2013.0</td>\n",
              "      <td>Jan,Apr,Jul,Oct</td>\n",
              "    </tr>\n",
              "    <tr>\n",
              "      <th>1017205</th>\n",
              "      <td>1112</td>\n",
              "      <td>2</td>\n",
              "      <td>2013-01-01</td>\n",
              "      <td>0</td>\n",
              "      <td>0</td>\n",
              "      <td>0</td>\n",
              "      <td>0</td>\n",
              "      <td>a</td>\n",
              "      <td>1</td>\n",
              "      <td>c</td>\n",
              "      <td>c</td>\n",
              "      <td>1880.0</td>\n",
              "      <td>4.0</td>\n",
              "      <td>2006.0</td>\n",
              "      <td>0</td>\n",
              "      <td>NaN</td>\n",
              "      <td>NaN</td>\n",
              "      <td>NaN</td>\n",
              "    </tr>\n",
              "    <tr>\n",
              "      <th>1017206</th>\n",
              "      <td>1113</td>\n",
              "      <td>2</td>\n",
              "      <td>2013-01-01</td>\n",
              "      <td>0</td>\n",
              "      <td>0</td>\n",
              "      <td>0</td>\n",
              "      <td>0</td>\n",
              "      <td>a</td>\n",
              "      <td>1</td>\n",
              "      <td>a</td>\n",
              "      <td>c</td>\n",
              "      <td>9260.0</td>\n",
              "      <td>NaN</td>\n",
              "      <td>NaN</td>\n",
              "      <td>0</td>\n",
              "      <td>NaN</td>\n",
              "      <td>NaN</td>\n",
              "      <td>NaN</td>\n",
              "    </tr>\n",
              "    <tr>\n",
              "      <th>1017207</th>\n",
              "      <td>1114</td>\n",
              "      <td>2</td>\n",
              "      <td>2013-01-01</td>\n",
              "      <td>0</td>\n",
              "      <td>0</td>\n",
              "      <td>0</td>\n",
              "      <td>0</td>\n",
              "      <td>a</td>\n",
              "      <td>1</td>\n",
              "      <td>a</td>\n",
              "      <td>c</td>\n",
              "      <td>870.0</td>\n",
              "      <td>NaN</td>\n",
              "      <td>NaN</td>\n",
              "      <td>0</td>\n",
              "      <td>NaN</td>\n",
              "      <td>NaN</td>\n",
              "      <td>NaN</td>\n",
              "    </tr>\n",
              "    <tr>\n",
              "      <th>1017208</th>\n",
              "      <td>1115</td>\n",
              "      <td>2</td>\n",
              "      <td>2013-01-01</td>\n",
              "      <td>0</td>\n",
              "      <td>0</td>\n",
              "      <td>0</td>\n",
              "      <td>0</td>\n",
              "      <td>a</td>\n",
              "      <td>1</td>\n",
              "      <td>d</td>\n",
              "      <td>c</td>\n",
              "      <td>5350.0</td>\n",
              "      <td>NaN</td>\n",
              "      <td>NaN</td>\n",
              "      <td>1</td>\n",
              "      <td>22.0</td>\n",
              "      <td>2012.0</td>\n",
              "      <td>Mar,Jun,Sept,Dec</td>\n",
              "    </tr>\n",
              "  </tbody>\n",
              "</table>\n",
              "<p>1017209 rows × 18 columns</p>\n",
              "</div>\n",
              "    <div class=\"colab-df-buttons\">\n",
              "\n",
              "  <div class=\"colab-df-container\">\n",
              "    <button class=\"colab-df-convert\" onclick=\"convertToInteractive('df-8db240ae-47c9-4d5d-be08-a26a69911ad6')\"\n",
              "            title=\"Convert this dataframe to an interactive table.\"\n",
              "            style=\"display:none;\">\n",
              "\n",
              "  <svg xmlns=\"http://www.w3.org/2000/svg\" height=\"24px\" viewBox=\"0 -960 960 960\">\n",
              "    <path d=\"M120-120v-720h720v720H120Zm60-500h600v-160H180v160Zm220 220h160v-160H400v160Zm0 220h160v-160H400v160ZM180-400h160v-160H180v160Zm440 0h160v-160H620v160ZM180-180h160v-160H180v160Zm440 0h160v-160H620v160Z\"/>\n",
              "  </svg>\n",
              "    </button>\n",
              "\n",
              "  <style>\n",
              "    .colab-df-container {\n",
              "      display:flex;\n",
              "      gap: 12px;\n",
              "    }\n",
              "\n",
              "    .colab-df-convert {\n",
              "      background-color: #E8F0FE;\n",
              "      border: none;\n",
              "      border-radius: 50%;\n",
              "      cursor: pointer;\n",
              "      display: none;\n",
              "      fill: #1967D2;\n",
              "      height: 32px;\n",
              "      padding: 0 0 0 0;\n",
              "      width: 32px;\n",
              "    }\n",
              "\n",
              "    .colab-df-convert:hover {\n",
              "      background-color: #E2EBFA;\n",
              "      box-shadow: 0px 1px 2px rgba(60, 64, 67, 0.3), 0px 1px 3px 1px rgba(60, 64, 67, 0.15);\n",
              "      fill: #174EA6;\n",
              "    }\n",
              "\n",
              "    .colab-df-buttons div {\n",
              "      margin-bottom: 4px;\n",
              "    }\n",
              "\n",
              "    [theme=dark] .colab-df-convert {\n",
              "      background-color: #3B4455;\n",
              "      fill: #D2E3FC;\n",
              "    }\n",
              "\n",
              "    [theme=dark] .colab-df-convert:hover {\n",
              "      background-color: #434B5C;\n",
              "      box-shadow: 0px 1px 3px 1px rgba(0, 0, 0, 0.15);\n",
              "      filter: drop-shadow(0px 1px 2px rgba(0, 0, 0, 0.3));\n",
              "      fill: #FFFFFF;\n",
              "    }\n",
              "  </style>\n",
              "\n",
              "    <script>\n",
              "      const buttonEl =\n",
              "        document.querySelector('#df-8db240ae-47c9-4d5d-be08-a26a69911ad6 button.colab-df-convert');\n",
              "      buttonEl.style.display =\n",
              "        google.colab.kernel.accessAllowed ? 'block' : 'none';\n",
              "\n",
              "      async function convertToInteractive(key) {\n",
              "        const element = document.querySelector('#df-8db240ae-47c9-4d5d-be08-a26a69911ad6');\n",
              "        const dataTable =\n",
              "          await google.colab.kernel.invokeFunction('convertToInteractive',\n",
              "                                                    [key], {});\n",
              "        if (!dataTable) return;\n",
              "\n",
              "        const docLinkHtml = 'Like what you see? Visit the ' +\n",
              "          '<a target=\"_blank\" href=https://colab.research.google.com/notebooks/data_table.ipynb>data table notebook</a>'\n",
              "          + ' to learn more about interactive tables.';\n",
              "        element.innerHTML = '';\n",
              "        dataTable['output_type'] = 'display_data';\n",
              "        await google.colab.output.renderOutput(dataTable, element);\n",
              "        const docLink = document.createElement('div');\n",
              "        docLink.innerHTML = docLinkHtml;\n",
              "        element.appendChild(docLink);\n",
              "      }\n",
              "    </script>\n",
              "  </div>\n",
              "\n",
              "\n",
              "<div id=\"df-5d1bdd3a-1f70-437d-be65-bdc547d30457\">\n",
              "  <button class=\"colab-df-quickchart\" onclick=\"quickchart('df-5d1bdd3a-1f70-437d-be65-bdc547d30457')\"\n",
              "            title=\"Suggest charts.\"\n",
              "            style=\"display:none;\">\n",
              "\n",
              "<svg xmlns=\"http://www.w3.org/2000/svg\" height=\"24px\"viewBox=\"0 0 24 24\"\n",
              "     width=\"24px\">\n",
              "    <g>\n",
              "        <path d=\"M19 3H5c-1.1 0-2 .9-2 2v14c0 1.1.9 2 2 2h14c1.1 0 2-.9 2-2V5c0-1.1-.9-2-2-2zM9 17H7v-7h2v7zm4 0h-2V7h2v10zm4 0h-2v-4h2v4z\"/>\n",
              "    </g>\n",
              "</svg>\n",
              "  </button>\n",
              "\n",
              "<style>\n",
              "  .colab-df-quickchart {\n",
              "    background-color: #E8F0FE;\n",
              "    border: none;\n",
              "    border-radius: 50%;\n",
              "    cursor: pointer;\n",
              "    display: none;\n",
              "    fill: #1967D2;\n",
              "    height: 32px;\n",
              "    padding: 0 0 0 0;\n",
              "    width: 32px;\n",
              "  }\n",
              "\n",
              "  .colab-df-quickchart:hover {\n",
              "    background-color: #E2EBFA;\n",
              "    box-shadow: 0px 1px 2px rgba(60, 64, 67, 0.3), 0px 1px 3px 1px rgba(60, 64, 67, 0.15);\n",
              "    fill: #174EA6;\n",
              "  }\n",
              "\n",
              "  [theme=dark] .colab-df-quickchart {\n",
              "    background-color: #3B4455;\n",
              "    fill: #D2E3FC;\n",
              "  }\n",
              "\n",
              "  [theme=dark] .colab-df-quickchart:hover {\n",
              "    background-color: #434B5C;\n",
              "    box-shadow: 0px 1px 3px 1px rgba(0, 0, 0, 0.15);\n",
              "    filter: drop-shadow(0px 1px 2px rgba(0, 0, 0, 0.3));\n",
              "    fill: #FFFFFF;\n",
              "  }\n",
              "</style>\n",
              "\n",
              "  <script>\n",
              "    async function quickchart(key) {\n",
              "      const charts = await google.colab.kernel.invokeFunction(\n",
              "          'suggestCharts', [key], {});\n",
              "    }\n",
              "    (() => {\n",
              "      let quickchartButtonEl =\n",
              "        document.querySelector('#df-5d1bdd3a-1f70-437d-be65-bdc547d30457 button');\n",
              "      quickchartButtonEl.style.display =\n",
              "        google.colab.kernel.accessAllowed ? 'block' : 'none';\n",
              "    })();\n",
              "  </script>\n",
              "</div>\n",
              "    </div>\n",
              "  </div>\n"
            ]
          },
          "metadata": {},
          "execution_count": 76
        }
      ],
      "source": [
        "# Merging \"store_data\" with \"train_data\"\n",
        "train_data_merged = train_data.merge(store, on='Store', how='left')\n",
        "\n",
        "train_data_merged"
      ],
      "id": "7f022346"
    },
    {
      "cell_type": "code",
      "execution_count": 77,
      "metadata": {
        "colab": {
          "base_uri": "https://localhost:8080/"
        },
        "id": "1154270d",
        "outputId": "07e0e8c3-f5c0-4560-ee24-c86e902b844a"
      },
      "outputs": [
        {
          "output_type": "stream",
          "name": "stdout",
          "text": [
            "<class 'pandas.core.frame.DataFrame'>\n",
            "Int64Index: 1017209 entries, 0 to 1017208\n",
            "Data columns (total 18 columns):\n",
            " #   Column                     Non-Null Count    Dtype  \n",
            "---  ------                     --------------    -----  \n",
            " 0   Store                      1017209 non-null  int64  \n",
            " 1   DayOfWeek                  1017209 non-null  int64  \n",
            " 2   Date                       1017209 non-null  object \n",
            " 3   Sales                      1017209 non-null  int64  \n",
            " 4   Customers                  1017209 non-null  int64  \n",
            " 5   Open                       1017209 non-null  int64  \n",
            " 6   Promo                      1017209 non-null  int64  \n",
            " 7   StateHoliday               1017209 non-null  object \n",
            " 8   SchoolHoliday              1017209 non-null  int64  \n",
            " 9   StoreType                  1017209 non-null  object \n",
            " 10  Assortment                 1017209 non-null  object \n",
            " 11  CompetitionDistance        1014567 non-null  float64\n",
            " 12  CompetitionOpenSinceMonth  693861 non-null   float64\n",
            " 13  CompetitionOpenSinceYear   693861 non-null   float64\n",
            " 14  Promo2                     1017209 non-null  int64  \n",
            " 15  Promo2SinceWeek            509178 non-null   float64\n",
            " 16  Promo2SinceYear            509178 non-null   float64\n",
            " 17  PromoInterval              509178 non-null   object \n",
            "dtypes: float64(5), int64(8), object(5)\n",
            "memory usage: 147.5+ MB\n"
          ]
        }
      ],
      "source": [
        "train_data_merged.info()"
      ],
      "id": "1154270d"
    },
    {
      "cell_type": "code",
      "execution_count": 78,
      "metadata": {
        "id": "691398ef"
      },
      "outputs": [],
      "source": [
        "# Merging \"store_data\" with \"test_data\"\n",
        "test_data_merged = test_data.merge(store, on='Store', how='left')"
      ],
      "id": "691398ef"
    },
    {
      "cell_type": "code",
      "execution_count": 79,
      "metadata": {
        "colab": {
          "base_uri": "https://localhost:8080/"
        },
        "id": "08b7ffaa",
        "outputId": "e7e60afa-b6e5-41c7-c6c9-e790642da59a"
      },
      "outputs": [
        {
          "output_type": "stream",
          "name": "stdout",
          "text": [
            "<class 'pandas.core.frame.DataFrame'>\n",
            "Int64Index: 41088 entries, 0 to 41087\n",
            "Data columns (total 17 columns):\n",
            " #   Column                     Non-Null Count  Dtype  \n",
            "---  ------                     --------------  -----  \n",
            " 0   Id                         41088 non-null  int64  \n",
            " 1   Store                      41088 non-null  int64  \n",
            " 2   DayOfWeek                  41088 non-null  int64  \n",
            " 3   Date                       41088 non-null  object \n",
            " 4   Open                       41077 non-null  float64\n",
            " 5   Promo                      41088 non-null  int64  \n",
            " 6   StateHoliday               41088 non-null  object \n",
            " 7   SchoolHoliday              41088 non-null  int64  \n",
            " 8   StoreType                  41088 non-null  object \n",
            " 9   Assortment                 41088 non-null  object \n",
            " 10  CompetitionDistance        40992 non-null  float64\n",
            " 11  CompetitionOpenSinceMonth  25872 non-null  float64\n",
            " 12  CompetitionOpenSinceYear   25872 non-null  float64\n",
            " 13  Promo2                     41088 non-null  int64  \n",
            " 14  Promo2SinceWeek            23856 non-null  float64\n",
            " 15  Promo2SinceYear            23856 non-null  float64\n",
            " 16  PromoInterval              23856 non-null  object \n",
            "dtypes: float64(6), int64(6), object(5)\n",
            "memory usage: 5.6+ MB\n"
          ]
        }
      ],
      "source": [
        "test_data_merged.info()"
      ],
      "id": "08b7ffaa"
    },
    {
      "cell_type": "code",
      "execution_count": 80,
      "metadata": {
        "id": "64b004b0"
      },
      "outputs": [],
      "source": [
        "train_data_merged['Date'] = pd.to_datetime(train_data_merged['Date'])"
      ],
      "id": "64b004b0"
    },
    {
      "cell_type": "code",
      "execution_count": 81,
      "metadata": {
        "colab": {
          "base_uri": "https://localhost:8080/"
        },
        "id": "1035d938",
        "outputId": "dd8c6d7c-ad66-4508-b201-ddaa9ae89449",
        "scrolled": true
      },
      "outputs": [
        {
          "output_type": "stream",
          "name": "stdout",
          "text": [
            "<class 'pandas.core.frame.DataFrame'>\n",
            "Int64Index: 1017209 entries, 0 to 1017208\n",
            "Data columns (total 18 columns):\n",
            " #   Column                     Non-Null Count    Dtype         \n",
            "---  ------                     --------------    -----         \n",
            " 0   Store                      1017209 non-null  int64         \n",
            " 1   DayOfWeek                  1017209 non-null  int64         \n",
            " 2   Date                       1017209 non-null  datetime64[ns]\n",
            " 3   Sales                      1017209 non-null  int64         \n",
            " 4   Customers                  1017209 non-null  int64         \n",
            " 5   Open                       1017209 non-null  int64         \n",
            " 6   Promo                      1017209 non-null  int64         \n",
            " 7   StateHoliday               1017209 non-null  object        \n",
            " 8   SchoolHoliday              1017209 non-null  int64         \n",
            " 9   StoreType                  1017209 non-null  object        \n",
            " 10  Assortment                 1017209 non-null  object        \n",
            " 11  CompetitionDistance        1014567 non-null  float64       \n",
            " 12  CompetitionOpenSinceMonth  693861 non-null   float64       \n",
            " 13  CompetitionOpenSinceYear   693861 non-null   float64       \n",
            " 14  Promo2                     1017209 non-null  int64         \n",
            " 15  Promo2SinceWeek            509178 non-null   float64       \n",
            " 16  Promo2SinceYear            509178 non-null   float64       \n",
            " 17  PromoInterval              509178 non-null   object        \n",
            "dtypes: datetime64[ns](1), float64(5), int64(8), object(4)\n",
            "memory usage: 147.5+ MB\n"
          ]
        }
      ],
      "source": [
        "train_data_merged.info()"
      ],
      "id": "1035d938"
    },
    {
      "cell_type": "code",
      "execution_count": 82,
      "metadata": {
        "id": "1263431c"
      },
      "outputs": [],
      "source": [
        "test_data_merged['Date'] = pd.to_datetime(test_data_merged['Date'])"
      ],
      "id": "1263431c"
    },
    {
      "cell_type": "code",
      "execution_count": 83,
      "metadata": {
        "colab": {
          "base_uri": "https://localhost:8080/"
        },
        "id": "2205606c",
        "outputId": "165e7a4f-4cb1-4d21-cf2a-76638c4dad47"
      },
      "outputs": [
        {
          "output_type": "stream",
          "name": "stdout",
          "text": [
            "<class 'pandas.core.frame.DataFrame'>\n",
            "Int64Index: 41088 entries, 0 to 41087\n",
            "Data columns (total 17 columns):\n",
            " #   Column                     Non-Null Count  Dtype         \n",
            "---  ------                     --------------  -----         \n",
            " 0   Id                         41088 non-null  int64         \n",
            " 1   Store                      41088 non-null  int64         \n",
            " 2   DayOfWeek                  41088 non-null  int64         \n",
            " 3   Date                       41088 non-null  datetime64[ns]\n",
            " 4   Open                       41077 non-null  float64       \n",
            " 5   Promo                      41088 non-null  int64         \n",
            " 6   StateHoliday               41088 non-null  object        \n",
            " 7   SchoolHoliday              41088 non-null  int64         \n",
            " 8   StoreType                  41088 non-null  object        \n",
            " 9   Assortment                 41088 non-null  object        \n",
            " 10  CompetitionDistance        40992 non-null  float64       \n",
            " 11  CompetitionOpenSinceMonth  25872 non-null  float64       \n",
            " 12  CompetitionOpenSinceYear   25872 non-null  float64       \n",
            " 13  Promo2                     41088 non-null  int64         \n",
            " 14  Promo2SinceWeek            23856 non-null  float64       \n",
            " 15  Promo2SinceYear            23856 non-null  float64       \n",
            " 16  PromoInterval              23856 non-null  object        \n",
            "dtypes: datetime64[ns](1), float64(6), int64(6), object(4)\n",
            "memory usage: 5.6+ MB\n"
          ]
        }
      ],
      "source": [
        "test_data_merged.info()"
      ],
      "id": "2205606c"
    },
    {
      "cell_type": "code",
      "execution_count": 83,
      "metadata": {
        "id": "5fdb4382"
      },
      "outputs": [],
      "source": [],
      "id": "5fdb4382"
    },
    {
      "cell_type": "markdown",
      "metadata": {
        "id": "ba86264d"
      },
      "source": [
        "# Description Of datasets"
      ],
      "id": "ba86264d"
    },
    {
      "cell_type": "code",
      "execution_count": 84,
      "metadata": {
        "colab": {
          "base_uri": "https://localhost:8080/",
          "height": 320
        },
        "id": "e3c6729e",
        "outputId": "3cce143c-5896-4597-9eaf-61f932c2c7ff"
      },
      "outputs": [
        {
          "output_type": "execute_result",
          "data": {
            "text/plain": [
              "                 Id         Store     DayOfWeek          Open         Promo  \\\n",
              "count  41088.000000  41088.000000  41088.000000  41077.000000  41088.000000   \n",
              "mean   20544.500000    555.899533      3.979167      0.854322      0.395833   \n",
              "std    11861.228267    320.274496      2.015481      0.352787      0.489035   \n",
              "min        1.000000      1.000000      1.000000      0.000000      0.000000   \n",
              "25%    10272.750000    279.750000      2.000000      1.000000      0.000000   \n",
              "50%    20544.500000    553.500000      4.000000      1.000000      0.000000   \n",
              "75%    30816.250000    832.250000      6.000000      1.000000      1.000000   \n",
              "max    41088.000000   1115.000000      7.000000      1.000000      1.000000   \n",
              "\n",
              "       SchoolHoliday  CompetitionDistance  CompetitionOpenSinceMonth  \\\n",
              "count   41088.000000         40992.000000               25872.000000   \n",
              "mean        0.443487          5088.583138                   7.035250   \n",
              "std         0.496802          7225.487467                   3.143015   \n",
              "min         0.000000            20.000000                   1.000000   \n",
              "25%         0.000000           720.000000                   4.000000   \n",
              "50%         0.000000          2425.000000                   7.000000   \n",
              "75%         1.000000          6480.000000                   9.000000   \n",
              "max         1.000000         75860.000000                  12.000000   \n",
              "\n",
              "       CompetitionOpenSinceYear        Promo2  Promo2SinceWeek  \\\n",
              "count              25872.000000  41088.000000     23856.000000   \n",
              "mean                2008.641929      0.580607        24.426559   \n",
              "std                    6.862400      0.493466        14.161312   \n",
              "min                 1900.000000      0.000000         1.000000   \n",
              "25%                 2006.000000      0.000000        13.000000   \n",
              "50%                 2010.000000      1.000000        22.000000   \n",
              "75%                 2012.000000      1.000000        37.000000   \n",
              "max                 2015.000000      1.000000        49.000000   \n",
              "\n",
              "       Promo2SinceYear  \n",
              "count     23856.000000  \n",
              "mean       2011.820926  \n",
              "std           1.692166  \n",
              "min        2009.000000  \n",
              "25%        2011.000000  \n",
              "50%        2012.000000  \n",
              "75%        2013.000000  \n",
              "max        2015.000000  "
            ],
            "text/html": [
              "\n",
              "  <div id=\"df-e7a68cd9-cb52-40d1-a06f-6983cef191d9\" class=\"colab-df-container\">\n",
              "    <div>\n",
              "<style scoped>\n",
              "    .dataframe tbody tr th:only-of-type {\n",
              "        vertical-align: middle;\n",
              "    }\n",
              "\n",
              "    .dataframe tbody tr th {\n",
              "        vertical-align: top;\n",
              "    }\n",
              "\n",
              "    .dataframe thead th {\n",
              "        text-align: right;\n",
              "    }\n",
              "</style>\n",
              "<table border=\"1\" class=\"dataframe\">\n",
              "  <thead>\n",
              "    <tr style=\"text-align: right;\">\n",
              "      <th></th>\n",
              "      <th>Id</th>\n",
              "      <th>Store</th>\n",
              "      <th>DayOfWeek</th>\n",
              "      <th>Open</th>\n",
              "      <th>Promo</th>\n",
              "      <th>SchoolHoliday</th>\n",
              "      <th>CompetitionDistance</th>\n",
              "      <th>CompetitionOpenSinceMonth</th>\n",
              "      <th>CompetitionOpenSinceYear</th>\n",
              "      <th>Promo2</th>\n",
              "      <th>Promo2SinceWeek</th>\n",
              "      <th>Promo2SinceYear</th>\n",
              "    </tr>\n",
              "  </thead>\n",
              "  <tbody>\n",
              "    <tr>\n",
              "      <th>count</th>\n",
              "      <td>41088.000000</td>\n",
              "      <td>41088.000000</td>\n",
              "      <td>41088.000000</td>\n",
              "      <td>41077.000000</td>\n",
              "      <td>41088.000000</td>\n",
              "      <td>41088.000000</td>\n",
              "      <td>40992.000000</td>\n",
              "      <td>25872.000000</td>\n",
              "      <td>25872.000000</td>\n",
              "      <td>41088.000000</td>\n",
              "      <td>23856.000000</td>\n",
              "      <td>23856.000000</td>\n",
              "    </tr>\n",
              "    <tr>\n",
              "      <th>mean</th>\n",
              "      <td>20544.500000</td>\n",
              "      <td>555.899533</td>\n",
              "      <td>3.979167</td>\n",
              "      <td>0.854322</td>\n",
              "      <td>0.395833</td>\n",
              "      <td>0.443487</td>\n",
              "      <td>5088.583138</td>\n",
              "      <td>7.035250</td>\n",
              "      <td>2008.641929</td>\n",
              "      <td>0.580607</td>\n",
              "      <td>24.426559</td>\n",
              "      <td>2011.820926</td>\n",
              "    </tr>\n",
              "    <tr>\n",
              "      <th>std</th>\n",
              "      <td>11861.228267</td>\n",
              "      <td>320.274496</td>\n",
              "      <td>2.015481</td>\n",
              "      <td>0.352787</td>\n",
              "      <td>0.489035</td>\n",
              "      <td>0.496802</td>\n",
              "      <td>7225.487467</td>\n",
              "      <td>3.143015</td>\n",
              "      <td>6.862400</td>\n",
              "      <td>0.493466</td>\n",
              "      <td>14.161312</td>\n",
              "      <td>1.692166</td>\n",
              "    </tr>\n",
              "    <tr>\n",
              "      <th>min</th>\n",
              "      <td>1.000000</td>\n",
              "      <td>1.000000</td>\n",
              "      <td>1.000000</td>\n",
              "      <td>0.000000</td>\n",
              "      <td>0.000000</td>\n",
              "      <td>0.000000</td>\n",
              "      <td>20.000000</td>\n",
              "      <td>1.000000</td>\n",
              "      <td>1900.000000</td>\n",
              "      <td>0.000000</td>\n",
              "      <td>1.000000</td>\n",
              "      <td>2009.000000</td>\n",
              "    </tr>\n",
              "    <tr>\n",
              "      <th>25%</th>\n",
              "      <td>10272.750000</td>\n",
              "      <td>279.750000</td>\n",
              "      <td>2.000000</td>\n",
              "      <td>1.000000</td>\n",
              "      <td>0.000000</td>\n",
              "      <td>0.000000</td>\n",
              "      <td>720.000000</td>\n",
              "      <td>4.000000</td>\n",
              "      <td>2006.000000</td>\n",
              "      <td>0.000000</td>\n",
              "      <td>13.000000</td>\n",
              "      <td>2011.000000</td>\n",
              "    </tr>\n",
              "    <tr>\n",
              "      <th>50%</th>\n",
              "      <td>20544.500000</td>\n",
              "      <td>553.500000</td>\n",
              "      <td>4.000000</td>\n",
              "      <td>1.000000</td>\n",
              "      <td>0.000000</td>\n",
              "      <td>0.000000</td>\n",
              "      <td>2425.000000</td>\n",
              "      <td>7.000000</td>\n",
              "      <td>2010.000000</td>\n",
              "      <td>1.000000</td>\n",
              "      <td>22.000000</td>\n",
              "      <td>2012.000000</td>\n",
              "    </tr>\n",
              "    <tr>\n",
              "      <th>75%</th>\n",
              "      <td>30816.250000</td>\n",
              "      <td>832.250000</td>\n",
              "      <td>6.000000</td>\n",
              "      <td>1.000000</td>\n",
              "      <td>1.000000</td>\n",
              "      <td>1.000000</td>\n",
              "      <td>6480.000000</td>\n",
              "      <td>9.000000</td>\n",
              "      <td>2012.000000</td>\n",
              "      <td>1.000000</td>\n",
              "      <td>37.000000</td>\n",
              "      <td>2013.000000</td>\n",
              "    </tr>\n",
              "    <tr>\n",
              "      <th>max</th>\n",
              "      <td>41088.000000</td>\n",
              "      <td>1115.000000</td>\n",
              "      <td>7.000000</td>\n",
              "      <td>1.000000</td>\n",
              "      <td>1.000000</td>\n",
              "      <td>1.000000</td>\n",
              "      <td>75860.000000</td>\n",
              "      <td>12.000000</td>\n",
              "      <td>2015.000000</td>\n",
              "      <td>1.000000</td>\n",
              "      <td>49.000000</td>\n",
              "      <td>2015.000000</td>\n",
              "    </tr>\n",
              "  </tbody>\n",
              "</table>\n",
              "</div>\n",
              "    <div class=\"colab-df-buttons\">\n",
              "\n",
              "  <div class=\"colab-df-container\">\n",
              "    <button class=\"colab-df-convert\" onclick=\"convertToInteractive('df-e7a68cd9-cb52-40d1-a06f-6983cef191d9')\"\n",
              "            title=\"Convert this dataframe to an interactive table.\"\n",
              "            style=\"display:none;\">\n",
              "\n",
              "  <svg xmlns=\"http://www.w3.org/2000/svg\" height=\"24px\" viewBox=\"0 -960 960 960\">\n",
              "    <path d=\"M120-120v-720h720v720H120Zm60-500h600v-160H180v160Zm220 220h160v-160H400v160Zm0 220h160v-160H400v160ZM180-400h160v-160H180v160Zm440 0h160v-160H620v160ZM180-180h160v-160H180v160Zm440 0h160v-160H620v160Z\"/>\n",
              "  </svg>\n",
              "    </button>\n",
              "\n",
              "  <style>\n",
              "    .colab-df-container {\n",
              "      display:flex;\n",
              "      gap: 12px;\n",
              "    }\n",
              "\n",
              "    .colab-df-convert {\n",
              "      background-color: #E8F0FE;\n",
              "      border: none;\n",
              "      border-radius: 50%;\n",
              "      cursor: pointer;\n",
              "      display: none;\n",
              "      fill: #1967D2;\n",
              "      height: 32px;\n",
              "      padding: 0 0 0 0;\n",
              "      width: 32px;\n",
              "    }\n",
              "\n",
              "    .colab-df-convert:hover {\n",
              "      background-color: #E2EBFA;\n",
              "      box-shadow: 0px 1px 2px rgba(60, 64, 67, 0.3), 0px 1px 3px 1px rgba(60, 64, 67, 0.15);\n",
              "      fill: #174EA6;\n",
              "    }\n",
              "\n",
              "    .colab-df-buttons div {\n",
              "      margin-bottom: 4px;\n",
              "    }\n",
              "\n",
              "    [theme=dark] .colab-df-convert {\n",
              "      background-color: #3B4455;\n",
              "      fill: #D2E3FC;\n",
              "    }\n",
              "\n",
              "    [theme=dark] .colab-df-convert:hover {\n",
              "      background-color: #434B5C;\n",
              "      box-shadow: 0px 1px 3px 1px rgba(0, 0, 0, 0.15);\n",
              "      filter: drop-shadow(0px 1px 2px rgba(0, 0, 0, 0.3));\n",
              "      fill: #FFFFFF;\n",
              "    }\n",
              "  </style>\n",
              "\n",
              "    <script>\n",
              "      const buttonEl =\n",
              "        document.querySelector('#df-e7a68cd9-cb52-40d1-a06f-6983cef191d9 button.colab-df-convert');\n",
              "      buttonEl.style.display =\n",
              "        google.colab.kernel.accessAllowed ? 'block' : 'none';\n",
              "\n",
              "      async function convertToInteractive(key) {\n",
              "        const element = document.querySelector('#df-e7a68cd9-cb52-40d1-a06f-6983cef191d9');\n",
              "        const dataTable =\n",
              "          await google.colab.kernel.invokeFunction('convertToInteractive',\n",
              "                                                    [key], {});\n",
              "        if (!dataTable) return;\n",
              "\n",
              "        const docLinkHtml = 'Like what you see? Visit the ' +\n",
              "          '<a target=\"_blank\" href=https://colab.research.google.com/notebooks/data_table.ipynb>data table notebook</a>'\n",
              "          + ' to learn more about interactive tables.';\n",
              "        element.innerHTML = '';\n",
              "        dataTable['output_type'] = 'display_data';\n",
              "        await google.colab.output.renderOutput(dataTable, element);\n",
              "        const docLink = document.createElement('div');\n",
              "        docLink.innerHTML = docLinkHtml;\n",
              "        element.appendChild(docLink);\n",
              "      }\n",
              "    </script>\n",
              "  </div>\n",
              "\n",
              "\n",
              "<div id=\"df-c3b548c3-04f9-4335-ac69-70c0653fde25\">\n",
              "  <button class=\"colab-df-quickchart\" onclick=\"quickchart('df-c3b548c3-04f9-4335-ac69-70c0653fde25')\"\n",
              "            title=\"Suggest charts.\"\n",
              "            style=\"display:none;\">\n",
              "\n",
              "<svg xmlns=\"http://www.w3.org/2000/svg\" height=\"24px\"viewBox=\"0 0 24 24\"\n",
              "     width=\"24px\">\n",
              "    <g>\n",
              "        <path d=\"M19 3H5c-1.1 0-2 .9-2 2v14c0 1.1.9 2 2 2h14c1.1 0 2-.9 2-2V5c0-1.1-.9-2-2-2zM9 17H7v-7h2v7zm4 0h-2V7h2v10zm4 0h-2v-4h2v4z\"/>\n",
              "    </g>\n",
              "</svg>\n",
              "  </button>\n",
              "\n",
              "<style>\n",
              "  .colab-df-quickchart {\n",
              "    background-color: #E8F0FE;\n",
              "    border: none;\n",
              "    border-radius: 50%;\n",
              "    cursor: pointer;\n",
              "    display: none;\n",
              "    fill: #1967D2;\n",
              "    height: 32px;\n",
              "    padding: 0 0 0 0;\n",
              "    width: 32px;\n",
              "  }\n",
              "\n",
              "  .colab-df-quickchart:hover {\n",
              "    background-color: #E2EBFA;\n",
              "    box-shadow: 0px 1px 2px rgba(60, 64, 67, 0.3), 0px 1px 3px 1px rgba(60, 64, 67, 0.15);\n",
              "    fill: #174EA6;\n",
              "  }\n",
              "\n",
              "  [theme=dark] .colab-df-quickchart {\n",
              "    background-color: #3B4455;\n",
              "    fill: #D2E3FC;\n",
              "  }\n",
              "\n",
              "  [theme=dark] .colab-df-quickchart:hover {\n",
              "    background-color: #434B5C;\n",
              "    box-shadow: 0px 1px 3px 1px rgba(0, 0, 0, 0.15);\n",
              "    filter: drop-shadow(0px 1px 2px rgba(0, 0, 0, 0.3));\n",
              "    fill: #FFFFFF;\n",
              "  }\n",
              "</style>\n",
              "\n",
              "  <script>\n",
              "    async function quickchart(key) {\n",
              "      const charts = await google.colab.kernel.invokeFunction(\n",
              "          'suggestCharts', [key], {});\n",
              "    }\n",
              "    (() => {\n",
              "      let quickchartButtonEl =\n",
              "        document.querySelector('#df-c3b548c3-04f9-4335-ac69-70c0653fde25 button');\n",
              "      quickchartButtonEl.style.display =\n",
              "        google.colab.kernel.accessAllowed ? 'block' : 'none';\n",
              "    })();\n",
              "  </script>\n",
              "</div>\n",
              "    </div>\n",
              "  </div>\n"
            ]
          },
          "metadata": {},
          "execution_count": 84
        }
      ],
      "source": [
        "test_data_merged.describe()"
      ],
      "id": "e3c6729e"
    },
    {
      "cell_type": "code",
      "execution_count": 85,
      "metadata": {
        "colab": {
          "base_uri": "https://localhost:8080/",
          "height": 320
        },
        "id": "75719dd5",
        "outputId": "8d581233-99aa-4521-c0b2-8366984bc88f"
      },
      "outputs": [
        {
          "output_type": "execute_result",
          "data": {
            "text/plain": [
              "              Store     DayOfWeek         Sales     Customers          Open  \\\n",
              "count  1.017209e+06  1.017209e+06  1.017209e+06  1.017209e+06  1.017209e+06   \n",
              "mean   5.584297e+02  3.998341e+00  5.773819e+03  6.331459e+02  8.301067e-01   \n",
              "std    3.219087e+02  1.997391e+00  3.849926e+03  4.644117e+02  3.755392e-01   \n",
              "min    1.000000e+00  1.000000e+00  0.000000e+00  0.000000e+00  0.000000e+00   \n",
              "25%    2.800000e+02  2.000000e+00  3.727000e+03  4.050000e+02  1.000000e+00   \n",
              "50%    5.580000e+02  4.000000e+00  5.744000e+03  6.090000e+02  1.000000e+00   \n",
              "75%    8.380000e+02  6.000000e+00  7.856000e+03  8.370000e+02  1.000000e+00   \n",
              "max    1.115000e+03  7.000000e+00  4.155100e+04  7.388000e+03  1.000000e+00   \n",
              "\n",
              "              Promo  SchoolHoliday  CompetitionDistance  \\\n",
              "count  1.017209e+06   1.017209e+06         1.014567e+06   \n",
              "mean   3.815145e-01   1.786467e-01         5.430086e+03   \n",
              "std    4.857586e-01   3.830564e-01         7.715324e+03   \n",
              "min    0.000000e+00   0.000000e+00         2.000000e+01   \n",
              "25%    0.000000e+00   0.000000e+00         7.100000e+02   \n",
              "50%    0.000000e+00   0.000000e+00         2.330000e+03   \n",
              "75%    1.000000e+00   0.000000e+00         6.890000e+03   \n",
              "max    1.000000e+00   1.000000e+00         7.586000e+04   \n",
              "\n",
              "       CompetitionOpenSinceMonth  CompetitionOpenSinceYear        Promo2  \\\n",
              "count              693861.000000             693861.000000  1.017209e+06   \n",
              "mean                    7.222866               2008.690228  5.005638e-01   \n",
              "std                     3.211832                  5.992644  4.999999e-01   \n",
              "min                     1.000000               1900.000000  0.000000e+00   \n",
              "25%                     4.000000               2006.000000  0.000000e+00   \n",
              "50%                     8.000000               2010.000000  1.000000e+00   \n",
              "75%                    10.000000               2013.000000  1.000000e+00   \n",
              "max                    12.000000               2015.000000  1.000000e+00   \n",
              "\n",
              "       Promo2SinceWeek  Promo2SinceYear  \n",
              "count    509178.000000    509178.000000  \n",
              "mean         23.269093      2011.752774  \n",
              "std          14.095973         1.662870  \n",
              "min           1.000000      2009.000000  \n",
              "25%          13.000000      2011.000000  \n",
              "50%          22.000000      2012.000000  \n",
              "75%          37.000000      2013.000000  \n",
              "max          50.000000      2015.000000  "
            ],
            "text/html": [
              "\n",
              "  <div id=\"df-3a80d10c-6ce1-4a26-aa2c-ec6638c4e64a\" class=\"colab-df-container\">\n",
              "    <div>\n",
              "<style scoped>\n",
              "    .dataframe tbody tr th:only-of-type {\n",
              "        vertical-align: middle;\n",
              "    }\n",
              "\n",
              "    .dataframe tbody tr th {\n",
              "        vertical-align: top;\n",
              "    }\n",
              "\n",
              "    .dataframe thead th {\n",
              "        text-align: right;\n",
              "    }\n",
              "</style>\n",
              "<table border=\"1\" class=\"dataframe\">\n",
              "  <thead>\n",
              "    <tr style=\"text-align: right;\">\n",
              "      <th></th>\n",
              "      <th>Store</th>\n",
              "      <th>DayOfWeek</th>\n",
              "      <th>Sales</th>\n",
              "      <th>Customers</th>\n",
              "      <th>Open</th>\n",
              "      <th>Promo</th>\n",
              "      <th>SchoolHoliday</th>\n",
              "      <th>CompetitionDistance</th>\n",
              "      <th>CompetitionOpenSinceMonth</th>\n",
              "      <th>CompetitionOpenSinceYear</th>\n",
              "      <th>Promo2</th>\n",
              "      <th>Promo2SinceWeek</th>\n",
              "      <th>Promo2SinceYear</th>\n",
              "    </tr>\n",
              "  </thead>\n",
              "  <tbody>\n",
              "    <tr>\n",
              "      <th>count</th>\n",
              "      <td>1.017209e+06</td>\n",
              "      <td>1.017209e+06</td>\n",
              "      <td>1.017209e+06</td>\n",
              "      <td>1.017209e+06</td>\n",
              "      <td>1.017209e+06</td>\n",
              "      <td>1.017209e+06</td>\n",
              "      <td>1.017209e+06</td>\n",
              "      <td>1.014567e+06</td>\n",
              "      <td>693861.000000</td>\n",
              "      <td>693861.000000</td>\n",
              "      <td>1.017209e+06</td>\n",
              "      <td>509178.000000</td>\n",
              "      <td>509178.000000</td>\n",
              "    </tr>\n",
              "    <tr>\n",
              "      <th>mean</th>\n",
              "      <td>5.584297e+02</td>\n",
              "      <td>3.998341e+00</td>\n",
              "      <td>5.773819e+03</td>\n",
              "      <td>6.331459e+02</td>\n",
              "      <td>8.301067e-01</td>\n",
              "      <td>3.815145e-01</td>\n",
              "      <td>1.786467e-01</td>\n",
              "      <td>5.430086e+03</td>\n",
              "      <td>7.222866</td>\n",
              "      <td>2008.690228</td>\n",
              "      <td>5.005638e-01</td>\n",
              "      <td>23.269093</td>\n",
              "      <td>2011.752774</td>\n",
              "    </tr>\n",
              "    <tr>\n",
              "      <th>std</th>\n",
              "      <td>3.219087e+02</td>\n",
              "      <td>1.997391e+00</td>\n",
              "      <td>3.849926e+03</td>\n",
              "      <td>4.644117e+02</td>\n",
              "      <td>3.755392e-01</td>\n",
              "      <td>4.857586e-01</td>\n",
              "      <td>3.830564e-01</td>\n",
              "      <td>7.715324e+03</td>\n",
              "      <td>3.211832</td>\n",
              "      <td>5.992644</td>\n",
              "      <td>4.999999e-01</td>\n",
              "      <td>14.095973</td>\n",
              "      <td>1.662870</td>\n",
              "    </tr>\n",
              "    <tr>\n",
              "      <th>min</th>\n",
              "      <td>1.000000e+00</td>\n",
              "      <td>1.000000e+00</td>\n",
              "      <td>0.000000e+00</td>\n",
              "      <td>0.000000e+00</td>\n",
              "      <td>0.000000e+00</td>\n",
              "      <td>0.000000e+00</td>\n",
              "      <td>0.000000e+00</td>\n",
              "      <td>2.000000e+01</td>\n",
              "      <td>1.000000</td>\n",
              "      <td>1900.000000</td>\n",
              "      <td>0.000000e+00</td>\n",
              "      <td>1.000000</td>\n",
              "      <td>2009.000000</td>\n",
              "    </tr>\n",
              "    <tr>\n",
              "      <th>25%</th>\n",
              "      <td>2.800000e+02</td>\n",
              "      <td>2.000000e+00</td>\n",
              "      <td>3.727000e+03</td>\n",
              "      <td>4.050000e+02</td>\n",
              "      <td>1.000000e+00</td>\n",
              "      <td>0.000000e+00</td>\n",
              "      <td>0.000000e+00</td>\n",
              "      <td>7.100000e+02</td>\n",
              "      <td>4.000000</td>\n",
              "      <td>2006.000000</td>\n",
              "      <td>0.000000e+00</td>\n",
              "      <td>13.000000</td>\n",
              "      <td>2011.000000</td>\n",
              "    </tr>\n",
              "    <tr>\n",
              "      <th>50%</th>\n",
              "      <td>5.580000e+02</td>\n",
              "      <td>4.000000e+00</td>\n",
              "      <td>5.744000e+03</td>\n",
              "      <td>6.090000e+02</td>\n",
              "      <td>1.000000e+00</td>\n",
              "      <td>0.000000e+00</td>\n",
              "      <td>0.000000e+00</td>\n",
              "      <td>2.330000e+03</td>\n",
              "      <td>8.000000</td>\n",
              "      <td>2010.000000</td>\n",
              "      <td>1.000000e+00</td>\n",
              "      <td>22.000000</td>\n",
              "      <td>2012.000000</td>\n",
              "    </tr>\n",
              "    <tr>\n",
              "      <th>75%</th>\n",
              "      <td>8.380000e+02</td>\n",
              "      <td>6.000000e+00</td>\n",
              "      <td>7.856000e+03</td>\n",
              "      <td>8.370000e+02</td>\n",
              "      <td>1.000000e+00</td>\n",
              "      <td>1.000000e+00</td>\n",
              "      <td>0.000000e+00</td>\n",
              "      <td>6.890000e+03</td>\n",
              "      <td>10.000000</td>\n",
              "      <td>2013.000000</td>\n",
              "      <td>1.000000e+00</td>\n",
              "      <td>37.000000</td>\n",
              "      <td>2013.000000</td>\n",
              "    </tr>\n",
              "    <tr>\n",
              "      <th>max</th>\n",
              "      <td>1.115000e+03</td>\n",
              "      <td>7.000000e+00</td>\n",
              "      <td>4.155100e+04</td>\n",
              "      <td>7.388000e+03</td>\n",
              "      <td>1.000000e+00</td>\n",
              "      <td>1.000000e+00</td>\n",
              "      <td>1.000000e+00</td>\n",
              "      <td>7.586000e+04</td>\n",
              "      <td>12.000000</td>\n",
              "      <td>2015.000000</td>\n",
              "      <td>1.000000e+00</td>\n",
              "      <td>50.000000</td>\n",
              "      <td>2015.000000</td>\n",
              "    </tr>\n",
              "  </tbody>\n",
              "</table>\n",
              "</div>\n",
              "    <div class=\"colab-df-buttons\">\n",
              "\n",
              "  <div class=\"colab-df-container\">\n",
              "    <button class=\"colab-df-convert\" onclick=\"convertToInteractive('df-3a80d10c-6ce1-4a26-aa2c-ec6638c4e64a')\"\n",
              "            title=\"Convert this dataframe to an interactive table.\"\n",
              "            style=\"display:none;\">\n",
              "\n",
              "  <svg xmlns=\"http://www.w3.org/2000/svg\" height=\"24px\" viewBox=\"0 -960 960 960\">\n",
              "    <path d=\"M120-120v-720h720v720H120Zm60-500h600v-160H180v160Zm220 220h160v-160H400v160Zm0 220h160v-160H400v160ZM180-400h160v-160H180v160Zm440 0h160v-160H620v160ZM180-180h160v-160H180v160Zm440 0h160v-160H620v160Z\"/>\n",
              "  </svg>\n",
              "    </button>\n",
              "\n",
              "  <style>\n",
              "    .colab-df-container {\n",
              "      display:flex;\n",
              "      gap: 12px;\n",
              "    }\n",
              "\n",
              "    .colab-df-convert {\n",
              "      background-color: #E8F0FE;\n",
              "      border: none;\n",
              "      border-radius: 50%;\n",
              "      cursor: pointer;\n",
              "      display: none;\n",
              "      fill: #1967D2;\n",
              "      height: 32px;\n",
              "      padding: 0 0 0 0;\n",
              "      width: 32px;\n",
              "    }\n",
              "\n",
              "    .colab-df-convert:hover {\n",
              "      background-color: #E2EBFA;\n",
              "      box-shadow: 0px 1px 2px rgba(60, 64, 67, 0.3), 0px 1px 3px 1px rgba(60, 64, 67, 0.15);\n",
              "      fill: #174EA6;\n",
              "    }\n",
              "\n",
              "    .colab-df-buttons div {\n",
              "      margin-bottom: 4px;\n",
              "    }\n",
              "\n",
              "    [theme=dark] .colab-df-convert {\n",
              "      background-color: #3B4455;\n",
              "      fill: #D2E3FC;\n",
              "    }\n",
              "\n",
              "    [theme=dark] .colab-df-convert:hover {\n",
              "      background-color: #434B5C;\n",
              "      box-shadow: 0px 1px 3px 1px rgba(0, 0, 0, 0.15);\n",
              "      filter: drop-shadow(0px 1px 2px rgba(0, 0, 0, 0.3));\n",
              "      fill: #FFFFFF;\n",
              "    }\n",
              "  </style>\n",
              "\n",
              "    <script>\n",
              "      const buttonEl =\n",
              "        document.querySelector('#df-3a80d10c-6ce1-4a26-aa2c-ec6638c4e64a button.colab-df-convert');\n",
              "      buttonEl.style.display =\n",
              "        google.colab.kernel.accessAllowed ? 'block' : 'none';\n",
              "\n",
              "      async function convertToInteractive(key) {\n",
              "        const element = document.querySelector('#df-3a80d10c-6ce1-4a26-aa2c-ec6638c4e64a');\n",
              "        const dataTable =\n",
              "          await google.colab.kernel.invokeFunction('convertToInteractive',\n",
              "                                                    [key], {});\n",
              "        if (!dataTable) return;\n",
              "\n",
              "        const docLinkHtml = 'Like what you see? Visit the ' +\n",
              "          '<a target=\"_blank\" href=https://colab.research.google.com/notebooks/data_table.ipynb>data table notebook</a>'\n",
              "          + ' to learn more about interactive tables.';\n",
              "        element.innerHTML = '';\n",
              "        dataTable['output_type'] = 'display_data';\n",
              "        await google.colab.output.renderOutput(dataTable, element);\n",
              "        const docLink = document.createElement('div');\n",
              "        docLink.innerHTML = docLinkHtml;\n",
              "        element.appendChild(docLink);\n",
              "      }\n",
              "    </script>\n",
              "  </div>\n",
              "\n",
              "\n",
              "<div id=\"df-74d54430-1a4b-4ff7-9704-383d58cc526f\">\n",
              "  <button class=\"colab-df-quickchart\" onclick=\"quickchart('df-74d54430-1a4b-4ff7-9704-383d58cc526f')\"\n",
              "            title=\"Suggest charts.\"\n",
              "            style=\"display:none;\">\n",
              "\n",
              "<svg xmlns=\"http://www.w3.org/2000/svg\" height=\"24px\"viewBox=\"0 0 24 24\"\n",
              "     width=\"24px\">\n",
              "    <g>\n",
              "        <path d=\"M19 3H5c-1.1 0-2 .9-2 2v14c0 1.1.9 2 2 2h14c1.1 0 2-.9 2-2V5c0-1.1-.9-2-2-2zM9 17H7v-7h2v7zm4 0h-2V7h2v10zm4 0h-2v-4h2v4z\"/>\n",
              "    </g>\n",
              "</svg>\n",
              "  </button>\n",
              "\n",
              "<style>\n",
              "  .colab-df-quickchart {\n",
              "    background-color: #E8F0FE;\n",
              "    border: none;\n",
              "    border-radius: 50%;\n",
              "    cursor: pointer;\n",
              "    display: none;\n",
              "    fill: #1967D2;\n",
              "    height: 32px;\n",
              "    padding: 0 0 0 0;\n",
              "    width: 32px;\n",
              "  }\n",
              "\n",
              "  .colab-df-quickchart:hover {\n",
              "    background-color: #E2EBFA;\n",
              "    box-shadow: 0px 1px 2px rgba(60, 64, 67, 0.3), 0px 1px 3px 1px rgba(60, 64, 67, 0.15);\n",
              "    fill: #174EA6;\n",
              "  }\n",
              "\n",
              "  [theme=dark] .colab-df-quickchart {\n",
              "    background-color: #3B4455;\n",
              "    fill: #D2E3FC;\n",
              "  }\n",
              "\n",
              "  [theme=dark] .colab-df-quickchart:hover {\n",
              "    background-color: #434B5C;\n",
              "    box-shadow: 0px 1px 3px 1px rgba(0, 0, 0, 0.15);\n",
              "    filter: drop-shadow(0px 1px 2px rgba(0, 0, 0, 0.3));\n",
              "    fill: #FFFFFF;\n",
              "  }\n",
              "</style>\n",
              "\n",
              "  <script>\n",
              "    async function quickchart(key) {\n",
              "      const charts = await google.colab.kernel.invokeFunction(\n",
              "          'suggestCharts', [key], {});\n",
              "    }\n",
              "    (() => {\n",
              "      let quickchartButtonEl =\n",
              "        document.querySelector('#df-74d54430-1a4b-4ff7-9704-383d58cc526f button');\n",
              "      quickchartButtonEl.style.display =\n",
              "        google.colab.kernel.accessAllowed ? 'block' : 'none';\n",
              "    })();\n",
              "  </script>\n",
              "</div>\n",
              "    </div>\n",
              "  </div>\n"
            ]
          },
          "metadata": {},
          "execution_count": 85
        }
      ],
      "source": [
        "train_data_merged.describe()"
      ],
      "id": "75719dd5"
    },
    {
      "cell_type": "code",
      "execution_count": 85,
      "metadata": {
        "id": "cb34ac10"
      },
      "outputs": [],
      "source": [],
      "id": "cb34ac10"
    },
    {
      "cell_type": "markdown",
      "metadata": {
        "id": "95fc3621"
      },
      "source": [
        "# 2.1 Preprocessing\n",
        "\n",
        "\n",
        "It is important to process the data into a format where it can be fed to a machine learning model. This typically means converting all non-numeric columns to numeric, handling NaN values and generating new features from already existing features.\n",
        "\n",
        "\n",
        "In our case, you have a few datetime columns to preprocess. you can extract the following from them:\n",
        "\n",
        "\n",
        "weekdays\n",
        "\n",
        "\n",
        "weekends\n",
        "\n",
        "number of days to holidays\n",
        "\n",
        "Number of days after holiday\n",
        "\n",
        "Beginning of month, mid month and ending of month\n",
        "(think of more features to extract), extra marks for it\n",
        "\n",
        "\n",
        "As a final thing, you have to scale the data. This helps with predictions especially when using machine learning algorithms that use Euclidean distances. you can use the standard scaler in sklearn for this.\n"
      ],
      "id": "95fc3621"
    },
    {
      "cell_type": "code",
      "execution_count": 86,
      "metadata": {
        "id": "5bfa633f"
      },
      "outputs": [],
      "source": [
        "# Extract features from datetime for both train and test data\n",
        "train_data_merged['weekday'] = train_data_merged['Date'].dt.weekday\n",
        "train_data_merged['is_weekend'] = train_data_merged['weekday'].apply(lambda x: 1 if x >= 5 else 0)\n",
        "\n",
        "test_data_merged['weekday'] = test_data_merged['Date'].dt.weekday\n",
        "test_data_merged['is_weekend'] = test_data_merged['weekday'].apply(lambda x: 1 if x >= 5 else 0)"
      ],
      "id": "5bfa633f"
    },
    {
      "cell_type": "code",
      "execution_count": 87,
      "metadata": {
        "colab": {
          "base_uri": "https://localhost:8080/"
        },
        "id": "606aae38",
        "outputId": "6cd6f31d-11fc-4607-d11c-4095726ff095"
      },
      "outputs": [
        {
          "output_type": "stream",
          "name": "stdout",
          "text": [
            "<class 'pandas.core.frame.DataFrame'>\n",
            "Int64Index: 41088 entries, 0 to 41087\n",
            "Data columns (total 19 columns):\n",
            " #   Column                     Non-Null Count  Dtype         \n",
            "---  ------                     --------------  -----         \n",
            " 0   Id                         41088 non-null  int64         \n",
            " 1   Store                      41088 non-null  int64         \n",
            " 2   DayOfWeek                  41088 non-null  int64         \n",
            " 3   Date                       41088 non-null  datetime64[ns]\n",
            " 4   Open                       41077 non-null  float64       \n",
            " 5   Promo                      41088 non-null  int64         \n",
            " 6   StateHoliday               41088 non-null  object        \n",
            " 7   SchoolHoliday              41088 non-null  int64         \n",
            " 8   StoreType                  41088 non-null  object        \n",
            " 9   Assortment                 41088 non-null  object        \n",
            " 10  CompetitionDistance        40992 non-null  float64       \n",
            " 11  CompetitionOpenSinceMonth  25872 non-null  float64       \n",
            " 12  CompetitionOpenSinceYear   25872 non-null  float64       \n",
            " 13  Promo2                     41088 non-null  int64         \n",
            " 14  Promo2SinceWeek            23856 non-null  float64       \n",
            " 15  Promo2SinceYear            23856 non-null  float64       \n",
            " 16  PromoInterval              23856 non-null  object        \n",
            " 17  weekday                    41088 non-null  int64         \n",
            " 18  is_weekend                 41088 non-null  int64         \n",
            "dtypes: datetime64[ns](1), float64(6), int64(8), object(4)\n",
            "memory usage: 6.3+ MB\n"
          ]
        }
      ],
      "source": [
        "test_data_merged.info()"
      ],
      "id": "606aae38"
    },
    {
      "cell_type": "code",
      "execution_count": 88,
      "metadata": {
        "colab": {
          "base_uri": "https://localhost:8080/"
        },
        "id": "0071effe",
        "outputId": "57a49b3d-33b4-400b-f257-70c00c625a22"
      },
      "outputs": [
        {
          "output_type": "stream",
          "name": "stdout",
          "text": [
            "<class 'pandas.core.frame.DataFrame'>\n",
            "Int64Index: 1017209 entries, 0 to 1017208\n",
            "Data columns (total 20 columns):\n",
            " #   Column                     Non-Null Count    Dtype         \n",
            "---  ------                     --------------    -----         \n",
            " 0   Store                      1017209 non-null  int64         \n",
            " 1   DayOfWeek                  1017209 non-null  int64         \n",
            " 2   Date                       1017209 non-null  datetime64[ns]\n",
            " 3   Sales                      1017209 non-null  int64         \n",
            " 4   Customers                  1017209 non-null  int64         \n",
            " 5   Open                       1017209 non-null  int64         \n",
            " 6   Promo                      1017209 non-null  int64         \n",
            " 7   StateHoliday               1017209 non-null  object        \n",
            " 8   SchoolHoliday              1017209 non-null  int64         \n",
            " 9   StoreType                  1017209 non-null  object        \n",
            " 10  Assortment                 1017209 non-null  object        \n",
            " 11  CompetitionDistance        1014567 non-null  float64       \n",
            " 12  CompetitionOpenSinceMonth  693861 non-null   float64       \n",
            " 13  CompetitionOpenSinceYear   693861 non-null   float64       \n",
            " 14  Promo2                     1017209 non-null  int64         \n",
            " 15  Promo2SinceWeek            509178 non-null   float64       \n",
            " 16  Promo2SinceYear            509178 non-null   float64       \n",
            " 17  PromoInterval              509178 non-null   object        \n",
            " 18  weekday                    1017209 non-null  int64         \n",
            " 19  is_weekend                 1017209 non-null  int64         \n",
            "dtypes: datetime64[ns](1), float64(5), int64(10), object(4)\n",
            "memory usage: 163.0+ MB\n"
          ]
        }
      ],
      "source": [
        "train_data_merged.info()"
      ],
      "id": "0071effe"
    },
    {
      "cell_type": "code",
      "execution_count": 89,
      "metadata": {
        "id": "73fa307c"
      },
      "outputs": [],
      "source": [
        "train_data_merged['SalesPerCustomer'] = train_data_merged['Sales'] / train_data_merged['Customers']\n"
      ],
      "id": "73fa307c"
    },
    {
      "cell_type": "code",
      "execution_count": 90,
      "metadata": {
        "id": "aae92f0f"
      },
      "outputs": [],
      "source": [
        "def get_season(month):\n",
        "    if 3 <= month <= 5:\n",
        "        return 'Spring'\n",
        "    elif 6 <= month <= 8:\n",
        "        return 'Summer'\n",
        "    elif 9 <= month <= 11:\n",
        "        return 'Autumn'\n",
        "    else:\n",
        "        return 'Winter'\n",
        "\n",
        "train_data_merged['Season'] = train_data_merged['Date'].dt.month.apply(get_season)\n"
      ],
      "id": "aae92f0f"
    },
    {
      "cell_type": "code",
      "execution_count": 91,
      "metadata": {
        "id": "6ceea4d9"
      },
      "outputs": [],
      "source": [
        "def get_season(month):\n",
        "    if 3 <= month <= 5:\n",
        "        return 'Spring'\n",
        "    elif 6 <= month <= 8:\n",
        "        return 'Summer'\n",
        "    elif 9 <= month <= 11:\n",
        "        return 'Autumn'\n",
        "    else:\n",
        "        return 'Winter'\n",
        "\n",
        "test_data_merged['Season'] = test_data_merged['Date'].dt.month.apply(get_season)\n"
      ],
      "id": "6ceea4d9"
    },
    {
      "cell_type": "code",
      "execution_count": 92,
      "metadata": {
        "id": "3b331d53"
      },
      "outputs": [],
      "source": [
        "holiday_dates = [\n",
        "    pd.to_datetime('2023-01-01'),\n",
        "    pd.to_datetime('2023-04-15'),\n",
        "    pd.to_datetime('2023-07-04'),\n",
        "    pd.to_datetime('2023-12-25')\n",
        "]"
      ],
      "id": "3b331d53"
    },
    {
      "cell_type": "code",
      "execution_count": 93,
      "metadata": {
        "id": "be621327"
      },
      "outputs": [],
      "source": [
        "train_data_merged['IsBeginningOfMonth'] = (train_data_merged['Date'].dt.day <= 10).astype(int)\n",
        "train_data_merged['IsMidOfMonth'] = ((train_data_merged['Date'].dt.day > 10) & (train_data_merged['Date'].dt.day <= 20)).astype(int)\n",
        "train_data_merged['IsEndOfMonth'] = (train_data_merged['Date'].dt.day > 20).astype(int)\n",
        "\n",
        "test_data_merged['IsBeginningOfMonth'] = (test_data_merged['Date'].dt.day <= 10).astype(int)\n",
        "test_data_merged['IsMidOfMonth'] = ((test_data_merged['Date'].dt.day > 10) & (test_data_merged['Date'].dt.day <= 20)).astype(int)\n",
        "test_data_merged['IsEndOfMonth'] = (test_data_merged['Date'].dt.day > 20).astype(int)\n"
      ],
      "id": "be621327"
    },
    {
      "cell_type": "code",
      "execution_count": 94,
      "metadata": {
        "id": "8e734413"
      },
      "outputs": [],
      "source": [
        "# Calculate days to and after holidays\n",
        "train_data_merged['DaysToHoliday'] = ((holiday_dates[0] - train_data_merged['Date']).dt.days).clip(lower=0)\n",
        "train_data_merged['DaysAfterHoliday'] = ((train_data_merged['Date'] - holiday_dates[-1]).dt.days).clip(lower=0)\n",
        "\n",
        "test_data_merged['DaysToHoliday'] = ((holiday_dates[0] - test_data_merged['Date']).dt.days).clip(lower=0)\n",
        "test_data_merged['DaysAfterHoliday'] = ((test_data_merged['Date'] - holiday_dates[-1]).dt.days).clip(lower=0)"
      ],
      "id": "8e734413"
    },
    {
      "cell_type": "code",
      "execution_count": 95,
      "metadata": {
        "colab": {
          "base_uri": "https://localhost:8080/",
          "height": 617
        },
        "id": "67e972e3",
        "outputId": "483cea5c-4902-43a4-db73-67a2d9f9b204"
      },
      "outputs": [
        {
          "output_type": "execute_result",
          "data": {
            "text/plain": [
              "         Store  DayOfWeek       Date  Sales  Customers  Open  Promo  \\\n",
              "0            1          5 2015-07-31   5263        555     1      1   \n",
              "1            2          5 2015-07-31   6064        625     1      1   \n",
              "2            3          5 2015-07-31   8314        821     1      1   \n",
              "3            4          5 2015-07-31  13995       1498     1      1   \n",
              "4            5          5 2015-07-31   4822        559     1      1   \n",
              "...        ...        ...        ...    ...        ...   ...    ...   \n",
              "1017204   1111          2 2013-01-01      0          0     0      0   \n",
              "1017205   1112          2 2013-01-01      0          0     0      0   \n",
              "1017206   1113          2 2013-01-01      0          0     0      0   \n",
              "1017207   1114          2 2013-01-01      0          0     0      0   \n",
              "1017208   1115          2 2013-01-01      0          0     0      0   \n",
              "\n",
              "        StateHoliday  SchoolHoliday StoreType  ...     PromoInterval  weekday  \\\n",
              "0                  0              1         c  ...               NaN        4   \n",
              "1                  0              1         a  ...   Jan,Apr,Jul,Oct        4   \n",
              "2                  0              1         a  ...   Jan,Apr,Jul,Oct        4   \n",
              "3                  0              1         c  ...               NaN        4   \n",
              "4                  0              1         a  ...               NaN        4   \n",
              "...              ...            ...       ...  ...               ...      ...   \n",
              "1017204            a              1         a  ...   Jan,Apr,Jul,Oct        1   \n",
              "1017205            a              1         c  ...               NaN        1   \n",
              "1017206            a              1         a  ...               NaN        1   \n",
              "1017207            a              1         a  ...               NaN        1   \n",
              "1017208            a              1         d  ...  Mar,Jun,Sept,Dec        1   \n",
              "\n",
              "         is_weekend  SalesPerCustomer  Season  IsBeginningOfMonth  \\\n",
              "0                 0          9.482883  Summer                   0   \n",
              "1                 0          9.702400  Summer                   0   \n",
              "2                 0         10.126675  Summer                   0   \n",
              "3                 0          9.342457  Summer                   0   \n",
              "4                 0          8.626118  Summer                   0   \n",
              "...             ...               ...     ...                 ...   \n",
              "1017204           0               NaN  Winter                   1   \n",
              "1017205           0               NaN  Winter                   1   \n",
              "1017206           0               NaN  Winter                   1   \n",
              "1017207           0               NaN  Winter                   1   \n",
              "1017208           0               NaN  Winter                   1   \n",
              "\n",
              "         IsMidOfMonth IsEndOfMonth  DaysToHoliday  DaysAfterHoliday  \n",
              "0                   0            1           2711                 0  \n",
              "1                   0            1           2711                 0  \n",
              "2                   0            1           2711                 0  \n",
              "3                   0            1           2711                 0  \n",
              "4                   0            1           2711                 0  \n",
              "...               ...          ...            ...               ...  \n",
              "1017204             0            0           3652                 0  \n",
              "1017205             0            0           3652                 0  \n",
              "1017206             0            0           3652                 0  \n",
              "1017207             0            0           3652                 0  \n",
              "1017208             0            0           3652                 0  \n",
              "\n",
              "[1017209 rows x 27 columns]"
            ],
            "text/html": [
              "\n",
              "  <div id=\"df-d31d30e2-bcb6-42f2-8eb8-45338680ed2d\" class=\"colab-df-container\">\n",
              "    <div>\n",
              "<style scoped>\n",
              "    .dataframe tbody tr th:only-of-type {\n",
              "        vertical-align: middle;\n",
              "    }\n",
              "\n",
              "    .dataframe tbody tr th {\n",
              "        vertical-align: top;\n",
              "    }\n",
              "\n",
              "    .dataframe thead th {\n",
              "        text-align: right;\n",
              "    }\n",
              "</style>\n",
              "<table border=\"1\" class=\"dataframe\">\n",
              "  <thead>\n",
              "    <tr style=\"text-align: right;\">\n",
              "      <th></th>\n",
              "      <th>Store</th>\n",
              "      <th>DayOfWeek</th>\n",
              "      <th>Date</th>\n",
              "      <th>Sales</th>\n",
              "      <th>Customers</th>\n",
              "      <th>Open</th>\n",
              "      <th>Promo</th>\n",
              "      <th>StateHoliday</th>\n",
              "      <th>SchoolHoliday</th>\n",
              "      <th>StoreType</th>\n",
              "      <th>...</th>\n",
              "      <th>PromoInterval</th>\n",
              "      <th>weekday</th>\n",
              "      <th>is_weekend</th>\n",
              "      <th>SalesPerCustomer</th>\n",
              "      <th>Season</th>\n",
              "      <th>IsBeginningOfMonth</th>\n",
              "      <th>IsMidOfMonth</th>\n",
              "      <th>IsEndOfMonth</th>\n",
              "      <th>DaysToHoliday</th>\n",
              "      <th>DaysAfterHoliday</th>\n",
              "    </tr>\n",
              "  </thead>\n",
              "  <tbody>\n",
              "    <tr>\n",
              "      <th>0</th>\n",
              "      <td>1</td>\n",
              "      <td>5</td>\n",
              "      <td>2015-07-31</td>\n",
              "      <td>5263</td>\n",
              "      <td>555</td>\n",
              "      <td>1</td>\n",
              "      <td>1</td>\n",
              "      <td>0</td>\n",
              "      <td>1</td>\n",
              "      <td>c</td>\n",
              "      <td>...</td>\n",
              "      <td>NaN</td>\n",
              "      <td>4</td>\n",
              "      <td>0</td>\n",
              "      <td>9.482883</td>\n",
              "      <td>Summer</td>\n",
              "      <td>0</td>\n",
              "      <td>0</td>\n",
              "      <td>1</td>\n",
              "      <td>2711</td>\n",
              "      <td>0</td>\n",
              "    </tr>\n",
              "    <tr>\n",
              "      <th>1</th>\n",
              "      <td>2</td>\n",
              "      <td>5</td>\n",
              "      <td>2015-07-31</td>\n",
              "      <td>6064</td>\n",
              "      <td>625</td>\n",
              "      <td>1</td>\n",
              "      <td>1</td>\n",
              "      <td>0</td>\n",
              "      <td>1</td>\n",
              "      <td>a</td>\n",
              "      <td>...</td>\n",
              "      <td>Jan,Apr,Jul,Oct</td>\n",
              "      <td>4</td>\n",
              "      <td>0</td>\n",
              "      <td>9.702400</td>\n",
              "      <td>Summer</td>\n",
              "      <td>0</td>\n",
              "      <td>0</td>\n",
              "      <td>1</td>\n",
              "      <td>2711</td>\n",
              "      <td>0</td>\n",
              "    </tr>\n",
              "    <tr>\n",
              "      <th>2</th>\n",
              "      <td>3</td>\n",
              "      <td>5</td>\n",
              "      <td>2015-07-31</td>\n",
              "      <td>8314</td>\n",
              "      <td>821</td>\n",
              "      <td>1</td>\n",
              "      <td>1</td>\n",
              "      <td>0</td>\n",
              "      <td>1</td>\n",
              "      <td>a</td>\n",
              "      <td>...</td>\n",
              "      <td>Jan,Apr,Jul,Oct</td>\n",
              "      <td>4</td>\n",
              "      <td>0</td>\n",
              "      <td>10.126675</td>\n",
              "      <td>Summer</td>\n",
              "      <td>0</td>\n",
              "      <td>0</td>\n",
              "      <td>1</td>\n",
              "      <td>2711</td>\n",
              "      <td>0</td>\n",
              "    </tr>\n",
              "    <tr>\n",
              "      <th>3</th>\n",
              "      <td>4</td>\n",
              "      <td>5</td>\n",
              "      <td>2015-07-31</td>\n",
              "      <td>13995</td>\n",
              "      <td>1498</td>\n",
              "      <td>1</td>\n",
              "      <td>1</td>\n",
              "      <td>0</td>\n",
              "      <td>1</td>\n",
              "      <td>c</td>\n",
              "      <td>...</td>\n",
              "      <td>NaN</td>\n",
              "      <td>4</td>\n",
              "      <td>0</td>\n",
              "      <td>9.342457</td>\n",
              "      <td>Summer</td>\n",
              "      <td>0</td>\n",
              "      <td>0</td>\n",
              "      <td>1</td>\n",
              "      <td>2711</td>\n",
              "      <td>0</td>\n",
              "    </tr>\n",
              "    <tr>\n",
              "      <th>4</th>\n",
              "      <td>5</td>\n",
              "      <td>5</td>\n",
              "      <td>2015-07-31</td>\n",
              "      <td>4822</td>\n",
              "      <td>559</td>\n",
              "      <td>1</td>\n",
              "      <td>1</td>\n",
              "      <td>0</td>\n",
              "      <td>1</td>\n",
              "      <td>a</td>\n",
              "      <td>...</td>\n",
              "      <td>NaN</td>\n",
              "      <td>4</td>\n",
              "      <td>0</td>\n",
              "      <td>8.626118</td>\n",
              "      <td>Summer</td>\n",
              "      <td>0</td>\n",
              "      <td>0</td>\n",
              "      <td>1</td>\n",
              "      <td>2711</td>\n",
              "      <td>0</td>\n",
              "    </tr>\n",
              "    <tr>\n",
              "      <th>...</th>\n",
              "      <td>...</td>\n",
              "      <td>...</td>\n",
              "      <td>...</td>\n",
              "      <td>...</td>\n",
              "      <td>...</td>\n",
              "      <td>...</td>\n",
              "      <td>...</td>\n",
              "      <td>...</td>\n",
              "      <td>...</td>\n",
              "      <td>...</td>\n",
              "      <td>...</td>\n",
              "      <td>...</td>\n",
              "      <td>...</td>\n",
              "      <td>...</td>\n",
              "      <td>...</td>\n",
              "      <td>...</td>\n",
              "      <td>...</td>\n",
              "      <td>...</td>\n",
              "      <td>...</td>\n",
              "      <td>...</td>\n",
              "      <td>...</td>\n",
              "    </tr>\n",
              "    <tr>\n",
              "      <th>1017204</th>\n",
              "      <td>1111</td>\n",
              "      <td>2</td>\n",
              "      <td>2013-01-01</td>\n",
              "      <td>0</td>\n",
              "      <td>0</td>\n",
              "      <td>0</td>\n",
              "      <td>0</td>\n",
              "      <td>a</td>\n",
              "      <td>1</td>\n",
              "      <td>a</td>\n",
              "      <td>...</td>\n",
              "      <td>Jan,Apr,Jul,Oct</td>\n",
              "      <td>1</td>\n",
              "      <td>0</td>\n",
              "      <td>NaN</td>\n",
              "      <td>Winter</td>\n",
              "      <td>1</td>\n",
              "      <td>0</td>\n",
              "      <td>0</td>\n",
              "      <td>3652</td>\n",
              "      <td>0</td>\n",
              "    </tr>\n",
              "    <tr>\n",
              "      <th>1017205</th>\n",
              "      <td>1112</td>\n",
              "      <td>2</td>\n",
              "      <td>2013-01-01</td>\n",
              "      <td>0</td>\n",
              "      <td>0</td>\n",
              "      <td>0</td>\n",
              "      <td>0</td>\n",
              "      <td>a</td>\n",
              "      <td>1</td>\n",
              "      <td>c</td>\n",
              "      <td>...</td>\n",
              "      <td>NaN</td>\n",
              "      <td>1</td>\n",
              "      <td>0</td>\n",
              "      <td>NaN</td>\n",
              "      <td>Winter</td>\n",
              "      <td>1</td>\n",
              "      <td>0</td>\n",
              "      <td>0</td>\n",
              "      <td>3652</td>\n",
              "      <td>0</td>\n",
              "    </tr>\n",
              "    <tr>\n",
              "      <th>1017206</th>\n",
              "      <td>1113</td>\n",
              "      <td>2</td>\n",
              "      <td>2013-01-01</td>\n",
              "      <td>0</td>\n",
              "      <td>0</td>\n",
              "      <td>0</td>\n",
              "      <td>0</td>\n",
              "      <td>a</td>\n",
              "      <td>1</td>\n",
              "      <td>a</td>\n",
              "      <td>...</td>\n",
              "      <td>NaN</td>\n",
              "      <td>1</td>\n",
              "      <td>0</td>\n",
              "      <td>NaN</td>\n",
              "      <td>Winter</td>\n",
              "      <td>1</td>\n",
              "      <td>0</td>\n",
              "      <td>0</td>\n",
              "      <td>3652</td>\n",
              "      <td>0</td>\n",
              "    </tr>\n",
              "    <tr>\n",
              "      <th>1017207</th>\n",
              "      <td>1114</td>\n",
              "      <td>2</td>\n",
              "      <td>2013-01-01</td>\n",
              "      <td>0</td>\n",
              "      <td>0</td>\n",
              "      <td>0</td>\n",
              "      <td>0</td>\n",
              "      <td>a</td>\n",
              "      <td>1</td>\n",
              "      <td>a</td>\n",
              "      <td>...</td>\n",
              "      <td>NaN</td>\n",
              "      <td>1</td>\n",
              "      <td>0</td>\n",
              "      <td>NaN</td>\n",
              "      <td>Winter</td>\n",
              "      <td>1</td>\n",
              "      <td>0</td>\n",
              "      <td>0</td>\n",
              "      <td>3652</td>\n",
              "      <td>0</td>\n",
              "    </tr>\n",
              "    <tr>\n",
              "      <th>1017208</th>\n",
              "      <td>1115</td>\n",
              "      <td>2</td>\n",
              "      <td>2013-01-01</td>\n",
              "      <td>0</td>\n",
              "      <td>0</td>\n",
              "      <td>0</td>\n",
              "      <td>0</td>\n",
              "      <td>a</td>\n",
              "      <td>1</td>\n",
              "      <td>d</td>\n",
              "      <td>...</td>\n",
              "      <td>Mar,Jun,Sept,Dec</td>\n",
              "      <td>1</td>\n",
              "      <td>0</td>\n",
              "      <td>NaN</td>\n",
              "      <td>Winter</td>\n",
              "      <td>1</td>\n",
              "      <td>0</td>\n",
              "      <td>0</td>\n",
              "      <td>3652</td>\n",
              "      <td>0</td>\n",
              "    </tr>\n",
              "  </tbody>\n",
              "</table>\n",
              "<p>1017209 rows × 27 columns</p>\n",
              "</div>\n",
              "    <div class=\"colab-df-buttons\">\n",
              "\n",
              "  <div class=\"colab-df-container\">\n",
              "    <button class=\"colab-df-convert\" onclick=\"convertToInteractive('df-d31d30e2-bcb6-42f2-8eb8-45338680ed2d')\"\n",
              "            title=\"Convert this dataframe to an interactive table.\"\n",
              "            style=\"display:none;\">\n",
              "\n",
              "  <svg xmlns=\"http://www.w3.org/2000/svg\" height=\"24px\" viewBox=\"0 -960 960 960\">\n",
              "    <path d=\"M120-120v-720h720v720H120Zm60-500h600v-160H180v160Zm220 220h160v-160H400v160Zm0 220h160v-160H400v160ZM180-400h160v-160H180v160Zm440 0h160v-160H620v160ZM180-180h160v-160H180v160Zm440 0h160v-160H620v160Z\"/>\n",
              "  </svg>\n",
              "    </button>\n",
              "\n",
              "  <style>\n",
              "    .colab-df-container {\n",
              "      display:flex;\n",
              "      gap: 12px;\n",
              "    }\n",
              "\n",
              "    .colab-df-convert {\n",
              "      background-color: #E8F0FE;\n",
              "      border: none;\n",
              "      border-radius: 50%;\n",
              "      cursor: pointer;\n",
              "      display: none;\n",
              "      fill: #1967D2;\n",
              "      height: 32px;\n",
              "      padding: 0 0 0 0;\n",
              "      width: 32px;\n",
              "    }\n",
              "\n",
              "    .colab-df-convert:hover {\n",
              "      background-color: #E2EBFA;\n",
              "      box-shadow: 0px 1px 2px rgba(60, 64, 67, 0.3), 0px 1px 3px 1px rgba(60, 64, 67, 0.15);\n",
              "      fill: #174EA6;\n",
              "    }\n",
              "\n",
              "    .colab-df-buttons div {\n",
              "      margin-bottom: 4px;\n",
              "    }\n",
              "\n",
              "    [theme=dark] .colab-df-convert {\n",
              "      background-color: #3B4455;\n",
              "      fill: #D2E3FC;\n",
              "    }\n",
              "\n",
              "    [theme=dark] .colab-df-convert:hover {\n",
              "      background-color: #434B5C;\n",
              "      box-shadow: 0px 1px 3px 1px rgba(0, 0, 0, 0.15);\n",
              "      filter: drop-shadow(0px 1px 2px rgba(0, 0, 0, 0.3));\n",
              "      fill: #FFFFFF;\n",
              "    }\n",
              "  </style>\n",
              "\n",
              "    <script>\n",
              "      const buttonEl =\n",
              "        document.querySelector('#df-d31d30e2-bcb6-42f2-8eb8-45338680ed2d button.colab-df-convert');\n",
              "      buttonEl.style.display =\n",
              "        google.colab.kernel.accessAllowed ? 'block' : 'none';\n",
              "\n",
              "      async function convertToInteractive(key) {\n",
              "        const element = document.querySelector('#df-d31d30e2-bcb6-42f2-8eb8-45338680ed2d');\n",
              "        const dataTable =\n",
              "          await google.colab.kernel.invokeFunction('convertToInteractive',\n",
              "                                                    [key], {});\n",
              "        if (!dataTable) return;\n",
              "\n",
              "        const docLinkHtml = 'Like what you see? Visit the ' +\n",
              "          '<a target=\"_blank\" href=https://colab.research.google.com/notebooks/data_table.ipynb>data table notebook</a>'\n",
              "          + ' to learn more about interactive tables.';\n",
              "        element.innerHTML = '';\n",
              "        dataTable['output_type'] = 'display_data';\n",
              "        await google.colab.output.renderOutput(dataTable, element);\n",
              "        const docLink = document.createElement('div');\n",
              "        docLink.innerHTML = docLinkHtml;\n",
              "        element.appendChild(docLink);\n",
              "      }\n",
              "    </script>\n",
              "  </div>\n",
              "\n",
              "\n",
              "<div id=\"df-4d46096d-87d6-4ba0-97a9-4cc08f72107b\">\n",
              "  <button class=\"colab-df-quickchart\" onclick=\"quickchart('df-4d46096d-87d6-4ba0-97a9-4cc08f72107b')\"\n",
              "            title=\"Suggest charts.\"\n",
              "            style=\"display:none;\">\n",
              "\n",
              "<svg xmlns=\"http://www.w3.org/2000/svg\" height=\"24px\"viewBox=\"0 0 24 24\"\n",
              "     width=\"24px\">\n",
              "    <g>\n",
              "        <path d=\"M19 3H5c-1.1 0-2 .9-2 2v14c0 1.1.9 2 2 2h14c1.1 0 2-.9 2-2V5c0-1.1-.9-2-2-2zM9 17H7v-7h2v7zm4 0h-2V7h2v10zm4 0h-2v-4h2v4z\"/>\n",
              "    </g>\n",
              "</svg>\n",
              "  </button>\n",
              "\n",
              "<style>\n",
              "  .colab-df-quickchart {\n",
              "    background-color: #E8F0FE;\n",
              "    border: none;\n",
              "    border-radius: 50%;\n",
              "    cursor: pointer;\n",
              "    display: none;\n",
              "    fill: #1967D2;\n",
              "    height: 32px;\n",
              "    padding: 0 0 0 0;\n",
              "    width: 32px;\n",
              "  }\n",
              "\n",
              "  .colab-df-quickchart:hover {\n",
              "    background-color: #E2EBFA;\n",
              "    box-shadow: 0px 1px 2px rgba(60, 64, 67, 0.3), 0px 1px 3px 1px rgba(60, 64, 67, 0.15);\n",
              "    fill: #174EA6;\n",
              "  }\n",
              "\n",
              "  [theme=dark] .colab-df-quickchart {\n",
              "    background-color: #3B4455;\n",
              "    fill: #D2E3FC;\n",
              "  }\n",
              "\n",
              "  [theme=dark] .colab-df-quickchart:hover {\n",
              "    background-color: #434B5C;\n",
              "    box-shadow: 0px 1px 3px 1px rgba(0, 0, 0, 0.15);\n",
              "    filter: drop-shadow(0px 1px 2px rgba(0, 0, 0, 0.3));\n",
              "    fill: #FFFFFF;\n",
              "  }\n",
              "</style>\n",
              "\n",
              "  <script>\n",
              "    async function quickchart(key) {\n",
              "      const charts = await google.colab.kernel.invokeFunction(\n",
              "          'suggestCharts', [key], {});\n",
              "    }\n",
              "    (() => {\n",
              "      let quickchartButtonEl =\n",
              "        document.querySelector('#df-4d46096d-87d6-4ba0-97a9-4cc08f72107b button');\n",
              "      quickchartButtonEl.style.display =\n",
              "        google.colab.kernel.accessAllowed ? 'block' : 'none';\n",
              "    })();\n",
              "  </script>\n",
              "</div>\n",
              "    </div>\n",
              "  </div>\n"
            ]
          },
          "metadata": {},
          "execution_count": 95
        }
      ],
      "source": [
        "train_data_merged"
      ],
      "id": "67e972e3"
    },
    {
      "cell_type": "code",
      "execution_count": 96,
      "metadata": {
        "colab": {
          "base_uri": "https://localhost:8080/",
          "height": 342
        },
        "id": "43edb31e",
        "outputId": "6158d593-ed64-4306-cca7-41ebde9137fb"
      },
      "outputs": [
        {
          "output_type": "execute_result",
          "data": {
            "text/plain": [
              "          Id  Store  DayOfWeek       Date  Open  Promo StateHoliday  \\\n",
              "41083  41084   1111          6 2015-08-01   1.0      0            0   \n",
              "41084  41085   1112          6 2015-08-01   1.0      0            0   \n",
              "41085  41086   1113          6 2015-08-01   1.0      0            0   \n",
              "41086  41087   1114          6 2015-08-01   1.0      0            0   \n",
              "41087  41088   1115          6 2015-08-01   1.0      0            0   \n",
              "\n",
              "       SchoolHoliday StoreType Assortment  ...  Promo2SinceYear  \\\n",
              "41083              0         a          a  ...           2013.0   \n",
              "41084              0         c          c  ...              NaN   \n",
              "41085              0         a          c  ...              NaN   \n",
              "41086              0         a          c  ...              NaN   \n",
              "41087              1         d          c  ...           2012.0   \n",
              "\n",
              "          PromoInterval  weekday  is_weekend  Season  IsBeginningOfMonth  \\\n",
              "41083   Jan,Apr,Jul,Oct        5           1  Summer                   1   \n",
              "41084               NaN        5           1  Summer                   1   \n",
              "41085               NaN        5           1  Summer                   1   \n",
              "41086               NaN        5           1  Summer                   1   \n",
              "41087  Mar,Jun,Sept,Dec        5           1  Summer                   1   \n",
              "\n",
              "      IsMidOfMonth  IsEndOfMonth  DaysToHoliday DaysAfterHoliday  \n",
              "41083            0             0           2710                0  \n",
              "41084            0             0           2710                0  \n",
              "41085            0             0           2710                0  \n",
              "41086            0             0           2710                0  \n",
              "41087            0             0           2710                0  \n",
              "\n",
              "[5 rows x 25 columns]"
            ],
            "text/html": [
              "\n",
              "  <div id=\"df-c1d466c7-d17b-4a35-b89c-b3f3b22022d6\" class=\"colab-df-container\">\n",
              "    <div>\n",
              "<style scoped>\n",
              "    .dataframe tbody tr th:only-of-type {\n",
              "        vertical-align: middle;\n",
              "    }\n",
              "\n",
              "    .dataframe tbody tr th {\n",
              "        vertical-align: top;\n",
              "    }\n",
              "\n",
              "    .dataframe thead th {\n",
              "        text-align: right;\n",
              "    }\n",
              "</style>\n",
              "<table border=\"1\" class=\"dataframe\">\n",
              "  <thead>\n",
              "    <tr style=\"text-align: right;\">\n",
              "      <th></th>\n",
              "      <th>Id</th>\n",
              "      <th>Store</th>\n",
              "      <th>DayOfWeek</th>\n",
              "      <th>Date</th>\n",
              "      <th>Open</th>\n",
              "      <th>Promo</th>\n",
              "      <th>StateHoliday</th>\n",
              "      <th>SchoolHoliday</th>\n",
              "      <th>StoreType</th>\n",
              "      <th>Assortment</th>\n",
              "      <th>...</th>\n",
              "      <th>Promo2SinceYear</th>\n",
              "      <th>PromoInterval</th>\n",
              "      <th>weekday</th>\n",
              "      <th>is_weekend</th>\n",
              "      <th>Season</th>\n",
              "      <th>IsBeginningOfMonth</th>\n",
              "      <th>IsMidOfMonth</th>\n",
              "      <th>IsEndOfMonth</th>\n",
              "      <th>DaysToHoliday</th>\n",
              "      <th>DaysAfterHoliday</th>\n",
              "    </tr>\n",
              "  </thead>\n",
              "  <tbody>\n",
              "    <tr>\n",
              "      <th>41083</th>\n",
              "      <td>41084</td>\n",
              "      <td>1111</td>\n",
              "      <td>6</td>\n",
              "      <td>2015-08-01</td>\n",
              "      <td>1.0</td>\n",
              "      <td>0</td>\n",
              "      <td>0</td>\n",
              "      <td>0</td>\n",
              "      <td>a</td>\n",
              "      <td>a</td>\n",
              "      <td>...</td>\n",
              "      <td>2013.0</td>\n",
              "      <td>Jan,Apr,Jul,Oct</td>\n",
              "      <td>5</td>\n",
              "      <td>1</td>\n",
              "      <td>Summer</td>\n",
              "      <td>1</td>\n",
              "      <td>0</td>\n",
              "      <td>0</td>\n",
              "      <td>2710</td>\n",
              "      <td>0</td>\n",
              "    </tr>\n",
              "    <tr>\n",
              "      <th>41084</th>\n",
              "      <td>41085</td>\n",
              "      <td>1112</td>\n",
              "      <td>6</td>\n",
              "      <td>2015-08-01</td>\n",
              "      <td>1.0</td>\n",
              "      <td>0</td>\n",
              "      <td>0</td>\n",
              "      <td>0</td>\n",
              "      <td>c</td>\n",
              "      <td>c</td>\n",
              "      <td>...</td>\n",
              "      <td>NaN</td>\n",
              "      <td>NaN</td>\n",
              "      <td>5</td>\n",
              "      <td>1</td>\n",
              "      <td>Summer</td>\n",
              "      <td>1</td>\n",
              "      <td>0</td>\n",
              "      <td>0</td>\n",
              "      <td>2710</td>\n",
              "      <td>0</td>\n",
              "    </tr>\n",
              "    <tr>\n",
              "      <th>41085</th>\n",
              "      <td>41086</td>\n",
              "      <td>1113</td>\n",
              "      <td>6</td>\n",
              "      <td>2015-08-01</td>\n",
              "      <td>1.0</td>\n",
              "      <td>0</td>\n",
              "      <td>0</td>\n",
              "      <td>0</td>\n",
              "      <td>a</td>\n",
              "      <td>c</td>\n",
              "      <td>...</td>\n",
              "      <td>NaN</td>\n",
              "      <td>NaN</td>\n",
              "      <td>5</td>\n",
              "      <td>1</td>\n",
              "      <td>Summer</td>\n",
              "      <td>1</td>\n",
              "      <td>0</td>\n",
              "      <td>0</td>\n",
              "      <td>2710</td>\n",
              "      <td>0</td>\n",
              "    </tr>\n",
              "    <tr>\n",
              "      <th>41086</th>\n",
              "      <td>41087</td>\n",
              "      <td>1114</td>\n",
              "      <td>6</td>\n",
              "      <td>2015-08-01</td>\n",
              "      <td>1.0</td>\n",
              "      <td>0</td>\n",
              "      <td>0</td>\n",
              "      <td>0</td>\n",
              "      <td>a</td>\n",
              "      <td>c</td>\n",
              "      <td>...</td>\n",
              "      <td>NaN</td>\n",
              "      <td>NaN</td>\n",
              "      <td>5</td>\n",
              "      <td>1</td>\n",
              "      <td>Summer</td>\n",
              "      <td>1</td>\n",
              "      <td>0</td>\n",
              "      <td>0</td>\n",
              "      <td>2710</td>\n",
              "      <td>0</td>\n",
              "    </tr>\n",
              "    <tr>\n",
              "      <th>41087</th>\n",
              "      <td>41088</td>\n",
              "      <td>1115</td>\n",
              "      <td>6</td>\n",
              "      <td>2015-08-01</td>\n",
              "      <td>1.0</td>\n",
              "      <td>0</td>\n",
              "      <td>0</td>\n",
              "      <td>1</td>\n",
              "      <td>d</td>\n",
              "      <td>c</td>\n",
              "      <td>...</td>\n",
              "      <td>2012.0</td>\n",
              "      <td>Mar,Jun,Sept,Dec</td>\n",
              "      <td>5</td>\n",
              "      <td>1</td>\n",
              "      <td>Summer</td>\n",
              "      <td>1</td>\n",
              "      <td>0</td>\n",
              "      <td>0</td>\n",
              "      <td>2710</td>\n",
              "      <td>0</td>\n",
              "    </tr>\n",
              "  </tbody>\n",
              "</table>\n",
              "<p>5 rows × 25 columns</p>\n",
              "</div>\n",
              "    <div class=\"colab-df-buttons\">\n",
              "\n",
              "  <div class=\"colab-df-container\">\n",
              "    <button class=\"colab-df-convert\" onclick=\"convertToInteractive('df-c1d466c7-d17b-4a35-b89c-b3f3b22022d6')\"\n",
              "            title=\"Convert this dataframe to an interactive table.\"\n",
              "            style=\"display:none;\">\n",
              "\n",
              "  <svg xmlns=\"http://www.w3.org/2000/svg\" height=\"24px\" viewBox=\"0 -960 960 960\">\n",
              "    <path d=\"M120-120v-720h720v720H120Zm60-500h600v-160H180v160Zm220 220h160v-160H400v160Zm0 220h160v-160H400v160ZM180-400h160v-160H180v160Zm440 0h160v-160H620v160ZM180-180h160v-160H180v160Zm440 0h160v-160H620v160Z\"/>\n",
              "  </svg>\n",
              "    </button>\n",
              "\n",
              "  <style>\n",
              "    .colab-df-container {\n",
              "      display:flex;\n",
              "      gap: 12px;\n",
              "    }\n",
              "\n",
              "    .colab-df-convert {\n",
              "      background-color: #E8F0FE;\n",
              "      border: none;\n",
              "      border-radius: 50%;\n",
              "      cursor: pointer;\n",
              "      display: none;\n",
              "      fill: #1967D2;\n",
              "      height: 32px;\n",
              "      padding: 0 0 0 0;\n",
              "      width: 32px;\n",
              "    }\n",
              "\n",
              "    .colab-df-convert:hover {\n",
              "      background-color: #E2EBFA;\n",
              "      box-shadow: 0px 1px 2px rgba(60, 64, 67, 0.3), 0px 1px 3px 1px rgba(60, 64, 67, 0.15);\n",
              "      fill: #174EA6;\n",
              "    }\n",
              "\n",
              "    .colab-df-buttons div {\n",
              "      margin-bottom: 4px;\n",
              "    }\n",
              "\n",
              "    [theme=dark] .colab-df-convert {\n",
              "      background-color: #3B4455;\n",
              "      fill: #D2E3FC;\n",
              "    }\n",
              "\n",
              "    [theme=dark] .colab-df-convert:hover {\n",
              "      background-color: #434B5C;\n",
              "      box-shadow: 0px 1px 3px 1px rgba(0, 0, 0, 0.15);\n",
              "      filter: drop-shadow(0px 1px 2px rgba(0, 0, 0, 0.3));\n",
              "      fill: #FFFFFF;\n",
              "    }\n",
              "  </style>\n",
              "\n",
              "    <script>\n",
              "      const buttonEl =\n",
              "        document.querySelector('#df-c1d466c7-d17b-4a35-b89c-b3f3b22022d6 button.colab-df-convert');\n",
              "      buttonEl.style.display =\n",
              "        google.colab.kernel.accessAllowed ? 'block' : 'none';\n",
              "\n",
              "      async function convertToInteractive(key) {\n",
              "        const element = document.querySelector('#df-c1d466c7-d17b-4a35-b89c-b3f3b22022d6');\n",
              "        const dataTable =\n",
              "          await google.colab.kernel.invokeFunction('convertToInteractive',\n",
              "                                                    [key], {});\n",
              "        if (!dataTable) return;\n",
              "\n",
              "        const docLinkHtml = 'Like what you see? Visit the ' +\n",
              "          '<a target=\"_blank\" href=https://colab.research.google.com/notebooks/data_table.ipynb>data table notebook</a>'\n",
              "          + ' to learn more about interactive tables.';\n",
              "        element.innerHTML = '';\n",
              "        dataTable['output_type'] = 'display_data';\n",
              "        await google.colab.output.renderOutput(dataTable, element);\n",
              "        const docLink = document.createElement('div');\n",
              "        docLink.innerHTML = docLinkHtml;\n",
              "        element.appendChild(docLink);\n",
              "      }\n",
              "    </script>\n",
              "  </div>\n",
              "\n",
              "\n",
              "<div id=\"df-7ebe2b32-ed7e-4690-b920-80a46252b718\">\n",
              "  <button class=\"colab-df-quickchart\" onclick=\"quickchart('df-7ebe2b32-ed7e-4690-b920-80a46252b718')\"\n",
              "            title=\"Suggest charts.\"\n",
              "            style=\"display:none;\">\n",
              "\n",
              "<svg xmlns=\"http://www.w3.org/2000/svg\" height=\"24px\"viewBox=\"0 0 24 24\"\n",
              "     width=\"24px\">\n",
              "    <g>\n",
              "        <path d=\"M19 3H5c-1.1 0-2 .9-2 2v14c0 1.1.9 2 2 2h14c1.1 0 2-.9 2-2V5c0-1.1-.9-2-2-2zM9 17H7v-7h2v7zm4 0h-2V7h2v10zm4 0h-2v-4h2v4z\"/>\n",
              "    </g>\n",
              "</svg>\n",
              "  </button>\n",
              "\n",
              "<style>\n",
              "  .colab-df-quickchart {\n",
              "    background-color: #E8F0FE;\n",
              "    border: none;\n",
              "    border-radius: 50%;\n",
              "    cursor: pointer;\n",
              "    display: none;\n",
              "    fill: #1967D2;\n",
              "    height: 32px;\n",
              "    padding: 0 0 0 0;\n",
              "    width: 32px;\n",
              "  }\n",
              "\n",
              "  .colab-df-quickchart:hover {\n",
              "    background-color: #E2EBFA;\n",
              "    box-shadow: 0px 1px 2px rgba(60, 64, 67, 0.3), 0px 1px 3px 1px rgba(60, 64, 67, 0.15);\n",
              "    fill: #174EA6;\n",
              "  }\n",
              "\n",
              "  [theme=dark] .colab-df-quickchart {\n",
              "    background-color: #3B4455;\n",
              "    fill: #D2E3FC;\n",
              "  }\n",
              "\n",
              "  [theme=dark] .colab-df-quickchart:hover {\n",
              "    background-color: #434B5C;\n",
              "    box-shadow: 0px 1px 3px 1px rgba(0, 0, 0, 0.15);\n",
              "    filter: drop-shadow(0px 1px 2px rgba(0, 0, 0, 0.3));\n",
              "    fill: #FFFFFF;\n",
              "  }\n",
              "</style>\n",
              "\n",
              "  <script>\n",
              "    async function quickchart(key) {\n",
              "      const charts = await google.colab.kernel.invokeFunction(\n",
              "          'suggestCharts', [key], {});\n",
              "    }\n",
              "    (() => {\n",
              "      let quickchartButtonEl =\n",
              "        document.querySelector('#df-7ebe2b32-ed7e-4690-b920-80a46252b718 button');\n",
              "      quickchartButtonEl.style.display =\n",
              "        google.colab.kernel.accessAllowed ? 'block' : 'none';\n",
              "    })();\n",
              "  </script>\n",
              "</div>\n",
              "    </div>\n",
              "  </div>\n"
            ]
          },
          "metadata": {},
          "execution_count": 96
        }
      ],
      "source": [
        "test_data_merged.tail()"
      ],
      "id": "43edb31e"
    },
    {
      "cell_type": "code",
      "execution_count": 97,
      "metadata": {
        "colab": {
          "base_uri": "https://localhost:8080/"
        },
        "id": "3dfff509",
        "outputId": "a1d2beda-dba3-48ca-bcac-cb8d27d1bfd8"
      },
      "outputs": [
        {
          "output_type": "stream",
          "name": "stdout",
          "text": [
            "<class 'pandas.core.frame.DataFrame'>\n",
            "Int64Index: 1017209 entries, 0 to 1017208\n",
            "Data columns (total 27 columns):\n",
            " #   Column                     Non-Null Count    Dtype         \n",
            "---  ------                     --------------    -----         \n",
            " 0   Store                      1017209 non-null  int64         \n",
            " 1   DayOfWeek                  1017209 non-null  int64         \n",
            " 2   Date                       1017209 non-null  datetime64[ns]\n",
            " 3   Sales                      1017209 non-null  int64         \n",
            " 4   Customers                  1017209 non-null  int64         \n",
            " 5   Open                       1017209 non-null  int64         \n",
            " 6   Promo                      1017209 non-null  int64         \n",
            " 7   StateHoliday               1017209 non-null  object        \n",
            " 8   SchoolHoliday              1017209 non-null  int64         \n",
            " 9   StoreType                  1017209 non-null  object        \n",
            " 10  Assortment                 1017209 non-null  object        \n",
            " 11  CompetitionDistance        1014567 non-null  float64       \n",
            " 12  CompetitionOpenSinceMonth  693861 non-null   float64       \n",
            " 13  CompetitionOpenSinceYear   693861 non-null   float64       \n",
            " 14  Promo2                     1017209 non-null  int64         \n",
            " 15  Promo2SinceWeek            509178 non-null   float64       \n",
            " 16  Promo2SinceYear            509178 non-null   float64       \n",
            " 17  PromoInterval              509178 non-null   object        \n",
            " 18  weekday                    1017209 non-null  int64         \n",
            " 19  is_weekend                 1017209 non-null  int64         \n",
            " 20  SalesPerCustomer           844340 non-null   float64       \n",
            " 21  Season                     1017209 non-null  object        \n",
            " 22  IsBeginningOfMonth         1017209 non-null  int64         \n",
            " 23  IsMidOfMonth               1017209 non-null  int64         \n",
            " 24  IsEndOfMonth               1017209 non-null  int64         \n",
            " 25  DaysToHoliday              1017209 non-null  int64         \n",
            " 26  DaysAfterHoliday           1017209 non-null  int64         \n",
            "dtypes: datetime64[ns](1), float64(6), int64(15), object(5)\n",
            "memory usage: 217.3+ MB\n"
          ]
        }
      ],
      "source": [
        "train_data_merged.info()"
      ],
      "id": "3dfff509"
    },
    {
      "cell_type": "code",
      "execution_count": 98,
      "metadata": {
        "colab": {
          "base_uri": "https://localhost:8080/"
        },
        "id": "41cfef41",
        "outputId": "b14d5c8a-4d27-422c-999a-c8f3c7c8c965"
      },
      "outputs": [
        {
          "output_type": "stream",
          "name": "stdout",
          "text": [
            "<class 'pandas.core.frame.DataFrame'>\n",
            "Int64Index: 41088 entries, 0 to 41087\n",
            "Data columns (total 25 columns):\n",
            " #   Column                     Non-Null Count  Dtype         \n",
            "---  ------                     --------------  -----         \n",
            " 0   Id                         41088 non-null  int64         \n",
            " 1   Store                      41088 non-null  int64         \n",
            " 2   DayOfWeek                  41088 non-null  int64         \n",
            " 3   Date                       41088 non-null  datetime64[ns]\n",
            " 4   Open                       41077 non-null  float64       \n",
            " 5   Promo                      41088 non-null  int64         \n",
            " 6   StateHoliday               41088 non-null  object        \n",
            " 7   SchoolHoliday              41088 non-null  int64         \n",
            " 8   StoreType                  41088 non-null  object        \n",
            " 9   Assortment                 41088 non-null  object        \n",
            " 10  CompetitionDistance        40992 non-null  float64       \n",
            " 11  CompetitionOpenSinceMonth  25872 non-null  float64       \n",
            " 12  CompetitionOpenSinceYear   25872 non-null  float64       \n",
            " 13  Promo2                     41088 non-null  int64         \n",
            " 14  Promo2SinceWeek            23856 non-null  float64       \n",
            " 15  Promo2SinceYear            23856 non-null  float64       \n",
            " 16  PromoInterval              23856 non-null  object        \n",
            " 17  weekday                    41088 non-null  int64         \n",
            " 18  is_weekend                 41088 non-null  int64         \n",
            " 19  Season                     41088 non-null  object        \n",
            " 20  IsBeginningOfMonth         41088 non-null  int64         \n",
            " 21  IsMidOfMonth               41088 non-null  int64         \n",
            " 22  IsEndOfMonth               41088 non-null  int64         \n",
            " 23  DaysToHoliday              41088 non-null  int64         \n",
            " 24  DaysAfterHoliday           41088 non-null  int64         \n",
            "dtypes: datetime64[ns](1), float64(6), int64(13), object(5)\n",
            "memory usage: 8.2+ MB\n"
          ]
        }
      ],
      "source": [
        "test_data_merged.info()"
      ],
      "id": "41cfef41"
    },
    {
      "cell_type": "code",
      "execution_count": 99,
      "metadata": {
        "id": "b02d076b"
      },
      "outputs": [],
      "source": [
        "train_data_merged['StateHoliday'] = train_data_merged['StateHoliday'].astype(str)\n"
      ],
      "id": "b02d076b"
    },
    {
      "cell_type": "code",
      "execution_count": 100,
      "metadata": {
        "id": "791d64e6"
      },
      "outputs": [],
      "source": [
        "# Defining a function to separate categorical and numerical data\n",
        "def separate_categorical_and_continious(data):\n",
        "    categorical_cols, numerical_cols = [] , []\n",
        "    for cols in data.columns:\n",
        "        if data[cols].dtypes == \"object\":\n",
        "            categorical_cols.append(cols)\n",
        "        else:\n",
        "            numerical_cols.append(cols)\n",
        "    return categorical_cols, numerical_cols\n",
        "\n",
        "# Separating categorical and numerical data from train and test data\n",
        "categorical_cols_train, numerical_cols_train = separate_categorical_and_continious(train_data_merged)\n",
        "categorical_cols_test, numerical_cols_test = separate_categorical_and_continious(test_data_merged)\n",
        "\n"
      ],
      "id": "791d64e6"
    },
    {
      "cell_type": "code",
      "execution_count": 101,
      "metadata": {
        "colab": {
          "base_uri": "https://localhost:8080/"
        },
        "id": "8ebc48c1",
        "outputId": "be1564e7-e7d9-4cf6-ac91-5fb39c9aad5e"
      },
      "outputs": [
        {
          "output_type": "execute_result",
          "data": {
            "text/plain": [
              "(['StateHoliday', 'StoreType', 'Assortment', 'PromoInterval', 'Season'],\n",
              " ['Id',\n",
              "  'Store',\n",
              "  'DayOfWeek',\n",
              "  'Date',\n",
              "  'Open',\n",
              "  'Promo',\n",
              "  'SchoolHoliday',\n",
              "  'CompetitionDistance',\n",
              "  'CompetitionOpenSinceMonth',\n",
              "  'CompetitionOpenSinceYear',\n",
              "  'Promo2',\n",
              "  'Promo2SinceWeek',\n",
              "  'Promo2SinceYear',\n",
              "  'weekday',\n",
              "  'is_weekend',\n",
              "  'IsBeginningOfMonth',\n",
              "  'IsMidOfMonth',\n",
              "  'IsEndOfMonth',\n",
              "  'DaysToHoliday',\n",
              "  'DaysAfterHoliday'])"
            ]
          },
          "metadata": {},
          "execution_count": 101
        }
      ],
      "source": [
        "categorical_cols_test, numerical_cols_test"
      ],
      "id": "8ebc48c1"
    },
    {
      "cell_type": "code",
      "execution_count": 102,
      "metadata": {
        "colab": {
          "base_uri": "https://localhost:8080/"
        },
        "id": "665b6a27",
        "outputId": "b351a1b3-9af7-4e32-a2a4-2a9963eb9fd7"
      },
      "outputs": [
        {
          "output_type": "execute_result",
          "data": {
            "text/plain": [
              "(['StateHoliday', 'StoreType', 'Assortment', 'PromoInterval', 'Season'],\n",
              " ['Store',\n",
              "  'DayOfWeek',\n",
              "  'Date',\n",
              "  'Sales',\n",
              "  'Customers',\n",
              "  'Open',\n",
              "  'Promo',\n",
              "  'SchoolHoliday',\n",
              "  'CompetitionDistance',\n",
              "  'CompetitionOpenSinceMonth',\n",
              "  'CompetitionOpenSinceYear',\n",
              "  'Promo2',\n",
              "  'Promo2SinceWeek',\n",
              "  'Promo2SinceYear',\n",
              "  'weekday',\n",
              "  'is_weekend',\n",
              "  'SalesPerCustomer',\n",
              "  'IsBeginningOfMonth',\n",
              "  'IsMidOfMonth',\n",
              "  'IsEndOfMonth',\n",
              "  'DaysToHoliday',\n",
              "  'DaysAfterHoliday'])"
            ]
          },
          "metadata": {},
          "execution_count": 102
        }
      ],
      "source": [
        "categorical_cols_train, numerical_cols_train"
      ],
      "id": "665b6a27"
    },
    {
      "cell_type": "code",
      "execution_count": 103,
      "metadata": {
        "id": "c525528e"
      },
      "outputs": [],
      "source": [
        "# encoding\n",
        "from sklearn.preprocessing import LabelEncoder"
      ],
      "id": "c525528e"
    },
    {
      "cell_type": "code",
      "execution_count": 104,
      "metadata": {
        "id": "3cd60558"
      },
      "outputs": [],
      "source": [
        "encoder = LabelEncoder()"
      ],
      "id": "3cd60558"
    },
    {
      "cell_type": "code",
      "execution_count": 105,
      "metadata": {
        "id": "4b308585"
      },
      "outputs": [],
      "source": [
        "train_data_merged['StoreType'] = encoder.fit_transform(train_data_merged['StoreType'])"
      ],
      "id": "4b308585"
    },
    {
      "cell_type": "code",
      "execution_count": 106,
      "metadata": {
        "id": "c1a1b29c"
      },
      "outputs": [],
      "source": [
        "train_data_merged['StateHoliday'] = train_data_merged['StateHoliday'].astype(str)\n"
      ],
      "id": "c1a1b29c"
    },
    {
      "cell_type": "code",
      "execution_count": 107,
      "metadata": {
        "colab": {
          "base_uri": "https://localhost:8080/"
        },
        "id": "eb8ab5e7",
        "outputId": "be05b653-75c4-46b1-d589-53953b11b718"
      },
      "outputs": [
        {
          "output_type": "execute_result",
          "data": {
            "text/plain": [
              "array(['0', 'a', 'b', 'c'], dtype=object)"
            ]
          },
          "metadata": {},
          "execution_count": 107
        }
      ],
      "source": [
        "train_data_merged['StateHoliday'].unique()"
      ],
      "id": "eb8ab5e7"
    },
    {
      "cell_type": "code",
      "execution_count": 108,
      "metadata": {
        "id": "2bb04fde"
      },
      "outputs": [],
      "source": [
        "train_data_merged['StateHoliday'] = encoder.fit_transform(train_data_merged['StateHoliday'])\n",
        "train_data_merged['Assortment'] = encoder.fit_transform(train_data_merged['Assortment'])\n",
        "train_data_merged['PromoInterval'] = encoder.fit_transform(train_data_merged['PromoInterval'])\n",
        "train_data_merged['Season'] = encoder.fit_transform(train_data_merged['Season'])\n"
      ],
      "id": "2bb04fde"
    },
    {
      "cell_type": "code",
      "execution_count": 109,
      "metadata": {
        "id": "d16cd597"
      },
      "outputs": [],
      "source": [
        "test_data_merged['StoreType'] = encoder.fit_transform(test_data_merged['StoreType'])"
      ],
      "id": "d16cd597"
    },
    {
      "cell_type": "code",
      "execution_count": 110,
      "metadata": {
        "id": "122f362a"
      },
      "outputs": [],
      "source": [
        "test_data_merged['StateHoliday'] = test_data_merged['StateHoliday'].astype(str)\n"
      ],
      "id": "122f362a"
    },
    {
      "cell_type": "code",
      "execution_count": 111,
      "metadata": {
        "id": "13b4dd7f"
      },
      "outputs": [],
      "source": [
        "test_data_merged['StateHoliday'] = encoder.fit_transform(test_data_merged['StateHoliday'])\n",
        "test_data_merged['Assortment'] = encoder.fit_transform(test_data_merged['Assortment'])\n",
        "test_data_merged['PromoInterval'] = encoder.fit_transform(test_data_merged['PromoInterval'])\n",
        "test_data_merged['Season'] = encoder.fit_transform(test_data_merged['Season'])\n"
      ],
      "id": "13b4dd7f"
    },
    {
      "cell_type": "code",
      "execution_count": 112,
      "metadata": {
        "colab": {
          "base_uri": "https://localhost:8080/"
        },
        "id": "a0d6f352",
        "outputId": "7b3dd4ff-d2d5-4d11-813e-c1464561b4ba"
      },
      "outputs": [
        {
          "output_type": "stream",
          "name": "stdout",
          "text": [
            "<class 'pandas.core.frame.DataFrame'>\n",
            "Int64Index: 1017209 entries, 0 to 1017208\n",
            "Data columns (total 27 columns):\n",
            " #   Column                     Non-Null Count    Dtype         \n",
            "---  ------                     --------------    -----         \n",
            " 0   Store                      1017209 non-null  int64         \n",
            " 1   DayOfWeek                  1017209 non-null  int64         \n",
            " 2   Date                       1017209 non-null  datetime64[ns]\n",
            " 3   Sales                      1017209 non-null  int64         \n",
            " 4   Customers                  1017209 non-null  int64         \n",
            " 5   Open                       1017209 non-null  int64         \n",
            " 6   Promo                      1017209 non-null  int64         \n",
            " 7   StateHoliday               1017209 non-null  int64         \n",
            " 8   SchoolHoliday              1017209 non-null  int64         \n",
            " 9   StoreType                  1017209 non-null  int64         \n",
            " 10  Assortment                 1017209 non-null  int64         \n",
            " 11  CompetitionDistance        1014567 non-null  float64       \n",
            " 12  CompetitionOpenSinceMonth  693861 non-null   float64       \n",
            " 13  CompetitionOpenSinceYear   693861 non-null   float64       \n",
            " 14  Promo2                     1017209 non-null  int64         \n",
            " 15  Promo2SinceWeek            509178 non-null   float64       \n",
            " 16  Promo2SinceYear            509178 non-null   float64       \n",
            " 17  PromoInterval              1017209 non-null  int64         \n",
            " 18  weekday                    1017209 non-null  int64         \n",
            " 19  is_weekend                 1017209 non-null  int64         \n",
            " 20  SalesPerCustomer           844340 non-null   float64       \n",
            " 21  Season                     1017209 non-null  int64         \n",
            " 22  IsBeginningOfMonth         1017209 non-null  int64         \n",
            " 23  IsMidOfMonth               1017209 non-null  int64         \n",
            " 24  IsEndOfMonth               1017209 non-null  int64         \n",
            " 25  DaysToHoliday              1017209 non-null  int64         \n",
            " 26  DaysAfterHoliday           1017209 non-null  int64         \n",
            "dtypes: datetime64[ns](1), float64(6), int64(20)\n",
            "memory usage: 217.3 MB\n"
          ]
        }
      ],
      "source": [
        "train_data_merged.info()"
      ],
      "id": "a0d6f352"
    },
    {
      "cell_type": "code",
      "execution_count": 113,
      "metadata": {
        "colab": {
          "base_uri": "https://localhost:8080/"
        },
        "id": "abb36294",
        "outputId": "cee3b438-af3c-4f29-f009-851025546967"
      },
      "outputs": [
        {
          "output_type": "stream",
          "name": "stdout",
          "text": [
            "<class 'pandas.core.frame.DataFrame'>\n",
            "Int64Index: 41088 entries, 0 to 41087\n",
            "Data columns (total 25 columns):\n",
            " #   Column                     Non-Null Count  Dtype         \n",
            "---  ------                     --------------  -----         \n",
            " 0   Id                         41088 non-null  int64         \n",
            " 1   Store                      41088 non-null  int64         \n",
            " 2   DayOfWeek                  41088 non-null  int64         \n",
            " 3   Date                       41088 non-null  datetime64[ns]\n",
            " 4   Open                       41077 non-null  float64       \n",
            " 5   Promo                      41088 non-null  int64         \n",
            " 6   StateHoliday               41088 non-null  int64         \n",
            " 7   SchoolHoliday              41088 non-null  int64         \n",
            " 8   StoreType                  41088 non-null  int64         \n",
            " 9   Assortment                 41088 non-null  int64         \n",
            " 10  CompetitionDistance        40992 non-null  float64       \n",
            " 11  CompetitionOpenSinceMonth  25872 non-null  float64       \n",
            " 12  CompetitionOpenSinceYear   25872 non-null  float64       \n",
            " 13  Promo2                     41088 non-null  int64         \n",
            " 14  Promo2SinceWeek            23856 non-null  float64       \n",
            " 15  Promo2SinceYear            23856 non-null  float64       \n",
            " 16  PromoInterval              41088 non-null  int64         \n",
            " 17  weekday                    41088 non-null  int64         \n",
            " 18  is_weekend                 41088 non-null  int64         \n",
            " 19  Season                     41088 non-null  int64         \n",
            " 20  IsBeginningOfMonth         41088 non-null  int64         \n",
            " 21  IsMidOfMonth               41088 non-null  int64         \n",
            " 22  IsEndOfMonth               41088 non-null  int64         \n",
            " 23  DaysToHoliday              41088 non-null  int64         \n",
            " 24  DaysAfterHoliday           41088 non-null  int64         \n",
            "dtypes: datetime64[ns](1), float64(6), int64(18)\n",
            "memory usage: 8.2 MB\n"
          ]
        }
      ],
      "source": [
        "test_data_merged.info()"
      ],
      "id": "abb36294"
    },
    {
      "cell_type": "code",
      "execution_count": 114,
      "metadata": {
        "colab": {
          "base_uri": "https://localhost:8080/"
        },
        "id": "53f7ebde",
        "outputId": "58962abd-6fdd-4444-fbc3-70c559956514"
      },
      "outputs": [
        {
          "output_type": "execute_result",
          "data": {
            "text/plain": [
              "(1017209, 27)"
            ]
          },
          "metadata": {},
          "execution_count": 114
        }
      ],
      "source": [
        "train_data_merged.shape"
      ],
      "id": "53f7ebde"
    },
    {
      "cell_type": "code",
      "execution_count": 115,
      "metadata": {
        "colab": {
          "base_uri": "https://localhost:8080/"
        },
        "id": "0f34b775",
        "outputId": "a9e73baf-bff9-4282-ea71-e9f60e88bd96"
      },
      "outputs": [
        {
          "output_type": "execute_result",
          "data": {
            "text/plain": [
              "(41088, 25)"
            ]
          },
          "metadata": {},
          "execution_count": 115
        }
      ],
      "source": [
        "test_data_merged.shape"
      ],
      "id": "0f34b775"
    },
    {
      "cell_type": "code",
      "execution_count": 116,
      "metadata": {
        "colab": {
          "base_uri": "https://localhost:8080/"
        },
        "id": "be105d00",
        "outputId": "7400a81d-16bb-4fb9-d204-ad1a4196705a"
      },
      "outputs": [
        {
          "output_type": "execute_result",
          "data": {
            "text/plain": [
              "Index(['Store', 'DayOfWeek', 'Date', 'Sales', 'Customers', 'Open', 'Promo',\n",
              "       'StateHoliday', 'SchoolHoliday', 'StoreType', 'Assortment',\n",
              "       'CompetitionDistance', 'CompetitionOpenSinceMonth',\n",
              "       'CompetitionOpenSinceYear', 'Promo2', 'Promo2SinceWeek',\n",
              "       'Promo2SinceYear', 'PromoInterval', 'weekday', 'is_weekend',\n",
              "       'SalesPerCustomer', 'Season', 'IsBeginningOfMonth', 'IsMidOfMonth',\n",
              "       'IsEndOfMonth', 'DaysToHoliday', 'DaysAfterHoliday'],\n",
              "      dtype='object')"
            ]
          },
          "metadata": {},
          "execution_count": 116
        }
      ],
      "source": [
        "train_data_merged.columns"
      ],
      "id": "be105d00"
    },
    {
      "cell_type": "code",
      "execution_count": 117,
      "metadata": {
        "colab": {
          "base_uri": "https://localhost:8080/"
        },
        "id": "9c59ae1e",
        "outputId": "3190e7ec-131f-460e-9aad-f263fa6cf19f"
      },
      "outputs": [
        {
          "output_type": "execute_result",
          "data": {
            "text/plain": [
              "Index(['Id', 'Store', 'DayOfWeek', 'Date', 'Open', 'Promo', 'StateHoliday',\n",
              "       'SchoolHoliday', 'StoreType', 'Assortment', 'CompetitionDistance',\n",
              "       'CompetitionOpenSinceMonth', 'CompetitionOpenSinceYear', 'Promo2',\n",
              "       'Promo2SinceWeek', 'Promo2SinceYear', 'PromoInterval', 'weekday',\n",
              "       'is_weekend', 'Season', 'IsBeginningOfMonth', 'IsMidOfMonth',\n",
              "       'IsEndOfMonth', 'DaysToHoliday', 'DaysAfterHoliday'],\n",
              "      dtype='object')"
            ]
          },
          "metadata": {},
          "execution_count": 117
        }
      ],
      "source": [
        "test_data_merged.columns"
      ],
      "id": "9c59ae1e"
    },
    {
      "cell_type": "code",
      "execution_count": 118,
      "metadata": {
        "id": "dd9e2910"
      },
      "outputs": [],
      "source": [
        "# Drop columns from train_data_merged\n",
        "train_data_merged.drop(columns=['Sales', 'Customers'], inplace=True)\n",
        "\n",
        "# Drop columns from test_data_merged\n",
        "test_data_merged.drop(columns=['Id'], inplace=True)\n"
      ],
      "id": "dd9e2910"
    },
    {
      "cell_type": "code",
      "execution_count": 119,
      "metadata": {
        "id": "e00ec94b"
      },
      "outputs": [],
      "source": [
        "train_data_merged.set_index('Date', inplace=True)\n",
        "train_data_merged.sort_index(inplace=True)\n"
      ],
      "id": "e00ec94b"
    },
    {
      "cell_type": "code",
      "execution_count": 120,
      "metadata": {
        "id": "6ed2bd23"
      },
      "outputs": [],
      "source": [
        "test_data_merged.set_index('Date', inplace=True)\n",
        "test_data_merged.sort_index(inplace=True)\n"
      ],
      "id": "6ed2bd23"
    },
    {
      "cell_type": "code",
      "execution_count": 120,
      "metadata": {
        "id": "1dd5f23c"
      },
      "outputs": [],
      "source": [],
      "id": "1dd5f23c"
    },
    {
      "cell_type": "code",
      "execution_count": 121,
      "metadata": {
        "id": "c6a4004e"
      },
      "outputs": [],
      "source": [
        "# Scale the data using StandardScaler for both train and test data\n",
        "scaler = StandardScaler()"
      ],
      "id": "c6a4004e"
    },
    {
      "cell_type": "code",
      "execution_count": 122,
      "metadata": {
        "id": "61e590b8"
      },
      "outputs": [],
      "source": [
        "from sklearn.preprocessing import MinMaxScaler\n",
        "\n",
        "# Initialize the MinMaxScaler\n",
        "scaler = MinMaxScaler()\n",
        "\n",
        "\n"
      ],
      "id": "61e590b8"
    },
    {
      "cell_type": "code",
      "execution_count": 123,
      "metadata": {
        "id": "ab320307"
      },
      "outputs": [],
      "source": [
        "# Apply Min-Max scaling to train_data_merged\n",
        "train_data_merged_scaled = scaler.fit_transform(train_data_merged)\n"
      ],
      "id": "ab320307"
    },
    {
      "cell_type": "code",
      "execution_count": 124,
      "metadata": {
        "id": "5e911b6f"
      },
      "outputs": [],
      "source": [
        "\n",
        "# Apply Min-Max scaling to test_data_merged\n",
        "test_data_merged_scaled = scaler.fit_transform(test_data_merged)"
      ],
      "id": "5e911b6f"
    },
    {
      "cell_type": "markdown",
      "metadata": {
        "id": "-hSSywufVdjr"
      },
      "source": [
        "# **2.2 Building models with sklearn pipelines**\n",
        "\n",
        "# **2.3 Choose a loss function**"
      ],
      "id": "-hSSywufVdjr"
    },
    {
      "cell_type": "code",
      "execution_count": 125,
      "metadata": {
        "id": "7ad81ce7"
      },
      "outputs": [],
      "source": [
        "import pandas as pd\n",
        "from sklearn.linear_model import LinearRegression\n",
        "from sklearn.model_selection import train_test_split\n",
        "from sklearn.ensemble import RandomForestRegressor\n",
        "from sklearn.pipeline import Pipeline\n",
        "from sklearn.compose import ColumnTransformer\n",
        "from sklearn.preprocessing import StandardScaler\n",
        "from sklearn.model_selection import train_test_split\n",
        "from sklearn.metrics import mean_squared_error"
      ],
      "id": "7ad81ce7"
    },
    {
      "cell_type": "code",
      "execution_count": 126,
      "metadata": {
        "colab": {
          "base_uri": "https://localhost:8080/"
        },
        "id": "94b9fb44",
        "outputId": "a3d3ccfc-916a-4bbc-9956-a277f25f82e7"
      },
      "outputs": [
        {
          "output_type": "execute_result",
          "data": {
            "text/plain": [
              "Index(['Store', 'DayOfWeek', 'Open', 'Promo', 'StateHoliday', 'SchoolHoliday',\n",
              "       'StoreType', 'Assortment', 'CompetitionDistance',\n",
              "       'CompetitionOpenSinceMonth', 'CompetitionOpenSinceYear', 'Promo2',\n",
              "       'Promo2SinceWeek', 'Promo2SinceYear', 'PromoInterval', 'weekday',\n",
              "       'is_weekend', 'SalesPerCustomer', 'Season', 'IsBeginningOfMonth',\n",
              "       'IsMidOfMonth', 'IsEndOfMonth', 'DaysToHoliday', 'DaysAfterHoliday'],\n",
              "      dtype='object')"
            ]
          },
          "metadata": {},
          "execution_count": 126
        }
      ],
      "source": [
        "train_data_merged.columns"
      ],
      "id": "94b9fb44"
    },
    {
      "cell_type": "code",
      "execution_count": 127,
      "metadata": {
        "id": "a7b5a01d"
      },
      "outputs": [],
      "source": [
        "# Define X and y\n",
        "X = train_data_merged[['Store', 'DayOfWeek', 'Open', 'Promo', 'StateHoliday', 'SchoolHoliday',\n",
        "                      'StoreType', 'Assortment', 'CompetitionDistance',\n",
        "                      'CompetitionOpenSinceMonth', 'CompetitionOpenSinceYear', 'Promo2',\n",
        "                      'Promo2SinceWeek', 'Promo2SinceYear', 'PromoInterval', 'weekday',\n",
        "                      'is_weekend', 'Season', 'IsBeginningOfMonth',\n",
        "                      'IsMidOfMonth', 'IsEndOfMonth', 'DaysToHoliday', 'DaysAfterHoliday']]\n",
        "y = train_data_merged['SalesPerCustomer']"
      ],
      "id": "a7b5a01d"
    },
    {
      "cell_type": "code",
      "execution_count": 128,
      "metadata": {
        "id": "77bba621"
      },
      "outputs": [],
      "source": [
        "from sklearn.linear_model import LinearRegression\n",
        "from sklearn.model_selection import train_test_split\n",
        "from sklearn.metrics import mean_squared_error\n",
        "\n",
        "X_train, X_test, y_train, y_test = train_test_split(X, y, test_size=0.2, random_state=42)"
      ],
      "id": "77bba621"
    },
    {
      "cell_type": "code",
      "execution_count": 129,
      "metadata": {
        "colab": {
          "base_uri": "https://localhost:8080/"
        },
        "id": "518a0651",
        "outputId": "48bf7dc3-a3aa-4d35-f86b-a343ffc7ea20"
      },
      "outputs": [
        {
          "output_type": "stream",
          "name": "stdout",
          "text": [
            "X_Train shape: (813767, 23)\n",
            "X_Test shape: (203442, 23)\n",
            "Y_Train shape: (813767,)\n",
            "Y_Test shape: (203442,)\n"
          ]
        }
      ],
      "source": [
        "print('X_Train shape:',X_train.shape)\n",
        "print('X_Test shape:',X_test.shape)\n",
        "print('Y_Train shape:',y_train.shape)\n",
        "print('Y_Test shape:',y_test.shape)"
      ],
      "id": "518a0651"
    },
    {
      "cell_type": "code",
      "execution_count": 130,
      "metadata": {
        "colab": {
          "base_uri": "https://localhost:8080/"
        },
        "id": "71839bfd",
        "outputId": "a601ef9e-92ce-4cc3-c40d-9e3d59717739"
      },
      "outputs": [
        {
          "output_type": "stream",
          "name": "stdout",
          "text": [
            "The datatype for Store is int64\n",
            "The datatype for DayOfWeek is int64\n",
            "The datatype for Open is int64\n",
            "The datatype for Promo is int64\n",
            "The datatype for StateHoliday is int64\n",
            "The datatype for SchoolHoliday is int64\n",
            "The datatype for StoreType is int64\n",
            "The datatype for Assortment is int64\n",
            "The datatype for CompetitionDistance is float64\n",
            "The datatype for CompetitionOpenSinceMonth is float64\n",
            "The datatype for CompetitionOpenSinceYear is float64\n",
            "The datatype for Promo2 is int64\n",
            "The datatype for Promo2SinceWeek is float64\n",
            "The datatype for Promo2SinceYear is float64\n",
            "The datatype for PromoInterval is int64\n",
            "The datatype for weekday is int64\n",
            "The datatype for is_weekend is int64\n",
            "The datatype for SalesPerCustomer is float64\n",
            "The datatype for Season is int64\n",
            "The datatype for IsBeginningOfMonth is int64\n",
            "The datatype for IsMidOfMonth is int64\n",
            "The datatype for IsEndOfMonth is int64\n",
            "The datatype for DaysToHoliday is int64\n",
            "The datatype for DaysAfterHoliday is int64\n"
          ]
        }
      ],
      "source": [
        "# Making separate lists for categorical and numerical columns\n",
        "categorical_cols, numerical_cols = [], []\n",
        "\n",
        "for i in train_data_merged.columns:\n",
        "    print(\"The datatype for {} is {}\".format(i,train_data_merged[i].dtypes))\n",
        "    # check if the datatype is object or not\n",
        "    if train_data_merged[i].dtypes == \"object\":\n",
        "        # if the datatype is object : --> fillna with mode of that column\n",
        "        mode_value = train_data_merged[i].mode()[0]\n",
        "        train_data_merged[i].fillna(mode_value, inplace = True)\n",
        "    elif train_data_merged[i].dtypes != \"object\":\n",
        "        # if data[i].dtypes == \"bool\":\n",
        "        #     data[i].fillna(0, inplace = True)\n",
        "        # else:\n",
        "        # else if the datatype is numerical : --> fillna with mean of that column\n",
        "        mean_value = train_data_merged[i].mean()\n",
        "        train_data_merged[i].fillna(mean_value, inplace = True)"
      ],
      "id": "71839bfd"
    },
    {
      "cell_type": "code",
      "execution_count": 131,
      "metadata": {
        "colab": {
          "base_uri": "https://localhost:8080/"
        },
        "id": "54962c3c",
        "outputId": "9e5637ce-63ba-433c-cfe9-6902864ae821"
      },
      "outputs": [
        {
          "output_type": "stream",
          "name": "stdout",
          "text": [
            "The datatype for Store is int64\n",
            "The datatype for DayOfWeek is int64\n",
            "The datatype for Open is float64\n",
            "The datatype for Promo is int64\n",
            "The datatype for StateHoliday is int64\n",
            "The datatype for SchoolHoliday is int64\n",
            "The datatype for StoreType is int64\n",
            "The datatype for Assortment is int64\n",
            "The datatype for CompetitionDistance is float64\n",
            "The datatype for CompetitionOpenSinceMonth is float64\n",
            "The datatype for CompetitionOpenSinceYear is float64\n",
            "The datatype for Promo2 is int64\n",
            "The datatype for Promo2SinceWeek is float64\n",
            "The datatype for Promo2SinceYear is float64\n",
            "The datatype for PromoInterval is int64\n",
            "The datatype for weekday is int64\n",
            "The datatype for is_weekend is int64\n",
            "The datatype for Season is int64\n",
            "The datatype for IsBeginningOfMonth is int64\n",
            "The datatype for IsMidOfMonth is int64\n",
            "The datatype for IsEndOfMonth is int64\n",
            "The datatype for DaysToHoliday is int64\n",
            "The datatype for DaysAfterHoliday is int64\n"
          ]
        }
      ],
      "source": [
        "# Making separate lists for categorical and numerical columns\n",
        "categorical_cols, numerical_cols = [], []\n",
        "\n",
        "for i in test_data_merged.columns:\n",
        "    print(\"The datatype for {} is {}\".format(i,test_data_merged[i].dtypes))\n",
        "    # check if the datatype is object or not\n",
        "    if test_data_merged[i].dtypes == \"object\":\n",
        "        # if the datatype is object : --> fillna with mode of that column\n",
        "        mode_value = test_data_merged[i].mode()[0]\n",
        "        test_data_merged[i].fillna(mode_value, inplace = True)\n",
        "    elif test_data_merged[i].dtypes != \"object\":\n",
        "        mean_value = test_data_merged[i].mean()\n",
        "        test_data_merged[i].fillna(mean_value, inplace = True)"
      ],
      "id": "54962c3c"
    },
    {
      "cell_type": "code",
      "execution_count": 132,
      "metadata": {
        "colab": {
          "base_uri": "https://localhost:8080/"
        },
        "id": "5ecf0b2b",
        "outputId": "4b773ac1-9ae2-42b0-e985-063db2496701",
        "scrolled": false
      },
      "outputs": [
        {
          "output_type": "stream",
          "name": "stdout",
          "text": [
            "<class 'pandas.core.frame.DataFrame'>\n",
            "DatetimeIndex: 1017209 entries, 2013-01-01 to 2015-07-31\n",
            "Data columns (total 24 columns):\n",
            " #   Column                     Non-Null Count    Dtype  \n",
            "---  ------                     --------------    -----  \n",
            " 0   Store                      1017209 non-null  int64  \n",
            " 1   DayOfWeek                  1017209 non-null  int64  \n",
            " 2   Open                       1017209 non-null  int64  \n",
            " 3   Promo                      1017209 non-null  int64  \n",
            " 4   StateHoliday               1017209 non-null  int64  \n",
            " 5   SchoolHoliday              1017209 non-null  int64  \n",
            " 6   StoreType                  1017209 non-null  int64  \n",
            " 7   Assortment                 1017209 non-null  int64  \n",
            " 8   CompetitionDistance        1017209 non-null  float64\n",
            " 9   CompetitionOpenSinceMonth  1017209 non-null  float64\n",
            " 10  CompetitionOpenSinceYear   1017209 non-null  float64\n",
            " 11  Promo2                     1017209 non-null  int64  \n",
            " 12  Promo2SinceWeek            1017209 non-null  float64\n",
            " 13  Promo2SinceYear            1017209 non-null  float64\n",
            " 14  PromoInterval              1017209 non-null  int64  \n",
            " 15  weekday                    1017209 non-null  int64  \n",
            " 16  is_weekend                 1017209 non-null  int64  \n",
            " 17  SalesPerCustomer           1017209 non-null  float64\n",
            " 18  Season                     1017209 non-null  int64  \n",
            " 19  IsBeginningOfMonth         1017209 non-null  int64  \n",
            " 20  IsMidOfMonth               1017209 non-null  int64  \n",
            " 21  IsEndOfMonth               1017209 non-null  int64  \n",
            " 22  DaysToHoliday              1017209 non-null  int64  \n",
            " 23  DaysAfterHoliday           1017209 non-null  int64  \n",
            "dtypes: float64(6), int64(18)\n",
            "memory usage: 194.0 MB\n"
          ]
        }
      ],
      "source": [
        "train_data_merged.info()"
      ],
      "id": "5ecf0b2b"
    },
    {
      "cell_type": "code",
      "execution_count": 133,
      "metadata": {
        "colab": {
          "base_uri": "https://localhost:8080/"
        },
        "id": "4ac33792",
        "outputId": "70a0a2ac-4f34-497c-ebdf-c89fd4156c34"
      },
      "outputs": [
        {
          "output_type": "stream",
          "name": "stdout",
          "text": [
            "<class 'pandas.core.frame.DataFrame'>\n",
            "DatetimeIndex: 1017209 entries, 2013-01-01 to 2015-07-31\n",
            "Data columns (total 24 columns):\n",
            " #   Column                     Non-Null Count    Dtype  \n",
            "---  ------                     --------------    -----  \n",
            " 0   Store                      1017209 non-null  int64  \n",
            " 1   DayOfWeek                  1017209 non-null  int64  \n",
            " 2   Open                       1017209 non-null  int64  \n",
            " 3   Promo                      1017209 non-null  int64  \n",
            " 4   StateHoliday               1017209 non-null  int64  \n",
            " 5   SchoolHoliday              1017209 non-null  int64  \n",
            " 6   StoreType                  1017209 non-null  int64  \n",
            " 7   Assortment                 1017209 non-null  int64  \n",
            " 8   CompetitionDistance        1017209 non-null  float64\n",
            " 9   CompetitionOpenSinceMonth  1017209 non-null  float64\n",
            " 10  CompetitionOpenSinceYear   1017209 non-null  float64\n",
            " 11  Promo2                     1017209 non-null  int64  \n",
            " 12  Promo2SinceWeek            1017209 non-null  float64\n",
            " 13  Promo2SinceYear            1017209 non-null  float64\n",
            " 14  PromoInterval              1017209 non-null  int64  \n",
            " 15  weekday                    1017209 non-null  int64  \n",
            " 16  is_weekend                 1017209 non-null  int64  \n",
            " 17  SalesPerCustomer           1017209 non-null  float64\n",
            " 18  Season                     1017209 non-null  int64  \n",
            " 19  IsBeginningOfMonth         1017209 non-null  int64  \n",
            " 20  IsMidOfMonth               1017209 non-null  int64  \n",
            " 21  IsEndOfMonth               1017209 non-null  int64  \n",
            " 22  DaysToHoliday              1017209 non-null  int64  \n",
            " 23  DaysAfterHoliday           1017209 non-null  int64  \n",
            "dtypes: float64(6), int64(18)\n",
            "memory usage: 194.0 MB\n"
          ]
        }
      ],
      "source": [
        "train_data_merged.info()"
      ],
      "id": "4ac33792"
    },
    {
      "cell_type": "code",
      "execution_count": null,
      "metadata": {
        "id": "cpoAXmv6mFlG"
      },
      "outputs": [],
      "source": [
        "# Define X and y\n",
        "X = train_data_merged[['Store', 'DayOfWeek', 'Open', 'Promo', 'StateHoliday', 'SchoolHoliday',\n",
        "                      'StoreType', 'Assortment', 'CompetitionDistance',\n",
        "                      'CompetitionOpenSinceMonth', 'CompetitionOpenSinceYear', 'Promo2',\n",
        "                      'Promo2SinceWeek', 'Promo2SinceYear', 'PromoInterval', 'weekday',\n",
        "                      'is_weekend', 'Season', 'IsBeginningOfMonth',\n",
        "                      'IsMidOfMonth', 'IsEndOfMonth', 'DaysToHoliday', 'DaysAfterHoliday']]\n",
        "y = train_data_merged['SalesPerCustomer']"
      ],
      "id": "cpoAXmv6mFlG"
    },
    {
      "cell_type": "code",
      "execution_count": null,
      "metadata": {
        "id": "Rh7HG1B1mFV1"
      },
      "outputs": [],
      "source": [
        "from sklearn.linear_model import LinearRegression\n",
        "from sklearn.model_selection import train_test_split\n",
        "from sklearn.metrics import mean_squared_error\n",
        "\n",
        "X_train, X_test, y_train, y_test = train_test_split(X, y, test_size=0.2, random_state=42)"
      ],
      "id": "Rh7HG1B1mFV1"
    },
    {
      "cell_type": "code",
      "execution_count": null,
      "metadata": {
        "id": "05cc8002"
      },
      "outputs": [],
      "source": [
        "# Linear Regression:"
      ],
      "id": "05cc8002"
    },
    {
      "cell_type": "code",
      "execution_count": null,
      "metadata": {
        "id": "8a6f818f"
      },
      "outputs": [],
      "source": [
        "from sklearn.impute import SimpleImputer\n",
        "from sklearn.pipeline import Pipeline\n",
        "from sklearn.linear_model import LinearRegression\n",
        "from sklearn.metrics import mean_squared_error"
      ],
      "id": "8a6f818f"
    },
    {
      "cell_type": "code",
      "execution_count": null,
      "metadata": {
        "id": "248594c7"
      },
      "outputs": [],
      "source": [],
      "id": "248594c7"
    },
    {
      "cell_type": "code",
      "execution_count": null,
      "metadata": {
        "id": "10bc906b"
      },
      "outputs": [],
      "source": [
        "import pandas as pd\n",
        "from sklearn.model_selection import train_test_split\n",
        "\n",
        "# Assuming train_data_merged contains the complete dataset\n",
        "# Remove rows with missing values from X_train and y_train\n",
        "X_train = train_data_merged.dropna(subset=X.columns)\n",
        "y_train = X_train['SalesPerCustomer']\n",
        "X_train = X_train.drop(columns=['SalesPerCustomer'])\n",
        "\n",
        "# Split the data into train and test sets\n",
        "X_train, X_test, y_train, y_test = train_test_split(X_train, y_train, test_size=0.2, random_state=42)\n",
        "\n",
        "\n"
      ],
      "id": "10bc906b"
    },
    {
      "cell_type": "code",
      "execution_count": null,
      "metadata": {
        "colab": {
          "base_uri": "https://localhost:8080/"
        },
        "id": "3d3ce152",
        "outputId": "1496b2b7-bce9-49f9-b249-bdc96c36c66d"
      },
      "outputs": [
        {
          "name": "stdout",
          "output_type": "stream",
          "text": [
            "Mean Squared Error: 2.7016169582419196\n"
          ]
        }
      ],
      "source": [
        "\n",
        "\n",
        "# Define the imputer and regressor\n",
        "imputer = SimpleImputer(strategy='mean')\n",
        "regressor = LinearRegression()\n",
        "\n",
        "# Create a pipeline\n",
        "pipeline = Pipeline(steps=[\n",
        "    ('imputer', imputer),\n",
        "    ('regressor', regressor)\n",
        "])\n",
        "\n",
        "# Fit the pipeline to the data\n",
        "pipeline.fit(X_train, y_train)\n",
        "\n",
        "# Predict using the fitted pipeline\n",
        "y_pred = pipeline.predict(X_test)\n",
        "\n",
        "# Calculate the mean squared error\n",
        "lr_mse = mean_squared_error(y_test, y_pred)\n",
        "print(\"Mean Squared Error:\", lr_mse)\n"
      ],
      "id": "3d3ce152"
    },
    {
      "cell_type": "code",
      "execution_count": null,
      "metadata": {
        "id": "81d4e389"
      },
      "outputs": [],
      "source": [
        "# Decision Tree and Random Forest:"
      ],
      "id": "81d4e389"
    },
    {
      "cell_type": "code",
      "execution_count": null,
      "metadata": {
        "colab": {
          "base_uri": "https://localhost:8080/"
        },
        "id": "b00ffa08",
        "outputId": "04b66eaf-b07b-4e04-a9d5-79c4486381ad"
      },
      "outputs": [
        {
          "name": "stdout",
          "output_type": "stream",
          "text": [
            "Decision Tree MSE: 0.5101213385699144\n",
            "Random Forest MSE: 0.2821714188136668\n"
          ]
        }
      ],
      "source": [
        "from sklearn.tree import DecisionTreeRegressor\n",
        "from sklearn.ensemble import RandomForestRegressor\n",
        "\n",
        "tree_regressor = DecisionTreeRegressor(random_state=42)\n",
        "tree_regressor.fit(X_train, y_train)\n",
        "tree_y_pred = tree_regressor.predict(X_test)\n",
        "\n",
        "forest_regressor = RandomForestRegressor(random_state=42)\n",
        "forest_regressor.fit(X_train, y_train)\n",
        "forest_y_pred = forest_regressor.predict(X_test)\n",
        "\n",
        "tree_mse = mean_squared_error(y_test, tree_y_pred)\n",
        "forest_mse = mean_squared_error(y_test, forest_y_pred)\n",
        "\n",
        "print(\"Decision Tree MSE:\", tree_mse)\n",
        "print(\"Random Forest MSE:\", forest_mse)\n"
      ],
      "id": "b00ffa08"
    },
    {
      "cell_type": "code",
      "execution_count": null,
      "metadata": {
        "id": "d24dc2bd"
      },
      "outputs": [],
      "source": [
        "\n",
        "  # KNN"
      ],
      "id": "d24dc2bd"
    },
    {
      "cell_type": "code",
      "execution_count": null,
      "metadata": {
        "colab": {
          "base_uri": "https://localhost:8080/"
        },
        "id": "e80725f9",
        "outputId": "bb82bf9a-6ec1-42e3-cd3d-efba2b64599a"
      },
      "outputs": [
        {
          "name": "stdout",
          "output_type": "stream",
          "text": [
            "X_Train shape: (813767, 23)\n",
            "X_Test shape: (203442, 23)\n",
            "Y_Train shape: (813767,)\n",
            "Y_Test shape: (203442,)\n",
            "Mean Squared Error: 1.1892458377284563\n"
          ]
        }
      ],
      "source": [
        "from sklearn.neighbors import KNeighborsRegressor\n",
        "from sklearn.metrics import mean_squared_error\n",
        "from sklearn.model_selection import train_test_split\n",
        "\n",
        "# Split your data into train and test sets\n",
        "X_train, X_test, y_train, y_test = train_test_split(X, y, test_size=0.2, random_state=42)\n",
        "\n",
        "# Create a KNN regressor\n",
        "knn_regressor = KNeighborsRegressor(n_neighbors=5)\n",
        "print('X_Train shape:',X_train.shape)\n",
        "print('X_Test shape:',X_test.shape)\n",
        "print('Y_Train shape:',y_train.shape)\n",
        "print('Y_Test shape:',y_test.shape)\n",
        "\n",
        "# Train the model\n",
        "knn_regressor.fit(X_train, y_train)\n",
        "\n",
        "# Predict on the test set\n",
        "y_pred = knn_regressor.predict(X_test)\n",
        "\n",
        "# Calculate Mean Squared Error\n",
        "knn_mse = mean_squared_error(y_test, y_pred)\n",
        "print(\"Mean Squared Error:\", knn_mse)\n",
        "\n",
        "\n"
      ],
      "id": "e80725f9"
    },
    {
      "cell_type": "code",
      "execution_count": null,
      "metadata": {
        "id": "be7ffea3"
      },
      "outputs": [],
      "source": [
        "# Deep Learning - Neural Network:"
      ],
      "id": "be7ffea3"
    },
    {
      "cell_type": "code",
      "execution_count": null,
      "metadata": {
        "colab": {
          "base_uri": "https://localhost:8080/"
        },
        "id": "e96edbf3",
        "outputId": "e9307a9e-6970-471b-fcc1-379818e85739"
      },
      "outputs": [
        {
          "name": "stdout",
          "output_type": "stream",
          "text": [
            "Epoch 1/10\n",
            "25431/25431 [==============================] - 59s 2ms/step - loss: 93.7402 - val_loss: 3.8527\n",
            "Epoch 2/10\n",
            "25431/25431 [==============================] - 57s 2ms/step - loss: 2.8224 - val_loss: 2.3602\n",
            "Epoch 3/10\n",
            "25431/25431 [==============================] - 71s 3ms/step - loss: 2.4563 - val_loss: 2.5543\n",
            "Epoch 4/10\n",
            "25431/25431 [==============================] - 60s 2ms/step - loss: 2.3438 - val_loss: 2.3948\n",
            "Epoch 5/10\n",
            "25431/25431 [==============================] - 60s 2ms/step - loss: 2.2540 - val_loss: 2.1722\n",
            "Epoch 6/10\n",
            "25431/25431 [==============================] - 63s 2ms/step - loss: 2.1974 - val_loss: 2.1492\n",
            "Epoch 7/10\n",
            "25431/25431 [==============================] - 76s 3ms/step - loss: 2.1743 - val_loss: 2.1337\n",
            "Epoch 8/10\n",
            "25431/25431 [==============================] - 74s 3ms/step - loss: 2.1501 - val_loss: 2.0492\n",
            "Epoch 9/10\n",
            "25431/25431 [==============================] - 73s 3ms/step - loss: 2.1364 - val_loss: 2.3243\n",
            "Epoch 10/10\n",
            "25431/25431 [==============================] - 59s 2ms/step - loss: 2.1174 - val_loss: 2.0236\n"
          ]
        },
        {
          "data": {
            "text/plain": [
              "<keras.callbacks.History at 0x7bb3d238d360>"
            ]
          },
          "execution_count": 80,
          "metadata": {},
          "output_type": "execute_result"
        }
      ],
      "source": [
        "import tensorflow as tf\n",
        "from tensorflow import keras\n",
        "from tensorflow.keras.models import Sequential\n",
        "from tensorflow.keras.layers import Dense\n",
        "\n",
        "model = Sequential([\n",
        "    Dense(64, activation='relu', input_shape=(X_train.shape[1],)),\n",
        "    Dense(32, activation='relu'),\n",
        "    Dense(1)  # Output layer for regression\n",
        "])\n",
        "\n",
        "model.compile(optimizer='adam', loss='mean_squared_error')\n",
        "model.fit(X_train, y_train, epochs=10, batch_size=32, validation_data=(X_test, y_test))\n"
      ],
      "id": "e96edbf3"
    },
    {
      "cell_type": "code",
      "execution_count": null,
      "metadata": {
        "colab": {
          "base_uri": "https://localhost:8080/"
        },
        "id": "WA9fCZh4YGIE",
        "outputId": "bf90c415-6ceb-49a5-a26b-2c6f13be49b2"
      },
      "outputs": [
        {
          "name": "stdout",
          "output_type": "stream",
          "text": [
            "6358/6358 [==============================] - 13s 2ms/step\n",
            "Mean Squared Error (RNN): 2.023630975358538\n"
          ]
        }
      ],
      "source": [
        "# Predict using the trained model\n",
        "y_pred_rnn = model.predict(X_test)\n",
        "\n",
        "# Calculate MSE\n",
        "mse_rnn = mean_squared_error(y_test, y_pred_rnn)\n",
        "print(\"Mean Squared Error (RNN):\", mse_rnn)"
      ],
      "id": "WA9fCZh4YGIE"
    },
    {
      "cell_type": "code",
      "execution_count": null,
      "metadata": {
        "id": "bee7bbd2"
      },
      "outputs": [],
      "source": [
        " # Deep Learning - LSTM:"
      ],
      "id": "bee7bbd2"
    },
    {
      "cell_type": "code",
      "execution_count": null,
      "metadata": {
        "colab": {
          "background_save": true,
          "base_uri": "https://localhost:8080/"
        },
        "id": "Tt2Lx8MhYWCp",
        "outputId": "aef8dafc-fb79-41a1-ac28-061860a3351b"
      },
      "outputs": [
        {
          "name": "stdout",
          "output_type": "stream",
          "text": [
            "Epoch 1/10\n",
            "25431/25431 [==============================] - 485s 19ms/step - loss: 89.9423 - val_loss: 4.2388\n",
            "Epoch 2/10\n",
            "25431/25431 [==============================] - 454s 18ms/step - loss: 261.6479 - val_loss: 4.2738\n",
            "Epoch 3/10\n",
            "25431/25431 [==============================] - 462s 18ms/step - loss: 124.1593 - val_loss: 6.5990\n",
            "Epoch 4/10\n",
            "25431/25431 [==============================] - 461s 18ms/step - loss: 12.2709 - val_loss: 3.6073\n",
            "Epoch 5/10\n",
            "25431/25431 [==============================] - 464s 18ms/step - loss: 33.0634 - val_loss: 3.7913\n",
            "Epoch 6/10\n",
            "25431/25431 [==============================] - 472s 19ms/step - loss: 8.3076 - val_loss: 3.5096\n",
            "Epoch 7/10\n",
            "25431/25431 [==============================] - 477s 19ms/step - loss: 7456.4580 - val_loss: 20.4027\n",
            "Epoch 8/10\n",
            "25431/25431 [==============================] - 466s 18ms/step - loss: 486.6065 - val_loss: 4.3776\n",
            "Epoch 9/10\n",
            "25431/25431 [==============================] - 458s 18ms/step - loss: 60323.9727 - val_loss: 1928.6310\n",
            "Epoch 10/10\n",
            "25431/25431 [==============================] - 474s 19ms/step - loss: 1416.0238 - val_loss: 6.2544\n"
          ]
        },
        {
          "data": {
            "text/plain": [
              "<keras.callbacks.History at 0x7bb3bd085090>"
            ]
          },
          "execution_count": 85,
          "metadata": {},
          "output_type": "execute_result"
        }
      ],
      "source": [
        "from tensorflow.keras.models import Sequential\n",
        "from tensorflow.keras.layers import LSTM, Dense\n",
        "import numpy as np\n",
        "\n",
        "\n",
        "X_train_lstm = X_train.values.reshape(X_train.shape[0], X_train.shape[1], 1)\n",
        "X_test_lstm = X_test.values.reshape(X_test.shape[0], X_test.shape[1], 1)\n",
        "\n",
        "model_lstm = Sequential([\n",
        "    LSTM(64, activation='relu', input_shape=(X_train_lstm.shape[1], 1)),\n",
        "    Dense(1)  # Output layer for regression\n",
        "])\n",
        "\n",
        "model_lstm.compile(optimizer='adam', loss='mean_squared_error')\n",
        "model_lstm.fit(X_train_lstm, y_train, epochs=10, batch_size=32, validation_data=(X_test_lstm, y_test))"
      ],
      "id": "Tt2Lx8MhYWCp"
    },
    {
      "cell_type": "code",
      "execution_count": 87,
      "metadata": {
        "id": "XBsrwrjhYgcL",
        "colab": {
          "base_uri": "https://localhost:8080/"
        },
        "outputId": "8f784f15-8922-47a3-a858-b1e111606c8b"
      },
      "outputs": [
        {
          "output_type": "stream",
          "name": "stdout",
          "text": [
            "6358/6358 [==============================] - 58s 9ms/step\n",
            "Mean Squared Error (LSTM): 6.254383837923506\n"
          ]
        }
      ],
      "source": [
        "from sklearn.metrics import mean_squared_error\n",
        "\n",
        "# Predict using the trained LSTM model\n",
        "y_pred_lstm = model_lstm.predict(X_test_lstm)\n",
        "\n",
        "# Calculate MSE\n",
        "mse_lstm = mean_squared_error(y_test, y_pred_lstm)\n",
        "print(\"Mean Squared Error (LSTM):\", mse_lstm)\n"
      ],
      "id": "XBsrwrjhYgcL"
    },
    {
      "cell_type": "code",
      "execution_count": 88,
      "metadata": {
        "id": "79b7a4d9",
        "colab": {
          "base_uri": "https://localhost:8080/"
        },
        "outputId": "cf28d94b-5025-4e66-b5c6-a154613884ab"
      },
      "outputs": [
        {
          "output_type": "stream",
          "name": "stdout",
          "text": [
            "               Model       MSE\n",
            "0  Linear Regression  2.701617\n",
            "1      Decision Tree  0.510121\n",
            "2      Random Forest  0.282171\n",
            "3     Neural Network  2.023631\n",
            "4               LSTM  6.254384\n",
            "5                KNN  1.189246\n"
          ]
        }
      ],
      "source": [
        "results_df = pd.DataFrame({\n",
        "    'Model': ['Linear Regression', 'Decision Tree', 'Random Forest',  'Neural Network', 'LSTM', 'KNN'],\n",
        "    'MSE': [lr_mse, tree_mse, forest_mse, mse_rnn, mse_lstm, knn_mse]\n",
        "})\n",
        "\n",
        "print(results_df)\n"
      ],
      "id": "79b7a4d9"
    },
    {
      "cell_type": "code",
      "execution_count": 89,
      "metadata": {
        "id": "Jf0cJifT8uLr",
        "colab": {
          "base_uri": "https://localhost:8080/",
          "height": 601
        },
        "outputId": "1a36bd24-7d8c-4c01-e7b7-ada75f3a4cc7"
      },
      "outputs": [
        {
          "output_type": "display_data",
          "data": {
            "text/plain": [
              "<Figure size 1000x600 with 1 Axes>"
            ],
            "image/png": "[encoded data removed]"
          },
          "metadata": {}
        }
      ],
      "source": [
        "# Create a bar plot to visualize model performance\n",
        "plt.figure(figsize=(10, 6))\n",
        "plt.bar(results_df['Model'], results_df['MSE'], color='skyblue')\n",
        "plt.xlabel('Model')\n",
        "plt.ylabel('Mean Squared Error (MSE)')\n",
        "plt.title('Model Performance Comparison')\n",
        "plt.xticks(rotation=45)\n",
        "plt.tight_layout()\n",
        "plt.show()"
      ],
      "id": "Jf0cJifT8uLr"
    },
    {
      "cell_type": "markdown",
      "metadata": {
        "id": "rkdNzmkujKWu"
      },
      "source": [
        "# **2.4 Post Prediction analysis**"
      ],
      "id": "rkdNzmkujKWu"
    },
    {
      "cell_type": "code",
      "execution_count": 90,
      "metadata": {
        "id": "81f61461"
      },
      "outputs": [],
      "source": [
        "# Post-Prediction Analysis:"
      ],
      "id": "81f61461"
    },
    {
      "cell_type": "code",
      "execution_count": 100,
      "metadata": {
        "id": "fbf6077d",
        "colab": {
          "base_uri": "https://localhost:8080/",
          "height": 636
        },
        "outputId": "d5b4fc9b-b112-4831-e452-98a946a7f100"
      },
      "outputs": [
        {
          "output_type": "display_data",
          "data": {
            "text/plain": [
              "<Figure size 1200x600 with 2 Axes>"
            ],
            "image/png": "[encoded data removed]"
          },
          "metadata": {}
        },
        {
          "output_type": "stream",
          "name": "stdout",
          "text": [
            "MAE for Store Type '0': 0.7969396724017819\n",
            "MAE for Store Type '1': 0.7969396724017819\n",
            "MAE for Store Type '2': 0.7969396724017819\n",
            "MAE for Store Type '3': 0.7969396724017819\n"
          ]
        }
      ],
      "source": [
        "import matplotlib.pyplot as plt\n",
        "import seaborn as sns\n",
        "\n",
        "# Calculate residuals\n",
        "residuals = y_test - y_pred\n",
        "\n",
        "# Calculate evaluation metrics\n",
        "mse = mean_squared_error(y_test, y_pred)\n",
        "rmse = np.sqrt(mse)\n",
        "\n",
        "# Visualize predictions and residuals\n",
        "plt.figure(figsize=(12, 6))\n",
        "plt.subplot(1, 2, 1)\n",
        "plt.plot(y_test, label=\"Actual Sales\")\n",
        "plt.plot(y_pred, label=\"Predicted Sales\")\n",
        "plt.xlabel(\"Time\")\n",
        "plt.ylabel(\"Sales\")\n",
        "plt.title(\"Actual vs. Predicted Sales\")\n",
        "plt.legend()\n",
        "\n",
        "plt.subplot(1, 2, 2)\n",
        "sns.scatterplot(x=y_pred, y=residuals)\n",
        "plt.axhline(y=0, color='r', linestyle='--')\n",
        "plt.xlabel(\"Predicted Sales\")\n",
        "plt.ylabel(\"Residuals\")\n",
        "plt.title(\"Residual Analysis\")\n",
        "\n",
        "plt.tight_layout()\n",
        "plt.show()\n",
        "from sklearn.metrics import mean_absolute_error\n",
        "\n",
        "# Segment analysis (example)\n",
        "store_type_segments = train_data_merged.groupby('StoreType')\n",
        "for store_type, group in store_type_segments:\n",
        "    segment_mae = mean_absolute_error(y_test, y_pred)\n",
        "    print(f\"MAE for Store Type '{store_type}': {segment_mae}\")\n"
      ],
      "id": "fbf6077d"
    },
    {
      "cell_type": "code",
      "source": [
        "train_data_merged.columns"
      ],
      "metadata": {
        "colab": {
          "base_uri": "https://localhost:8080/"
        },
        "id": "iuX-wik5su42",
        "outputId": "5a7dd545-0c66-4255-8a7c-a626a9e8c7ea"
      },
      "id": "iuX-wik5su42",
      "execution_count": 102,
      "outputs": [
        {
          "output_type": "execute_result",
          "data": {
            "text/plain": [
              "Index(['Store', 'DayOfWeek', 'Open', 'Promo', 'StateHoliday', 'SchoolHoliday',\n",
              "       'StoreType', 'Assortment', 'CompetitionDistance',\n",
              "       'CompetitionOpenSinceMonth', 'CompetitionOpenSinceYear', 'Promo2',\n",
              "       'Promo2SinceWeek', 'Promo2SinceYear', 'PromoInterval', 'weekday',\n",
              "       'is_weekend', 'SalesPerCustomer', 'Season', 'IsBeginningOfMonth',\n",
              "       'IsMidOfMonth', 'IsEndOfMonth', 'DaysToHoliday', 'DaysAfterHoliday'],\n",
              "      dtype='object')"
            ]
          },
          "metadata": {},
          "execution_count": 102
        }
      ]
    },
    {
      "cell_type": "code",
      "execution_count": 138,
      "metadata": {
        "id": "1fe505cf",
        "colab": {
          "base_uri": "https://localhost:8080/",
          "height": 1000
        },
        "outputId": "7525e9c1-ad4a-4942-c765-95fcaa82b735"
      },
      "outputs": [
        {
          "output_type": "display_data",
          "data": {
            "text/plain": [
              "<Figure size 1000x600 with 1 Axes>"
            ],
            "image/png": "[encoded data removed]"
          },
          "metadata": {}
        },
        {
          "output_type": "stream",
          "name": "stdout",
          "text": [
            "Feature Importance:\n",
            "                      Feature  Importance\n",
            "6                   StoreType    0.272641\n",
            "8         CompetitionDistance    0.173890\n",
            "0                       Store    0.105843\n",
            "3                       Promo    0.092580\n",
            "21              DaysToHoliday    0.058753\n",
            "2                        Open    0.048597\n",
            "10   CompetitionOpenSinceYear    0.048566\n",
            "9   CompetitionOpenSinceMonth    0.037819\n",
            "14              PromoInterval    0.032568\n",
            "12            Promo2SinceWeek    0.028883\n",
            "13            Promo2SinceYear    0.025276\n",
            "1                   DayOfWeek    0.015243\n",
            "7                  Assortment    0.015118\n",
            "15                    weekday    0.014671\n",
            "11                     Promo2    0.008240\n",
            "17                     Season    0.006049\n",
            "5               SchoolHoliday    0.003642\n",
            "20               IsEndOfMonth    0.003259\n",
            "19               IsMidOfMonth    0.003043\n",
            "18         IsBeginningOfMonth    0.002615\n",
            "4                StateHoliday    0.001639\n",
            "16                 is_weekend    0.001066\n",
            "22           DaysAfterHoliday    0.000000\n"
          ]
        },
        {
          "output_type": "display_data",
          "data": {
            "text/plain": [
              "<Figure size 800x600 with 1 Axes>"
            ],
            "image/png": "[encoded data removed]"
          },
          "metadata": {}
        },
        {
          "output_type": "stream",
          "name": "stdout",
          "text": [
            "Class Interval Distribution:\n",
            "Low            1017207\n",
            "Medium-Low           0\n",
            "Medium               0\n",
            "Medium-High          0\n",
            "High                 0\n",
            "Very High            0\n",
            "Name: SalesClass, dtype: int64\n"
          ]
        }
      ],
      "source": [
        "import pandas as pd\n",
        "from sklearn.ensemble import RandomForestRegressor\n",
        "import matplotlib.pyplot as plt\n",
        "\n",
        "\n",
        "\n",
        "# Define class intervals for the 'Sales' column\n",
        "class_intervals = [0, 100, 500, 1000, 5000, 10000, float('inf')]\n",
        "class_labels = ['Low', 'Medium-Low', 'Medium', 'Medium-High', 'High', 'Very High']\n",
        "\n",
        "# Apply class interval labels to 'Sales' column\n",
        "train_data_merged['SalesClass'] = pd.cut(train_data_merged['SalesPerCustomer'], bins=class_intervals, labels=class_labels)\n",
        "\n",
        "# Define features and target\n",
        "features = ['Store', 'DayOfWeek', 'Open', 'Promo', 'StateHoliday', 'SchoolHoliday',\n",
        "       'StoreType', 'Assortment', 'CompetitionDistance',\n",
        "       'CompetitionOpenSinceMonth', 'CompetitionOpenSinceYear', 'Promo2',\n",
        "       'Promo2SinceWeek', 'Promo2SinceYear', 'PromoInterval', 'weekday',\n",
        "       'is_weekend',  'Season', 'IsBeginningOfMonth',\n",
        "       'IsMidOfMonth', 'IsEndOfMonth', 'DaysToHoliday', 'DaysAfterHoliday']\n",
        "target = 'SalesPerCustomer'\n",
        "\n",
        "# Assuming train_data_merged contains your preprocessed data\n",
        "train_features = train_data_merged[features]\n",
        "train_labels = train_data_merged[target]\n",
        "\n",
        "# Train a Random Forest model\n",
        "model = RandomForestRegressor()\n",
        "model.fit(train_features, train_labels)\n",
        "\n",
        "# Retrieve feature importance scores\n",
        "feature_importance = model.feature_importances_\n",
        "\n",
        "# Create a DataFrame to hold feature names and their importance scores\n",
        "feature_importance_df = pd.DataFrame({\n",
        "    'Feature': features,\n",
        "    'Importance': feature_importance\n",
        "})\n",
        "\n",
        "# Sort features by importance\n",
        "feature_importance_df = feature_importance_df.sort_values(by='Importance', ascending=False)\n",
        "\n",
        "# Visualize feature importance\n",
        "plt.figure(figsize=(10, 6))\n",
        "plt.barh(feature_importance_df['Feature'], feature_importance_df['Importance'])\n",
        "plt.xlabel('Feature Importance')\n",
        "plt.ylabel('Feature')\n",
        "plt.title('Feature Importance from Random Forest Model')\n",
        "plt.show()\n",
        "\n",
        "print(\"Feature Importance:\")\n",
        "print(feature_importance_df)\n",
        "\n",
        "\n"
      ],
      "id": "1fe505cf"
    },
    {
      "cell_type": "code",
      "source": [
        "# Visualize feature importance\n",
        "plt.figure(figsize=(10, 6))\n",
        "plt.barh(feature_importance_df['Feature'], feature_importance_df['Importance'])\n",
        "plt.xlabel('Feature Importance')\n",
        "plt.ylabel('Feature')\n",
        "plt.title('Feature Importance from Random Forest Model')\n",
        "plt.show()\n",
        "\n",
        "print(\"Feature Importance:\")\n",
        "print(feature_importance_df)\n",
        "\n",
        "\n",
        "print(class_interval_distribution)"
      ],
      "metadata": {
        "colab": {
          "base_uri": "https://localhost:8080/",
          "height": 1000
        },
        "id": "GbbJ-9JB-EPl",
        "outputId": "501aad52-e711-419e-bc28-4647ba085562"
      },
      "id": "GbbJ-9JB-EPl",
      "execution_count": 140,
      "outputs": [
        {
          "output_type": "display_data",
          "data": {
            "text/plain": [
              "<Figure size 1000x600 with 1 Axes>"
            ],
            "image/png": "[encoded data removed]"
          },
          "metadata": {}
        },
        {
          "output_type": "stream",
          "name": "stdout",
          "text": [
            "Feature Importance:\n",
            "                      Feature  Importance\n",
            "6                   StoreType    0.272641\n",
            "8         CompetitionDistance    0.173890\n",
            "0                       Store    0.105843\n",
            "3                       Promo    0.092580\n",
            "21              DaysToHoliday    0.058753\n",
            "2                        Open    0.048597\n",
            "10   CompetitionOpenSinceYear    0.048566\n",
            "9   CompetitionOpenSinceMonth    0.037819\n",
            "14              PromoInterval    0.032568\n",
            "12            Promo2SinceWeek    0.028883\n",
            "13            Promo2SinceYear    0.025276\n",
            "1                   DayOfWeek    0.015243\n",
            "7                  Assortment    0.015118\n",
            "15                    weekday    0.014671\n",
            "11                     Promo2    0.008240\n",
            "17                     Season    0.006049\n",
            "5               SchoolHoliday    0.003642\n",
            "20               IsEndOfMonth    0.003259\n",
            "19               IsMidOfMonth    0.003043\n",
            "18         IsBeginningOfMonth    0.002615\n",
            "4                StateHoliday    0.001639\n",
            "16                 is_weekend    0.001066\n",
            "22           DaysAfterHoliday    0.000000\n",
            "Low            1017207\n",
            "Medium-Low           0\n",
            "Medium               0\n",
            "Medium-High          0\n",
            "High                 0\n",
            "Very High            0\n",
            "Name: SalesClass, dtype: int64\n"
          ]
        }
      ]
    },
    {
      "cell_type": "code",
      "execution_count": 135,
      "metadata": {
        "id": "e5d63aea"
      },
      "outputs": [],
      "source": [
        "train_data_merged.to_csv(\"train_df.csv\")"
      ],
      "id": "e5d63aea"
    },
    {
      "cell_type": "code",
      "execution_count": 136,
      "metadata": {
        "id": "0af3dfd2"
      },
      "outputs": [],
      "source": [
        "test_data_merged.to_csv(\"test_df.csv\")"
      ],
      "id": "0af3dfd2"
    },
    {
      "cell_type": "code",
      "execution_count": null,
      "metadata": {
        "id": "0c690707"
      },
      "outputs": [],
      "source": [],
      "id": "0c690707"
    },
    {
      "cell_type": "code",
      "execution_count": null,
      "metadata": {
        "id": "71db41d7"
      },
      "outputs": [],
      "source": [],
      "id": "71db41d7"
    },
    {
      "cell_type": "code",
      "execution_count": null,
      "metadata": {
        "id": "b070c067"
      },
      "outputs": [],
      "source": [],
      "id": "b070c067"
    },
    {
      "cell_type": "code",
      "execution_count": null,
      "metadata": {
        "id": "80edb3dd"
      },
      "outputs": [],
      "source": [],
      "id": "80edb3dd"
    },
    {
      "cell_type": "code",
      "execution_count": null,
      "metadata": {
        "id": "4a4fd9fc"
      },
      "outputs": [],
      "source": [],
      "id": "4a4fd9fc"
    },
    {
      "cell_type": "code",
      "execution_count": null,
      "metadata": {
        "id": "5697ef81"
      },
      "outputs": [],
      "source": [],
      "id": "5697ef81"
    },
    {
      "cell_type": "code",
      "execution_count": null,
      "metadata": {
        "id": "fba74fe1"
      },
      "outputs": [],
      "source": [],
      "id": "fba74fe1"
    },
    {
      "cell_type": "code",
      "execution_count": null,
      "metadata": {
        "id": "2af2a8e3"
      },
      "outputs": [],
      "source": [],
      "id": "2af2a8e3"
    },
    {
      "cell_type": "code",
      "execution_count": null,
      "metadata": {
        "id": "d56f64e1"
      },
      "outputs": [],
      "source": [],
      "id": "d56f64e1"
    }
  ],
  "metadata": {
    "colab": {
      "provenance": []
    },
    "kernelspec": {
      "display_name": "Python 3 (ipykernel)",
      "language": "python",
      "name": "python3"
    },
    "language_info": {
      "codemirror_mode": {
        "name": "ipython",
        "version": 3
      },
      "file_extension": ".py",
      "mimetype": "text/x-python",
      "name": "python",
      "nbconvert_exporter": "python",
      "pygments_lexer": "ipython3",
      "version": "3.11.4"
    }
  },
  "nbformat": 4,
  "nbformat_minor": 5
}